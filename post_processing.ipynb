{
  "nbformat": 4,
  "nbformat_minor": 0,
  "metadata": {
    "colab": {
      "name": "post_processing.ipynb",
      "provenance": []
    },
    "kernelspec": {
      "name": "python3",
      "display_name": "Python 3"
    },
    "widgets": {
      "application/vnd.jupyter.widget-state+json": {
        "65b06352987a4a539f713251f7dd6e3e": {
          "model_module": "@jupyter-widgets/controls",
          "model_name": "DropdownModel",
          "state": {
            "_options_labels": [
              "Matrigel coated plate 2",
              "FDA screen 113 FDA1 n1 test",
              "FDA screen 113 FDA1 n1 All wells",
              "FDA screen 113 FDA1 n1 Rest",
              "FDA screen 113 FDA n1 All wells 2",
              "FDA screen 113 FDA n1 well 1-99",
              "FDA screen 113 FDA n1 well 100-384",
              "FDA screen 113 FDA n1 well Remco",
              "FDA screen 113 FDA n1 well Remco 2"
            ],
            "_view_name": "DropdownView",
            "style": "IPY_MODEL_1d5443987669406c9a7429d8237fc40c",
            "_dom_classes": [],
            "description": "Directory:",
            "_model_name": "DropdownModel",
            "index": 0,
            "_view_module": "@jupyter-widgets/controls",
            "_model_module_version": "1.5.0",
            "_view_count": null,
            "disabled": false,
            "_view_module_version": "1.5.0",
            "description_tooltip": null,
            "_model_module": "@jupyter-widgets/controls",
            "layout": "IPY_MODEL_9501ca8cce4045e19101eda8e5735b86"
          }
        },
        "1d5443987669406c9a7429d8237fc40c": {
          "model_module": "@jupyter-widgets/controls",
          "model_name": "DescriptionStyleModel",
          "state": {
            "_view_name": "StyleView",
            "_model_name": "DescriptionStyleModel",
            "description_width": "",
            "_view_module": "@jupyter-widgets/base",
            "_model_module_version": "1.5.0",
            "_view_count": null,
            "_view_module_version": "1.2.0",
            "_model_module": "@jupyter-widgets/controls"
          }
        },
        "9501ca8cce4045e19101eda8e5735b86": {
          "model_module": "@jupyter-widgets/base",
          "model_name": "LayoutModel",
          "state": {
            "_view_name": "LayoutView",
            "grid_template_rows": null,
            "right": null,
            "justify_content": null,
            "_view_module": "@jupyter-widgets/base",
            "overflow": null,
            "_model_module_version": "1.2.0",
            "_view_count": null,
            "flex_flow": null,
            "width": null,
            "min_width": null,
            "border": null,
            "align_items": null,
            "bottom": null,
            "_model_module": "@jupyter-widgets/base",
            "top": null,
            "grid_column": null,
            "overflow_y": null,
            "overflow_x": null,
            "grid_auto_flow": null,
            "grid_area": null,
            "grid_template_columns": null,
            "flex": null,
            "_model_name": "LayoutModel",
            "justify_items": null,
            "grid_row": null,
            "max_height": null,
            "align_content": null,
            "visibility": null,
            "align_self": null,
            "height": null,
            "min_height": null,
            "padding": null,
            "grid_auto_rows": null,
            "grid_gap": null,
            "max_width": null,
            "order": null,
            "_view_module_version": "1.2.0",
            "grid_template_areas": null,
            "object_position": null,
            "object_fit": null,
            "grid_auto_columns": null,
            "margin": null,
            "display": null,
            "left": null
          }
        },
        "dbe06919760f4df98c2cc9880111c816": {
          "model_module": "@jupyter-widgets/controls",
          "model_name": "IntSliderModel",
          "state": {
            "_view_name": "IntSliderView",
            "style": "IPY_MODEL_8a38e7c1aa214fb9876b6f4b7f2c6eae",
            "_dom_classes": [],
            "description": "Memory",
            "step": 1,
            "_model_name": "IntSliderModel",
            "orientation": "horizontal",
            "max": 13,
            "_view_module": "@jupyter-widgets/controls",
            "_model_module_version": "1.5.0",
            "value": 9,
            "_view_count": null,
            "disabled": false,
            "_view_module_version": "1.5.0",
            "min": 0,
            "continuous_update": true,
            "readout_format": "d",
            "description_tooltip": "Max number of consecutive frames a organoid can be undetected before reappering",
            "readout": true,
            "_model_module": "@jupyter-widgets/controls",
            "layout": "IPY_MODEL_d75d417ccc134adfa19f196856a85518"
          }
        },
        "8a38e7c1aa214fb9876b6f4b7f2c6eae": {
          "model_module": "@jupyter-widgets/controls",
          "model_name": "SliderStyleModel",
          "state": {
            "_view_name": "StyleView",
            "handle_color": null,
            "_model_name": "SliderStyleModel",
            "description_width": "",
            "_view_module": "@jupyter-widgets/base",
            "_model_module_version": "1.5.0",
            "_view_count": null,
            "_view_module_version": "1.2.0",
            "_model_module": "@jupyter-widgets/controls"
          }
        },
        "d75d417ccc134adfa19f196856a85518": {
          "model_module": "@jupyter-widgets/base",
          "model_name": "LayoutModel",
          "state": {
            "_view_name": "LayoutView",
            "grid_template_rows": null,
            "right": null,
            "justify_content": null,
            "_view_module": "@jupyter-widgets/base",
            "overflow": null,
            "_model_module_version": "1.2.0",
            "_view_count": null,
            "flex_flow": null,
            "width": null,
            "min_width": null,
            "border": null,
            "align_items": null,
            "bottom": null,
            "_model_module": "@jupyter-widgets/base",
            "top": null,
            "grid_column": null,
            "overflow_y": null,
            "overflow_x": null,
            "grid_auto_flow": null,
            "grid_area": null,
            "grid_template_columns": null,
            "flex": null,
            "_model_name": "LayoutModel",
            "justify_items": null,
            "grid_row": null,
            "max_height": null,
            "align_content": null,
            "visibility": null,
            "align_self": null,
            "height": null,
            "min_height": null,
            "padding": null,
            "grid_auto_rows": null,
            "grid_gap": null,
            "max_width": null,
            "order": null,
            "_view_module_version": "1.2.0",
            "grid_template_areas": null,
            "object_position": null,
            "object_fit": null,
            "grid_auto_columns": null,
            "margin": null,
            "display": null,
            "left": null
          }
        },
        "7c715104a3e741e8a84383b375b7c2a2": {
          "model_module": "@jupyter-widgets/controls",
          "model_name": "IntSliderModel",
          "state": {
            "_view_name": "IntSliderView",
            "style": "IPY_MODEL_217c716675f4479bba5076e3248daf33",
            "_dom_classes": [],
            "description": "Min t steps",
            "step": 1,
            "_model_name": "IntSliderModel",
            "orientation": "horizontal",
            "max": 13,
            "_view_module": "@jupyter-widgets/controls",
            "_model_module_version": "1.5.0",
            "value": 5,
            "_view_count": null,
            "disabled": false,
            "_view_module_version": "1.5.0",
            "min": 0,
            "continuous_update": true,
            "readout_format": "d",
            "description_tooltip": "Min number of time steps an organoid has to be observed",
            "readout": true,
            "_model_module": "@jupyter-widgets/controls",
            "layout": "IPY_MODEL_60894d220189404aa5db865ba3924f01"
          }
        },
        "217c716675f4479bba5076e3248daf33": {
          "model_module": "@jupyter-widgets/controls",
          "model_name": "SliderStyleModel",
          "state": {
            "_view_name": "StyleView",
            "handle_color": null,
            "_model_name": "SliderStyleModel",
            "description_width": "",
            "_view_module": "@jupyter-widgets/base",
            "_model_module_version": "1.5.0",
            "_view_count": null,
            "_view_module_version": "1.2.0",
            "_model_module": "@jupyter-widgets/controls"
          }
        },
        "60894d220189404aa5db865ba3924f01": {
          "model_module": "@jupyter-widgets/base",
          "model_name": "LayoutModel",
          "state": {
            "_view_name": "LayoutView",
            "grid_template_rows": null,
            "right": null,
            "justify_content": null,
            "_view_module": "@jupyter-widgets/base",
            "overflow": null,
            "_model_module_version": "1.2.0",
            "_view_count": null,
            "flex_flow": null,
            "width": null,
            "min_width": null,
            "border": null,
            "align_items": null,
            "bottom": null,
            "_model_module": "@jupyter-widgets/base",
            "top": null,
            "grid_column": null,
            "overflow_y": null,
            "overflow_x": null,
            "grid_auto_flow": null,
            "grid_area": null,
            "grid_template_columns": null,
            "flex": null,
            "_model_name": "LayoutModel",
            "justify_items": null,
            "grid_row": null,
            "max_height": null,
            "align_content": null,
            "visibility": null,
            "align_self": null,
            "height": null,
            "min_height": null,
            "padding": null,
            "grid_auto_rows": null,
            "grid_gap": null,
            "max_width": null,
            "order": null,
            "_view_module_version": "1.2.0",
            "grid_template_areas": null,
            "object_position": null,
            "object_fit": null,
            "grid_auto_columns": null,
            "margin": null,
            "display": null,
            "left": null
          }
        },
        "f0f33aecc90c44d2b461b6aab2b5e007": {
          "model_module": "@jupyter-widgets/controls",
          "model_name": "IntSliderModel",
          "state": {
            "_view_name": "IntSliderView",
            "style": "IPY_MODEL_e0f8f898e54e44c99d2171159a401c14",
            "_dom_classes": [],
            "description": "Max Std Err",
            "step": 1,
            "_model_name": "IntSliderModel",
            "orientation": "horizontal",
            "max": 25,
            "_view_module": "@jupyter-widgets/controls",
            "_model_module_version": "1.5.0",
            "value": 11,
            "_view_count": null,
            "disabled": false,
            "_view_module_version": "1.5.0",
            "min": 5,
            "continuous_update": true,
            "readout_format": "d",
            "description_tooltip": "Max Std Error of fitted area incease parameter",
            "readout": true,
            "_model_module": "@jupyter-widgets/controls",
            "layout": "IPY_MODEL_2b7e6c675d8e4bdd871a062ddf496cf9"
          }
        },
        "e0f8f898e54e44c99d2171159a401c14": {
          "model_module": "@jupyter-widgets/controls",
          "model_name": "SliderStyleModel",
          "state": {
            "_view_name": "StyleView",
            "handle_color": null,
            "_model_name": "SliderStyleModel",
            "description_width": "",
            "_view_module": "@jupyter-widgets/base",
            "_model_module_version": "1.5.0",
            "_view_count": null,
            "_view_module_version": "1.2.0",
            "_model_module": "@jupyter-widgets/controls"
          }
        },
        "2b7e6c675d8e4bdd871a062ddf496cf9": {
          "model_module": "@jupyter-widgets/base",
          "model_name": "LayoutModel",
          "state": {
            "_view_name": "LayoutView",
            "grid_template_rows": null,
            "right": null,
            "justify_content": null,
            "_view_module": "@jupyter-widgets/base",
            "overflow": null,
            "_model_module_version": "1.2.0",
            "_view_count": null,
            "flex_flow": null,
            "width": null,
            "min_width": null,
            "border": null,
            "align_items": null,
            "bottom": null,
            "_model_module": "@jupyter-widgets/base",
            "top": null,
            "grid_column": null,
            "overflow_y": null,
            "overflow_x": null,
            "grid_auto_flow": null,
            "grid_area": null,
            "grid_template_columns": null,
            "flex": null,
            "_model_name": "LayoutModel",
            "justify_items": null,
            "grid_row": null,
            "max_height": null,
            "align_content": null,
            "visibility": null,
            "align_self": null,
            "height": null,
            "min_height": null,
            "padding": null,
            "grid_auto_rows": null,
            "grid_gap": null,
            "max_width": null,
            "order": null,
            "_view_module_version": "1.2.0",
            "grid_template_areas": null,
            "object_position": null,
            "object_fit": null,
            "grid_auto_columns": null,
            "margin": null,
            "display": null,
            "left": null
          }
        },
        "8cc11be5f4024203904e6f9a5a1eabc9": {
          "model_module": "@jupyter-widgets/controls",
          "model_name": "IntSliderModel",
          "state": {
            "_view_name": "IntSliderView",
            "style": "IPY_MODEL_f1d5053ac8ac4a0ca6d731f51c03eca7",
            "_dom_classes": [],
            "description": "Seed",
            "step": 1,
            "_model_name": "IntSliderModel",
            "orientation": "horizontal",
            "max": 40,
            "_view_module": "@jupyter-widgets/controls",
            "_model_module_version": "1.5.0",
            "value": 15,
            "_view_count": null,
            "disabled": false,
            "_view_module_version": "1.5.0",
            "min": 1,
            "continuous_update": true,
            "readout_format": "d",
            "description_tooltip": "Change value if parameter optimization should be performed on another image",
            "readout": true,
            "_model_module": "@jupyter-widgets/controls",
            "layout": "IPY_MODEL_92d974710f344b3c996079afa16b7ca5"
          }
        },
        "f1d5053ac8ac4a0ca6d731f51c03eca7": {
          "model_module": "@jupyter-widgets/controls",
          "model_name": "SliderStyleModel",
          "state": {
            "_view_name": "StyleView",
            "handle_color": null,
            "_model_name": "SliderStyleModel",
            "description_width": "",
            "_view_module": "@jupyter-widgets/base",
            "_model_module_version": "1.5.0",
            "_view_count": null,
            "_view_module_version": "1.2.0",
            "_model_module": "@jupyter-widgets/controls"
          }
        },
        "92d974710f344b3c996079afa16b7ca5": {
          "model_module": "@jupyter-widgets/base",
          "model_name": "LayoutModel",
          "state": {
            "_view_name": "LayoutView",
            "grid_template_rows": null,
            "right": null,
            "justify_content": null,
            "_view_module": "@jupyter-widgets/base",
            "overflow": null,
            "_model_module_version": "1.2.0",
            "_view_count": null,
            "flex_flow": null,
            "width": null,
            "min_width": null,
            "border": null,
            "align_items": null,
            "bottom": null,
            "_model_module": "@jupyter-widgets/base",
            "top": null,
            "grid_column": null,
            "overflow_y": null,
            "overflow_x": null,
            "grid_auto_flow": null,
            "grid_area": null,
            "grid_template_columns": null,
            "flex": null,
            "_model_name": "LayoutModel",
            "justify_items": null,
            "grid_row": null,
            "max_height": null,
            "align_content": null,
            "visibility": null,
            "align_self": null,
            "height": null,
            "min_height": null,
            "padding": null,
            "grid_auto_rows": null,
            "grid_gap": null,
            "max_width": null,
            "order": null,
            "_view_module_version": "1.2.0",
            "grid_template_areas": null,
            "object_position": null,
            "object_fit": null,
            "grid_auto_columns": null,
            "margin": null,
            "display": null,
            "left": null
          }
        }
      }
    }
  },
  "cells": [
    {
      "cell_type": "markdown",
      "metadata": {
        "id": "-eGbw_F5Bw1Z",
        "colab_type": "text"
      },
      "source": [
        "# Swell quantification\n",
        "\n",
        "This notebook processes `output.csv` generated by `organoid_recognition.ipnyb`. This notebook contains several steps:\n",
        "\n",
        "1. Mounting the Google Drive to access data\n",
        "2. Installing and loading dependencies \n",
        "3. Defining functions used for post-processing\n",
        "4. Combining recognized organoid data for all images\n",
        "5. Setting parameters and testing post-processing, this cell performs:\n",
        "  - Particle tracking\n",
        "  - Linear Swell regression\n",
        "  - Outlier removal based on standard error of slope parameter\n",
        "6. Save output graph and output summary\n",
        "\n",
        "Google Drive instructions\n",
        "- Ensure that the shared `OrgaSwell` directory is placed in the Google Drive root\n",
        "- Ensure that images to be quantified are placed within a subdirectory in `OrgaSwell/images`\n",
        "\n",
        "## 1. Mount the Google Drive to access data\n",
        "\n",
        "Follow the link and instructions."
      ]
    },
    {
      "cell_type": "code",
      "metadata": {
        "id": "O1xu9YD0uoJa",
        "colab_type": "code",
        "outputId": "9d80941a-090a-4823-8ef8-03514112998d",
        "colab": {
          "base_uri": "https://localhost:8080/",
          "height": 133
        }
      },
      "source": [
        "from google.colab import drive\n",
        "drive.mount('/content/drive')"
      ],
      "execution_count": 1,
      "outputs": [
        {
          "output_type": "stream",
          "text": [
            "Go to this URL in a browser: https://accounts.google.com/o/oauth2/auth?client_id=947318989803-6bn6qk8qdgf4n4g3pfee6491hc0brc4i.apps.googleusercontent.com&redirect_uri=urn%3aietf%3awg%3aoauth%3a2.0%3aoob&response_type=code&scope=email%20https%3a%2f%2fwww.googleapis.com%2fauth%2fdocs.test%20https%3a%2f%2fwww.googleapis.com%2fauth%2fdrive%20https%3a%2f%2fwww.googleapis.com%2fauth%2fdrive.photos.readonly%20https%3a%2f%2fwww.googleapis.com%2fauth%2fpeopleapi.readonly\n",
            "\n",
            "Enter your authorization code:\n",
            "··········\n",
            "Mounted at /content/drive\n"
          ],
          "name": "stdout"
        }
      ]
    },
    {
      "cell_type": "markdown",
      "metadata": {
        "id": "u3iwSvLj_vr8",
        "colab_type": "text"
      },
      "source": [
        "## 2. Installing and loading dependencies "
      ]
    },
    {
      "cell_type": "code",
      "metadata": {
        "id": "pT8B2rOEvVLh",
        "colab_type": "code",
        "outputId": "a1945ec9-ae5f-46c7-995a-b387213155f6",
        "colab": {
          "base_uri": "https://localhost:8080/",
          "height": 74
        }
      },
      "source": [
        "%cd drive/My\\ Drive/OrgaSwell\n",
        "\n",
        "!pip install -q trackpy\n",
        "\n",
        "import altair as alt\n",
        "import trackpy as tp\n",
        "import numpy as np\n",
        "import pandas as pd\n",
        "from pathlib import Path\n",
        "import ipywidgets as widgets\n",
        "import statsmodels.api as sm"
      ],
      "execution_count": 2,
      "outputs": [
        {
          "output_type": "stream",
          "text": [
            "/content/drive/My Drive/OrgaSwell\n",
            "\u001b[K     |████████████████████████████████| 133kB 9.1MB/s \n",
            "\u001b[?25h  Building wheel for trackpy (setup.py) ... \u001b[?25l\u001b[?25hdone\n"
          ],
          "name": "stdout"
        }
      ]
    },
    {
      "cell_type": "markdown",
      "metadata": {
        "id": "2iG1YW8QheiQ",
        "colab_type": "text"
      },
      "source": [
        "## 3. Defining functions used for postprocessing"
      ]
    },
    {
      "cell_type": "code",
      "metadata": {
        "id": "Zm3bjCHLLYSE",
        "colab_type": "code",
        "colab": {}
      },
      "source": [
        "def graphical_well_summary(df):\n",
        "  # Much of this code is duplicated in processing_impact_graph, can be rewritten in a single function\n",
        "\n",
        "  well_nr = df['well'].values[0]\n",
        "\n",
        "  output_filename = Path(df['parent_dir'].values[0]) / f'well_{well_nr}_graphical_summary'\n",
        "  chart = alt.Chart(df).encode(color=alt.Color('particle:N', legend=None), tooltip=['particle:N'])\n",
        "  tracking = chart.mark_point().encode(x=alt.X('x:Q', axis=alt.Axis(labels=False, ticks=False), title=None), \n",
        "                                       y=alt.Y('y:Q', axis=alt.Axis(labels=False, ticks=False), title=None))\n",
        "  \n",
        "\n",
        "  swell = chart.mark_line().encode(x='t:O', y=alt.Y('surface:Q', title='Surface (pixels^2)'))\n",
        "  swell_fitted = chart.mark_point().encode(x='t:O', y=alt.Y('y_hat', title=None))\n",
        "\n",
        "\n",
        "  df_to_plot_param = df[['well','particle','param_t']].drop_duplicates()\n",
        "  df_to_plot_param['rank'] = df_to_plot_param.groupby('well')['param_t'].rank()\n",
        "\n",
        "  bars = alt.Chart(df_to_plot_param).mark_bar()\\\n",
        "            .encode(x=alt.X('rank:O', title='particle counter'),\n",
        "                    y=alt.Y('param_t:Q',title='Swell Rate (pixel^2/frame)'),\n",
        "                    color=alt.Color('particle:N', legend=None),\n",
        "                    tooltip=['particle:N'])\n",
        "\n",
        "  (tracking | (swell + swell_fitted) | bars).save(str(output_filename) + '.html', format='html')\n",
        "\n",
        "def linear_reg(df):\n",
        "\n",
        "  y = df['surface']\n",
        "  x = df['t']\n",
        "\n",
        "  x = sm.add_constant(x)\n",
        "  model = sm.OLS(y,x).fit()\n",
        "\n",
        "  y_hat = model.predict(x)\n",
        "  df['y_hat'] = y_hat\n",
        "\n",
        "  params = model.params\n",
        "  df['param_const'] = params['const']\n",
        "  df['param_t'] = params['t']\n",
        "\n",
        "  std_err = model.HC1_se\n",
        "  df['param_const_se'] = std_err['const']\n",
        "  df['param_t_se'] = std_err['t']\n",
        "  return df\n",
        "\n",
        "def processing_impact_graph(df, seed):\n",
        "\n",
        "  # Select 3 wells to show impact of processing\n",
        "  np.random.seed(seed)\n",
        "  print(df['well'].unique())\n",
        "  wells = np.random.choice(df['well'].unique(), 3, replace=False)\n",
        "  print(wells)\n",
        "  df_to_plot = df[df['well'].isin(wells)]\n",
        "\n",
        "  df_to_plot_param = df_to_plot[['well','particle','param_t']].drop_duplicates()\n",
        "  df_to_plot_param['rank'] = df_to_plot_param.groupby('well')['param_t'].rank()\n",
        "\n",
        "  chart = alt.Chart(df_to_plot, width=300, height=200)\n",
        "  time_chart = chart.encode(x='t', color=alt.Color('particle:N',legend=None), \n",
        "                                  tooltip=['particle:N','param_t_se:Q'])\n",
        "  point = time_chart.mark_line().encode(y='surface:Q')\n",
        "  line = time_chart.mark_point().encode(y='y_hat')\n",
        "\n",
        "  bars = alt.Chart(df_to_plot_param, width=300, height=200).mark_bar()\\\n",
        "            .encode(x=alt.X('rank:O', title='particle counter'),\n",
        "                    y=alt.Y('param_t:Q',title='Swell Rate (pixel^2 / Frame)'),\n",
        "                    color=alt.Color('particle:N', legend=None),\n",
        "                    tooltip=['particle:N'])\n",
        "\n",
        "  ((point + line).facet(row = 'well').resolve_scale(y='independent') | \n",
        "   bars.facet(row='well').resolve_scale(x='independent')).display()\n",
        "\n",
        "def summary_graph(df_summ, output_dir):\n",
        "  df_summ['ruler'] = 0\n",
        "\n",
        "  chart = alt.Chart(df_summ).encode(x=alt.X('well:N'))\n",
        "\n",
        "  error_bars = chart.mark_errorbar(extent='ci').encode(y=alt.Y('param_t:Q', title=''))\n",
        "\n",
        "  points = chart.mark_point(filled=True, color='black')\\\n",
        "                .encode(y=alt.Y('param_t:Q', aggregate='mean', title='Swell rate (Pixel^2 / Frame)'),\n",
        "                        tooltip=[alt.Tooltip('count(param_t)', title='n particles'), 'well'])\n",
        "\n",
        "  ruler = chart.mark_rule(color='r').encode(y='ruler:Q')\n",
        "\n",
        "  graph = (error_bars + points + ruler)\n",
        "  graph.display()\n",
        "  graph.save(str(output_dir / 'summary.html'), format='html')"
      ],
      "execution_count": 0,
      "outputs": []
    },
    {
      "cell_type": "markdown",
      "metadata": {
        "id": "95bMHXbLynbi",
        "colab_type": "text"
      },
      "source": [
        "# 4. Combining data for all images\n",
        "\n",
        "Load csv's for each images and create output.csv for further processing. First we have to select the folder we want to analyze."
      ]
    },
    {
      "cell_type": "code",
      "metadata": {
        "id": "Gg209gX_zXKe",
        "colab_type": "code",
        "outputId": "612f10be-fe4d-4111-c64d-45e9371e59e2",
        "colab": {
          "base_uri": "https://localhost:8080/",
          "height": 49,
          "referenced_widgets": [
            "65b06352987a4a539f713251f7dd6e3e",
            "1d5443987669406c9a7429d8237fc40c",
            "9501ca8cce4045e19101eda8e5735b86"
          ]
        }
      },
      "source": [
        "slider_path = widgets.Dropdown(options=[x.name for x in Path('./images').iterdir() if x.is_dir()],\n",
        "                               description='Directory:',disabled=False)\n",
        "\n",
        "display(slider_path)"
      ],
      "execution_count": 4,
      "outputs": [
        {
          "output_type": "display_data",
          "data": {
            "application/vnd.jupyter.widget-view+json": {
              "model_id": "65b06352987a4a539f713251f7dd6e3e",
              "version_minor": 0,
              "version_major": 2
            },
            "text/plain": [
              "Dropdown(description='Directory:', options=('Matrigel coated plate 2', 'FDA screen 113 FDA1 n1 test', 'FDA scr…"
            ]
          },
          "metadata": {
            "tags": []
          }
        }
      ]
    },
    {
      "cell_type": "code",
      "metadata": {
        "id": "Y-gsV6aqyh2B",
        "colab_type": "code",
        "outputId": "80ebb48d-f3e3-40ef-af77-dad152f15974",
        "colab": {
          "base_uri": "https://localhost:8080/",
          "height": 55
        }
      },
      "source": [
        "folder_path = Path('./images') / slider_path.value\n",
        "\n",
        "print('Saving combined output csv with all data')\n",
        "# Combining all image .csv in an output .csv\n",
        "target_files = [i for i in Path(folder_path).glob('**/*.csv') if 'output' not in str(i)]\n",
        "df = pd.concat((pd.read_csv(file).assign(filename=file.stem, parent_dir=file.parent) for file in target_files), sort=False)\n",
        "df['well'] = df['filename'].str.extract(r's(\\d*)t').astype('int')\n",
        "df['t'] = df['filename'].str.extract(r't(\\d*)c').astype('int')\n",
        "df['surface'] = df['Diameter 1 (Pixels)'] * df['Diameter 2 (Pixels)'] * np.pi\n",
        "\n",
        "# Calculate centers\n",
        "df['x'] = (df['x2'] + df['x1']) / 2\n",
        "df['y'] = (df['y2'] + df['y1']) / 2\n",
        "  \n",
        "df.to_csv(folder_path / 'output.csv', sep=';', index=False)\n",
        "print('Output is saved')"
      ],
      "execution_count": 5,
      "outputs": [
        {
          "output_type": "stream",
          "text": [
            "Saving combined output csv with all data\n",
            "Output is saved\n"
          ],
          "name": "stdout"
        }
      ]
    },
    {
      "cell_type": "markdown",
      "metadata": {
        "id": "bvbMqqzZAsQn",
        "colab_type": "text"
      },
      "source": [
        "## 5. Setting parameters and testing post-processing\n",
        "\n",
        "Set parameters for particle tracking and linear regression outlier detection. Assess the set parameters based on the graph generated by the next cell."
      ]
    },
    {
      "cell_type": "code",
      "metadata": {
        "id": "SOSZ1GHcLl6h",
        "colab_type": "code",
        "outputId": "c3de0652-0afe-4d64-e8e1-e13b88ba88d0",
        "colab": {
          "base_uri": "https://localhost:8080/",
          "height": 139,
          "referenced_widgets": [
            "dbe06919760f4df98c2cc9880111c816",
            "8a38e7c1aa214fb9876b6f4b7f2c6eae",
            "d75d417ccc134adfa19f196856a85518",
            "7c715104a3e741e8a84383b375b7c2a2",
            "217c716675f4479bba5076e3248daf33",
            "60894d220189404aa5db865ba3924f01",
            "f0f33aecc90c44d2b461b6aab2b5e007",
            "e0f8f898e54e44c99d2171159a401c14",
            "2b7e6c675d8e4bdd871a062ddf496cf9",
            "8cc11be5f4024203904e6f9a5a1eabc9",
            "f1d5053ac8ac4a0ca6d731f51c03eca7",
            "92d974710f344b3c996079afa16b7ca5"
          ]
        }
      },
      "source": [
        "slider_memory  = widgets.IntSlider(value=2, min=0, max=13, description='Memory', \n",
        "                                        description_tooltip='Max number of consecutive frames a organoid can be undetected before reappering')\n",
        "\n",
        "slider_min_t_steps  = widgets.IntSlider(value=10, min=0, max=13, description='Min t steps', \n",
        "                                        description_tooltip='Min number of time steps an organoid has to be observed')\n",
        "\n",
        "slider_max_se  = widgets.IntSlider(value=11, min=5, max=25, description='Max Std Err', \n",
        "                                        description_tooltip='Max Std Error of fitted area incease parameter')\n",
        "\n",
        "slider_seed = widgets.IntSlider(value=1, min=1, max=40, step=1, description='Seed',\n",
        "                                    description_tooltip='Change value if parameter optimization should be performed on another image')\n",
        "\n",
        "display(slider_memory, slider_min_t_steps, slider_max_se, slider_seed)"
      ],
      "execution_count": 6,
      "outputs": [
        {
          "output_type": "display_data",
          "data": {
            "application/vnd.jupyter.widget-view+json": {
              "model_id": "dbe06919760f4df98c2cc9880111c816",
              "version_minor": 0,
              "version_major": 2
            },
            "text/plain": [
              "IntSlider(value=2, description='Memory', description_tooltip='Max number of consecutive frames a organoid can …"
            ]
          },
          "metadata": {
            "tags": []
          }
        },
        {
          "output_type": "display_data",
          "data": {
            "application/vnd.jupyter.widget-view+json": {
              "model_id": "7c715104a3e741e8a84383b375b7c2a2",
              "version_minor": 0,
              "version_major": 2
            },
            "text/plain": [
              "IntSlider(value=10, description='Min t steps', description_tooltip='Min number of time steps an organoid has t…"
            ]
          },
          "metadata": {
            "tags": []
          }
        },
        {
          "output_type": "display_data",
          "data": {
            "application/vnd.jupyter.widget-view+json": {
              "model_id": "f0f33aecc90c44d2b461b6aab2b5e007",
              "version_minor": 0,
              "version_major": 2
            },
            "text/plain": [
              "IntSlider(value=11, description='Max Std Err', description_tooltip='Max Std Error of fitted area incease param…"
            ]
          },
          "metadata": {
            "tags": []
          }
        },
        {
          "output_type": "display_data",
          "data": {
            "application/vnd.jupyter.widget-view+json": {
              "model_id": "8cc11be5f4024203904e6f9a5a1eabc9",
              "version_minor": 0,
              "version_major": 2
            },
            "text/plain": [
              "IntSlider(value=1, description='Seed', description_tooltip='Change value if parameter optimization should be p…"
            ]
          },
          "metadata": {
            "tags": []
          }
        }
      ]
    },
    {
      "cell_type": "code",
      "metadata": {
        "id": "teQQ7kFdoNc2",
        "colab_type": "code",
        "outputId": "6ffbf4e7-8325-428c-b744-9eaec853a159",
        "colab": {
          "base_uri": "https://localhost:8080/",
          "height": 881
        }
      },
      "source": [
        "# Parameters\n",
        "memory = slider_memory.value\n",
        "required_t_steps = slider_min_t_steps.value\n",
        "max_se = slider_max_se.value\n",
        "seed = slider_seed.value\n",
        "\n",
        "# Load data\n",
        "df = pd.read_csv(folder_path / 'output.csv', sep=';')\n",
        "\n",
        "# Calculate centers\n",
        "df['x'] = (df['x2'] + df['x1']) / 2\n",
        "df['y'] = (df['y2'] + df['y1']) / 2\n",
        "\n",
        "# Apply particle tracking\n",
        "df = df.groupby('well').apply(tp.link, search_range=20, memory=memory, t_column='t').reset_index(drop=True)\n",
        "\n",
        "# Filter for particles that have at least 10 timesteps\n",
        "df = df[df.groupby(['well','particle'])['t'].transform('count') >= required_t_steps]\n",
        "\n",
        "if len(df) == 0:\n",
        "  raise Exception('Warning: no particles are left with these settings')\n",
        "\n",
        "df = df.groupby(['well','particle']).apply(linear_reg)\n",
        "\n",
        "# Remove particles with high t_se\n",
        "df = df[df['param_t_se'] <= max_se]\n",
        "\n",
        "processing_impact_graph(df, seed)"
      ],
      "execution_count": 20,
      "outputs": [
        {
          "output_type": "stream",
          "text": [
            "Frame 9: 4 trajectories present.\n"
          ],
          "name": "stdout"
        },
        {
          "output_type": "stream",
          "text": [
            "/usr/local/lib/python3.6/dist-packages/numpy/core/fromnumeric.py:2495: FutureWarning: Method .ptp is deprecated and will be removed in a future version. Use numpy.ptp instead.\n",
            "  return ptp(axis=axis, out=out, **kwargs)\n"
          ],
          "name": "stderr"
        },
        {
          "output_type": "stream",
          "text": [
            "[ 4 17 24 28]\n",
            "[24 28 17]\n"
          ],
          "name": "stdout"
        },
        {
          "output_type": "display_data",
          "data": {
            "text/plain": [
              "alt.HConcatChart(...)"
            ],
            "text/html": [
              "\n",
              "<div id=\"altair-viz-10\"></div>\n",
              "<script type=\"text/javascript\">\n",
              "  (function(spec, embedOpt){\n",
              "    const outputDiv = document.getElementById(\"altair-viz-10\");\n",
              "    const paths = {\n",
              "      \"vega\": \"https://cdn.jsdelivr.net/npm//vega@5?noext\",\n",
              "      \"vega-lib\": \"https://cdn.jsdelivr.net/npm//vega-lib?noext\",\n",
              "      \"vega-lite\": \"https://cdn.jsdelivr.net/npm//vega-lite@4.0.0?noext\",\n",
              "      \"vega-embed\": \"https://cdn.jsdelivr.net/npm//vega-embed@6?noext\",\n",
              "    };\n",
              "\n",
              "    function loadScript(lib) {\n",
              "      return new Promise(function(resolve, reject) {\n",
              "        var s = document.createElement('script');\n",
              "        s.src = paths[lib];\n",
              "        s.async = true;\n",
              "        s.onload = () => resolve(paths[lib]);\n",
              "        s.onerror = () => reject(`Error loading script: ${paths[lib]}`);\n",
              "        document.getElementsByTagName(\"head\")[0].appendChild(s);\n",
              "      });\n",
              "    }\n",
              "\n",
              "    function showError(err) {\n",
              "      outputDiv.innerHTML = `<div class=\"error\" style=\"color:red;\">${err}</div>`;\n",
              "      throw err;\n",
              "    }\n",
              "\n",
              "    function displayChart(vegaEmbed) {\n",
              "      vegaEmbed(outputDiv, spec, embedOpt)\n",
              "        .catch(err => showError(`Javascript Error: ${err.message}<br>This usually means there's a typo in your chart specification. See the javascript console for the full traceback.`));\n",
              "    }\n",
              "\n",
              "    if(typeof define === \"function\" && define.amd) {\n",
              "      requirejs.config({paths});\n",
              "      require([\"vega-embed\"], displayChart, err => showError(`Error loading script: ${err.message}`));\n",
              "    } else if (typeof vegaEmbed === \"function\") {\n",
              "      displayChart(vegaEmbed);\n",
              "    } else {\n",
              "      loadScript(\"vega\")\n",
              "        .then(() => loadScript(\"vega-lite\"))\n",
              "        .then(() => loadScript(\"vega-embed\"))\n",
              "        .catch(showError)\n",
              "        .then(() => displayChart(vegaEmbed));\n",
              "    }\n",
              "  })({\"config\": {\"view\": {\"continuousWidth\": 400, \"continuousHeight\": 300}}, \"hconcat\": [{\"data\": {\"name\": \"data-8d162bf58e8fa25f4df4a2a561d5c344\"}, \"facet\": {\"row\": {\"type\": \"quantitative\", \"field\": \"well\"}}, \"spec\": {\"layer\": [{\"mark\": \"line\", \"encoding\": {\"color\": {\"type\": \"nominal\", \"field\": \"particle\", \"legend\": null}, \"tooltip\": [{\"type\": \"nominal\", \"field\": \"particle\"}, {\"type\": \"quantitative\", \"field\": \"param_t_se\"}], \"x\": {\"type\": \"quantitative\", \"field\": \"t\"}, \"y\": {\"type\": \"quantitative\", \"field\": \"surface\"}}, \"height\": 200, \"width\": 300}, {\"mark\": \"point\", \"encoding\": {\"color\": {\"type\": \"nominal\", \"field\": \"particle\", \"legend\": null}, \"tooltip\": [{\"type\": \"nominal\", \"field\": \"particle\"}, {\"type\": \"quantitative\", \"field\": \"param_t_se\"}], \"x\": {\"type\": \"quantitative\", \"field\": \"t\"}, \"y\": {\"type\": \"quantitative\", \"field\": \"y_hat\"}}, \"height\": 200, \"width\": 300}]}, \"resolve\": {\"scale\": {\"y\": \"independent\"}}}, {\"data\": {\"name\": \"data-1997d34c7ccb070c7895feae501d1678\"}, \"facet\": {\"row\": {\"type\": \"quantitative\", \"field\": \"well\"}}, \"spec\": {\"mark\": \"bar\", \"encoding\": {\"color\": {\"type\": \"nominal\", \"field\": \"particle\", \"legend\": null}, \"tooltip\": [{\"type\": \"nominal\", \"field\": \"particle\"}], \"x\": {\"type\": \"ordinal\", \"field\": \"rank\", \"title\": \"particle counter\"}, \"y\": {\"type\": \"quantitative\", \"field\": \"param_t\", \"title\": \"Swell Rate (pixel^2 / Frame)\"}}, \"height\": 200, \"width\": 300}, \"resolve\": {\"scale\": {\"x\": \"independent\"}}}], \"$schema\": \"https://vega.github.io/schema/vega-lite/v4.0.0.json\", \"datasets\": {\"data-8d162bf58e8fa25f4df4a2a561d5c344\": [{\"x1\": 257, \"y1\": 295, \"x2\": 281, \"y2\": 316, \"score\": 1.0, \"Diameter 1 (Pixels)\": 24, \"Diameter 2 (Pixels)\": 21, \"filename\": \"Well 17__s17t1c2.jpg\", \"parent_dir\": \"images/Matrigel coated plate 2/Well 17_\", \"well\": 17, \"t\": 1, \"surface\": 1583.3626974092556, \"x\": 269.0, \"y\": 305.5, \"particle\": 0, \"y_hat\": 1527.3725350052775, \"param_const\": 1502.292153654119, \"param_t\": 25.080381351158564, \"param_const_se\": 37.00358848842616, \"param_t_se\": 5.171211978792716}, {\"x1\": 350, \"y1\": 272, \"x2\": 361, \"y2\": 287, \"score\": 0.999923825263977, \"Diameter 1 (Pixels)\": 11, \"Diameter 2 (Pixels)\": 15, \"filename\": \"Well 17__s17t1c2.jpg\", \"parent_dir\": \"images/Matrigel coated plate 2/Well 17_\", \"well\": 17, \"t\": 1, \"surface\": 518.3627878423158, \"x\": 355.5, \"y\": 279.5, \"particle\": 4, \"y_hat\": 520.3722750351524, \"param_const\": 524.263887556491, \"param_t\": -3.8916125213386756, \"param_const_se\": 23.291774255663373, \"param_t_se\": 2.824573572323544}, {\"x1\": 307, \"y1\": 221, \"x2\": 326, \"y2\": 241, \"score\": 0.9999977946281432, \"Diameter 1 (Pixels)\": 19, \"Diameter 2 (Pixels)\": 20, \"filename\": \"Well 17__s17t1c2.jpg\", \"parent_dir\": \"images/Matrigel coated plate 2/Well 17_\", \"well\": 17, \"t\": 1, \"surface\": 1193.8052083641217, \"x\": 316.5, \"y\": 231.0, \"particle\": 6, \"y_hat\": 1245.466954223154, \"param_const\": 1206.7206448288798, \"param_t\": 38.74630939427415, \"param_const_se\": 33.770655278502716, \"param_t_se\": 6.40121618958734}, {\"x1\": 312, \"y1\": 335, \"x2\": 341, \"y2\": 364, \"score\": 0.9999998807907104, \"Diameter 1 (Pixels)\": 29, \"Diameter 2 (Pixels)\": 29, \"filename\": \"Well 17__s17t1c2.jpg\", \"parent_dir\": \"images/Matrigel coated plate 2/Well 17_\", \"well\": 17, \"t\": 1, \"surface\": 2642.079421669016, \"x\": 326.5, \"y\": 349.5, \"particle\": 8, \"y_hat\": 2608.150221010246, \"param_const\": 2566.157599207262, \"param_t\": 41.99262180298365, \"param_const_se\": 31.114472670368674, \"param_t_se\": 4.6658783081044115}, {\"x1\": 275, \"y1\": 191, \"x2\": 301, \"y2\": 215, \"score\": 1.0, \"Diameter 1 (Pixels)\": 26, \"Diameter 2 (Pixels)\": 24, \"filename\": \"Well 17__s17t1c2.jpg\", \"parent_dir\": \"images/Matrigel coated plate 2/Well 17_\", \"well\": 17, \"t\": 1, \"surface\": 1960.3538158400308, \"x\": 288.0, \"y\": 203.0, \"particle\": 9, \"y_hat\": 1892.495414522491, \"param_const\": 1884.170193990478, \"param_t\": 8.325220532012963, \"param_const_se\": 51.891902088368205, \"param_t_se\": 9.485512338551176}, {\"x1\": 311, \"y1\": 333, \"x2\": 340, \"y2\": 362, \"score\": 1.0, \"Diameter 1 (Pixels)\": 29, \"Diameter 2 (Pixels)\": 29, \"filename\": \"Well 17__s17t2c2.jpg\", \"parent_dir\": \"images/Matrigel coated plate 2/Well 17_\", \"well\": 17, \"t\": 2, \"surface\": 2642.079421669016, \"x\": 325.5, \"y\": 347.5, \"particle\": 8, \"y_hat\": 2650.1428428132294, \"param_const\": 2566.157599207262, \"param_t\": 41.99262180298365, \"param_const_se\": 31.114472670368674, \"param_t_se\": 4.6658783081044115}, {\"x1\": 306, \"y1\": 219, \"x2\": 326, \"y2\": 240, \"score\": 1.0, \"Diameter 1 (Pixels)\": 20, \"Diameter 2 (Pixels)\": 21, \"filename\": \"Well 17__s17t2c2.jpg\", \"parent_dir\": \"images/Matrigel coated plate 2/Well 17_\", \"well\": 17, \"t\": 2, \"surface\": 1319.4689145077134, \"x\": 316.0, \"y\": 229.5, \"particle\": 6, \"y_hat\": 1284.213263617428, \"param_const\": 1206.7206448288798, \"param_t\": 38.74630939427415, \"param_const_se\": 33.770655278502716, \"param_t_se\": 6.40121618958734}, {\"x1\": 294, \"y1\": 295, \"x2\": 308, \"y2\": 308, \"score\": 0.9998613595962524, \"Diameter 1 (Pixels)\": 14, \"Diameter 2 (Pixels)\": 13, \"filename\": \"Well 17__s17t2c2.jpg\", \"parent_dir\": \"images/Matrigel coated plate 2/Well 17_\", \"well\": 17, \"t\": 2, \"surface\": 571.7698629533423, \"x\": 301.0, \"y\": 301.5, \"particle\": 11, \"y_hat\": 563.3922825437692, \"param_const\": 531.6771567075294, \"param_t\": 15.857562918119875, \"param_const_se\": 15.011056288883106, \"param_t_se\": 3.3308359884208905}, {\"x1\": 367, \"y1\": 268, \"x2\": 379, \"y2\": 279, \"score\": 0.9948769807815552, \"Diameter 1 (Pixels)\": 12, \"Diameter 2 (Pixels)\": 11, \"filename\": \"Well 17__s17t2c2.jpg\", \"parent_dir\": \"images/Matrigel coated plate 2/Well 17_\", \"well\": 17, \"t\": 2, \"surface\": 414.6902302738527, \"x\": 373.0, \"y\": 273.5, \"particle\": 10, \"y_hat\": 408.9306437422711, \"param_const\": 405.63945143851043, \"param_t\": 1.6455961518803406, \"param_const_se\": 9.402508644575482, \"param_t_se\": 1.6586050195506044}, {\"x1\": 274, \"y1\": 190, \"x2\": 300, \"y2\": 213, \"score\": 1.0, \"Diameter 1 (Pixels)\": 26, \"Diameter 2 (Pixels)\": 23, \"filename\": \"Well 17__s17t2c2.jpg\", \"parent_dir\": \"images/Matrigel coated plate 2/Well 17_\", \"well\": 17, \"t\": 2, \"surface\": 1878.6724068466965, \"x\": 287.0, \"y\": 201.5, \"particle\": 9, \"y_hat\": 1900.820635054504, \"param_const\": 1884.170193990478, \"param_t\": 8.325220532012963, \"param_const_se\": 51.891902088368205, \"param_t_se\": 9.485512338551176}, {\"x1\": 349, \"y1\": 271, \"x2\": 360, \"y2\": 285, \"score\": 0.999357521533966, \"Diameter 1 (Pixels)\": 11, \"Diameter 2 (Pixels)\": 14, \"filename\": \"Well 17__s17t2c2.jpg\", \"parent_dir\": \"images/Matrigel coated plate 2/Well 17_\", \"well\": 17, \"t\": 2, \"surface\": 483.8052686528282, \"x\": 354.5, \"y\": 278.0, \"particle\": 4, \"y_hat\": 516.4806625138136, \"param_const\": 524.263887556491, \"param_t\": -3.8916125213386756, \"param_const_se\": 23.291774255663373, \"param_t_se\": 2.824573572323544}, {\"x1\": 256, \"y1\": 293, \"x2\": 278, \"y2\": 315, \"score\": 1.0, \"Diameter 1 (Pixels)\": 22, \"Diameter 2 (Pixels)\": 22, \"filename\": \"Well 17__s17t2c2.jpg\", \"parent_dir\": \"images/Matrigel coated plate 2/Well 17_\", \"well\": 17, \"t\": 2, \"surface\": 1520.53084433746, \"x\": 267.0, \"y\": 304.0, \"particle\": 0, \"y_hat\": 1552.4529163564362, \"param_const\": 1502.292153654119, \"param_t\": 25.080381351158564, \"param_const_se\": 37.00358848842616, \"param_t_se\": 5.171211978792716}, {\"x1\": 366, \"y1\": 267, \"x2\": 378, \"y2\": 278, \"score\": 0.9900893568992616, \"Diameter 1 (Pixels)\": 12, \"Diameter 2 (Pixels)\": 11, \"filename\": \"Well 17__s17t3c2.jpg\", \"parent_dir\": \"images/Matrigel coated plate 2/Well 17_\", \"well\": 17, \"t\": 3, \"surface\": 414.6902302738527, \"x\": 372.0, \"y\": 272.5, \"particle\": 10, \"y_hat\": 410.57623989415146, \"param_const\": 405.63945143851043, \"param_t\": 1.6455961518803406, \"param_const_se\": 9.402508644575482, \"param_t_se\": 1.6586050195506044}, {\"x1\": 274, \"y1\": 189, \"x2\": 300, \"y2\": 213, \"score\": 0.9999997615814208, \"Diameter 1 (Pixels)\": 26, \"Diameter 2 (Pixels)\": 24, \"filename\": \"Well 17__s17t3c2.jpg\", \"parent_dir\": \"images/Matrigel coated plate 2/Well 17_\", \"well\": 17, \"t\": 3, \"surface\": 1960.3538158400308, \"x\": 287.0, \"y\": 201.0, \"particle\": 9, \"y_hat\": 1909.145855586517, \"param_const\": 1884.170193990478, \"param_t\": 8.325220532012963, \"param_const_se\": 51.891902088368205, \"param_t_se\": 9.485512338551176}, {\"x1\": 294, \"y1\": 295, \"x2\": 308, \"y2\": 308, \"score\": 0.9999998211860656, \"Diameter 1 (Pixels)\": 14, \"Diameter 2 (Pixels)\": 13, \"filename\": \"Well 17__s17t3c2.jpg\", \"parent_dir\": \"images/Matrigel coated plate 2/Well 17_\", \"well\": 17, \"t\": 3, \"surface\": 571.7698629533423, \"x\": 301.0, \"y\": 301.5, \"particle\": 11, \"y_hat\": 579.2498454618891, \"param_const\": 531.6771567075294, \"param_t\": 15.857562918119875, \"param_const_se\": 15.011056288883106, \"param_t_se\": 3.3308359884208905}, {\"x1\": 306, \"y1\": 218, \"x2\": 325, \"y2\": 240, \"score\": 0.9999998807907104, \"Diameter 1 (Pixels)\": 19, \"Diameter 2 (Pixels)\": 22, \"filename\": \"Well 17__s17t3c2.jpg\", \"parent_dir\": \"images/Matrigel coated plate 2/Well 17_\", \"well\": 17, \"t\": 3, \"surface\": 1313.1857292005334, \"x\": 315.5, \"y\": 229.0, \"particle\": 6, \"y_hat\": 1322.9595730117023, \"param_const\": 1206.7206448288798, \"param_t\": 38.74630939427415, \"param_const_se\": 33.770655278502716, \"param_t_se\": 6.40121618958734}, {\"x1\": 311, \"y1\": 333, \"x2\": 341, \"y2\": 362, \"score\": 1.0, \"Diameter 1 (Pixels)\": 30, \"Diameter 2 (Pixels)\": 29, \"filename\": \"Well 17__s17t3c2.jpg\", \"parent_dir\": \"images/Matrigel coated plate 2/Well 17_\", \"well\": 17, \"t\": 3, \"surface\": 2733.1856086231196, \"x\": 326.0, \"y\": 347.5, \"particle\": 8, \"y_hat\": 2692.135464616213, \"param_const\": 2566.157599207262, \"param_t\": 41.99262180298365, \"param_const_se\": 31.114472670368674, \"param_t_se\": 4.6658783081044115}, {\"x1\": 256, \"y1\": 293, \"x2\": 279, \"y2\": 315, \"score\": 1.0, \"Diameter 1 (Pixels)\": 23, \"Diameter 2 (Pixels)\": 22, \"filename\": \"Well 17__s17t3c2.jpg\", \"parent_dir\": \"images/Matrigel coated plate 2/Well 17_\", \"well\": 17, \"t\": 3, \"surface\": 1589.6458827164356, \"x\": 267.5, \"y\": 304.0, \"particle\": 0, \"y_hat\": 1577.5332977075946, \"param_const\": 1502.292153654119, \"param_t\": 25.080381351158564, \"param_const_se\": 37.00358848842616, \"param_t_se\": 5.171211978792716}, {\"x1\": 274, \"y1\": 190, \"x2\": 299, \"y2\": 213, \"score\": 0.9999996423721312, \"Diameter 1 (Pixels)\": 25, \"Diameter 2 (Pixels)\": 23, \"filename\": \"Well 17__s17t4c2.jpg\", \"parent_dir\": \"images/Matrigel coated plate 2/Well 17_\", \"well\": 17, \"t\": 4, \"surface\": 1806.415775814131, \"x\": 286.5, \"y\": 201.5, \"particle\": 9, \"y_hat\": 1917.47107611853, \"param_const\": 1884.170193990478, \"param_t\": 8.325220532012963, \"param_const_se\": 51.891902088368205, \"param_t_se\": 9.485512338551176}, {\"x1\": 256, \"y1\": 293, \"x2\": 279, \"y2\": 314, \"score\": 0.9999992251396179, \"Diameter 1 (Pixels)\": 23, \"Diameter 2 (Pixels)\": 21, \"filename\": \"Well 17__s17t4c2.jpg\", \"parent_dir\": \"images/Matrigel coated plate 2/Well 17_\", \"well\": 17, \"t\": 4, \"surface\": 1517.38925168387, \"x\": 267.5, \"y\": 303.5, \"particle\": 0, \"y_hat\": 1602.6136790587532, \"param_const\": 1502.292153654119, \"param_t\": 25.080381351158564, \"param_const_se\": 37.00358848842616, \"param_t_se\": 5.171211978792716}, {\"x1\": 349, \"y1\": 270, \"x2\": 361, \"y2\": 285, \"score\": 0.9999812841415404, \"Diameter 1 (Pixels)\": 12, \"Diameter 2 (Pixels)\": 15, \"filename\": \"Well 17__s17t4c2.jpg\", \"parent_dir\": \"images/Matrigel coated plate 2/Well 17_\", \"well\": 17, \"t\": 4, \"surface\": 565.4866776461628, \"x\": 355.0, \"y\": 277.5, \"particle\": 4, \"y_hat\": 508.6974374711363, \"param_const\": 524.263887556491, \"param_t\": -3.8916125213386756, \"param_const_se\": 23.291774255663373, \"param_t_se\": 2.824573572323544}, {\"x1\": 311, \"y1\": 333, \"x2\": 340, \"y2\": 362, \"score\": 1.0, \"Diameter 1 (Pixels)\": 29, \"Diameter 2 (Pixels)\": 29, \"filename\": \"Well 17__s17t4c2.jpg\", \"parent_dir\": \"images/Matrigel coated plate 2/Well 17_\", \"well\": 17, \"t\": 4, \"surface\": 2642.079421669016, \"x\": 325.5, \"y\": 347.5, \"particle\": 8, \"y_hat\": 2734.1280864191967, \"param_const\": 2566.157599207262, \"param_t\": 41.99262180298365, \"param_const_se\": 31.114472670368674, \"param_t_se\": 4.6658783081044115}, {\"x1\": 367, \"y1\": 267, \"x2\": 379, \"y2\": 278, \"score\": 0.9965763092041016, \"Diameter 1 (Pixels)\": 12, \"Diameter 2 (Pixels)\": 11, \"filename\": \"Well 17__s17t4c2.jpg\", \"parent_dir\": \"images/Matrigel coated plate 2/Well 17_\", \"well\": 17, \"t\": 4, \"surface\": 414.6902302738527, \"x\": 373.0, \"y\": 272.5, \"particle\": 10, \"y_hat\": 412.2218360460318, \"param_const\": 405.63945143851043, \"param_t\": 1.6455961518803406, \"param_const_se\": 9.402508644575482, \"param_t_se\": 1.6586050195506044}, {\"x1\": 294, \"y1\": 295, \"x2\": 309, \"y2\": 308, \"score\": 1.0, \"Diameter 1 (Pixels)\": 15, \"Diameter 2 (Pixels)\": 13, \"filename\": \"Well 17__s17t4c2.jpg\", \"parent_dir\": \"images/Matrigel coated plate 2/Well 17_\", \"well\": 17, \"t\": 4, \"surface\": 612.6105674500096, \"x\": 301.5, \"y\": 301.5, \"particle\": 11, \"y_hat\": 595.1074083800089, \"param_const\": 531.6771567075294, \"param_t\": 15.857562918119875, \"param_const_se\": 15.011056288883106, \"param_t_se\": 3.3308359884208905}, {\"x1\": 306, \"y1\": 218, \"x2\": 326, \"y2\": 240, \"score\": 1.0, \"Diameter 1 (Pixels)\": 20, \"Diameter 2 (Pixels)\": 22, \"filename\": \"Well 17__s17t4c2.jpg\", \"parent_dir\": \"images/Matrigel coated plate 2/Well 17_\", \"well\": 17, \"t\": 4, \"surface\": 1382.300767579509, \"x\": 316.0, \"y\": 229.0, \"particle\": 6, \"y_hat\": 1361.7058824059764, \"param_const\": 1206.7206448288798, \"param_t\": 38.74630939427415, \"param_const_se\": 33.770655278502716, \"param_t_se\": 6.40121618958734}, {\"x1\": 367, \"y1\": 267, \"x2\": 378, \"y2\": 278, \"score\": 0.937531352043152, \"Diameter 1 (Pixels)\": 11, \"Diameter 2 (Pixels)\": 11, \"filename\": \"Well 17__s17t5c2.jpg\", \"parent_dir\": \"images/Matrigel coated plate 2/Well 17_\", \"well\": 17, \"t\": 5, \"surface\": 380.132711084365, \"x\": 372.5, \"y\": 272.5, \"particle\": 10, \"y_hat\": 413.86743219791214, \"param_const\": 405.63945143851043, \"param_t\": 1.6455961518803406, \"param_const_se\": 9.402508644575482, \"param_t_se\": 1.6586050195506044}, {\"x1\": 349, \"y1\": 270, \"x2\": 360, \"y2\": 284, \"score\": 0.9988263249397278, \"Diameter 1 (Pixels)\": 11, \"Diameter 2 (Pixels)\": 14, \"filename\": \"Well 17__s17t5c2.jpg\", \"parent_dir\": \"images/Matrigel coated plate 2/Well 17_\", \"well\": 17, \"t\": 5, \"surface\": 483.8052686528282, \"x\": 354.5, \"y\": 277.0, \"particle\": 4, \"y_hat\": 504.8058249497976, \"param_const\": 524.263887556491, \"param_t\": -3.8916125213386756, \"param_const_se\": 23.291774255663373, \"param_t_se\": 2.824573572323544}, {\"x1\": 294, \"y1\": 295, \"x2\": 309, \"y2\": 308, \"score\": 0.9999998807907104, \"Diameter 1 (Pixels)\": 15, \"Diameter 2 (Pixels)\": 13, \"filename\": \"Well 17__s17t5c2.jpg\", \"parent_dir\": \"images/Matrigel coated plate 2/Well 17_\", \"well\": 17, \"t\": 5, \"surface\": 612.6105674500096, \"x\": 301.5, \"y\": 301.5, \"particle\": 11, \"y_hat\": 610.9649712981288, \"param_const\": 531.6771567075294, \"param_t\": 15.857562918119875, \"param_const_se\": 15.011056288883106, \"param_t_se\": 3.3308359884208905}, {\"x1\": 305, \"y1\": 218, \"x2\": 326, \"y2\": 240, \"score\": 1.0, \"Diameter 1 (Pixels)\": 21, \"Diameter 2 (Pixels)\": 22, \"filename\": \"Well 17__s17t5c2.jpg\", \"parent_dir\": \"images/Matrigel coated plate 2/Well 17_\", \"well\": 17, \"t\": 5, \"surface\": 1451.4158059584845, \"x\": 315.5, \"y\": 229.0, \"particle\": 6, \"y_hat\": 1400.4521918002506, \"param_const\": 1206.7206448288798, \"param_t\": 38.74630939427415, \"param_const_se\": 33.770655278502716, \"param_t_se\": 6.40121618958734}, {\"x1\": 256, \"y1\": 292, \"x2\": 280, \"y2\": 314, \"score\": 1.0, \"Diameter 1 (Pixels)\": 24, \"Diameter 2 (Pixels)\": 22, \"filename\": \"Well 17__s17t5c2.jpg\", \"parent_dir\": \"images/Matrigel coated plate 2/Well 17_\", \"well\": 17, \"t\": 5, \"surface\": 1658.7609210954108, \"x\": 268.0, \"y\": 303.0, \"particle\": 0, \"y_hat\": 1627.6940604099118, \"param_const\": 1502.292153654119, \"param_t\": 25.080381351158564, \"param_const_se\": 37.00358848842616, \"param_t_se\": 5.171211978792716}, {\"x1\": 274, \"y1\": 190, \"x2\": 300, \"y2\": 213, \"score\": 1.0, \"Diameter 1 (Pixels)\": 26, \"Diameter 2 (Pixels)\": 23, \"filename\": \"Well 17__s17t5c2.jpg\", \"parent_dir\": \"images/Matrigel coated plate 2/Well 17_\", \"well\": 17, \"t\": 5, \"surface\": 1878.6724068466965, \"x\": 287.0, \"y\": 201.5, \"particle\": 9, \"y_hat\": 1925.796296650543, \"param_const\": 1884.170193990478, \"param_t\": 8.325220532012963, \"param_const_se\": 51.891902088368205, \"param_t_se\": 9.485512338551176}, {\"x1\": 311, \"y1\": 332, \"x2\": 340, \"y2\": 362, \"score\": 1.0, \"Diameter 1 (Pixels)\": 29, \"Diameter 2 (Pixels)\": 30, \"filename\": \"Well 17__s17t5c2.jpg\", \"parent_dir\": \"images/Matrigel coated plate 2/Well 17_\", \"well\": 17, \"t\": 5, \"surface\": 2733.1856086231196, \"x\": 325.5, \"y\": 347.0, \"particle\": 8, \"y_hat\": 2776.1207082221804, \"param_const\": 2566.157599207262, \"param_t\": 41.99262180298365, \"param_const_se\": 31.114472670368674, \"param_t_se\": 4.6658783081044115}, {\"x1\": 294, \"y1\": 295, \"x2\": 309, \"y2\": 308, \"score\": 1.0, \"Diameter 1 (Pixels)\": 15, \"Diameter 2 (Pixels)\": 13, \"filename\": \"Well 17__s17t6c2.jpg\", \"parent_dir\": \"images/Matrigel coated plate 2/Well 17_\", \"well\": 17, \"t\": 6, \"surface\": 612.6105674500096, \"x\": 301.5, \"y\": 301.5, \"particle\": 11, \"y_hat\": 626.8225342162486, \"param_const\": 531.6771567075294, \"param_t\": 15.857562918119875, \"param_const_se\": 15.011056288883106, \"param_t_se\": 3.3308359884208905}, {\"x1\": 274, \"y1\": 189, \"x2\": 300, \"y2\": 213, \"score\": 1.0, \"Diameter 1 (Pixels)\": 26, \"Diameter 2 (Pixels)\": 24, \"filename\": \"Well 17__s17t6c2.jpg\", \"parent_dir\": \"images/Matrigel coated plate 2/Well 17_\", \"well\": 17, \"t\": 6, \"surface\": 1960.3538158400308, \"x\": 287.0, \"y\": 201.0, \"particle\": 9, \"y_hat\": 1934.1215171825559, \"param_const\": 1884.170193990478, \"param_t\": 8.325220532012963, \"param_const_se\": 51.891902088368205, \"param_t_se\": 9.485512338551176}, {\"x1\": 310, \"y1\": 332, \"x2\": 340, \"y2\": 362, \"score\": 1.0, \"Diameter 1 (Pixels)\": 30, \"Diameter 2 (Pixels)\": 30, \"filename\": \"Well 17__s17t6c2.jpg\", \"parent_dir\": \"images/Matrigel coated plate 2/Well 17_\", \"well\": 17, \"t\": 6, \"surface\": 2827.4333882308138, \"x\": 325.0, \"y\": 347.0, \"particle\": 8, \"y_hat\": 2818.113330025164, \"param_const\": 2566.157599207262, \"param_t\": 41.99262180298365, \"param_const_se\": 31.114472670368674, \"param_t_se\": 4.6658783081044115}, {\"x1\": 305, \"y1\": 218, \"x2\": 326, \"y2\": 240, \"score\": 1.0, \"Diameter 1 (Pixels)\": 21, \"Diameter 2 (Pixels)\": 22, \"filename\": \"Well 17__s17t6c2.jpg\", \"parent_dir\": \"images/Matrigel coated plate 2/Well 17_\", \"well\": 17, \"t\": 6, \"surface\": 1451.4158059584845, \"x\": 315.5, \"y\": 229.0, \"particle\": 6, \"y_hat\": 1439.1985011945246, \"param_const\": 1206.7206448288798, \"param_t\": 38.74630939427415, \"param_const_se\": 33.770655278502716, \"param_t_se\": 6.40121618958734}, {\"x1\": 256, \"y1\": 292, \"x2\": 280, \"y2\": 314, \"score\": 1.0, \"Diameter 1 (Pixels)\": 24, \"Diameter 2 (Pixels)\": 22, \"filename\": \"Well 17__s17t6c2.jpg\", \"parent_dir\": \"images/Matrigel coated plate 2/Well 17_\", \"well\": 17, \"t\": 6, \"surface\": 1658.7609210954108, \"x\": 268.0, \"y\": 303.0, \"particle\": 0, \"y_hat\": 1652.7744417610702, \"param_const\": 1502.292153654119, \"param_t\": 25.080381351158564, \"param_const_se\": 37.00358848842616, \"param_t_se\": 5.171211978792716}, {\"x1\": 349, \"y1\": 270, \"x2\": 361, \"y2\": 284, \"score\": 0.9994101524353028, \"Diameter 1 (Pixels)\": 12, \"Diameter 2 (Pixels)\": 14, \"filename\": \"Well 17__s17t6c2.jpg\", \"parent_dir\": \"images/Matrigel coated plate 2/Well 17_\", \"well\": 17, \"t\": 6, \"surface\": 527.7875658030853, \"x\": 355.0, \"y\": 277.0, \"particle\": 4, \"y_hat\": 500.91421242845894, \"param_const\": 524.263887556491, \"param_t\": -3.8916125213386756, \"param_const_se\": 23.291774255663373, \"param_t_se\": 2.824573572323544}, {\"x1\": 367, \"y1\": 267, \"x2\": 379, \"y2\": 278, \"score\": 0.9983608722686768, \"Diameter 1 (Pixels)\": 12, \"Diameter 2 (Pixels)\": 11, \"filename\": \"Well 17__s17t6c2.jpg\", \"parent_dir\": \"images/Matrigel coated plate 2/Well 17_\", \"well\": 17, \"t\": 6, \"surface\": 414.6902302738527, \"x\": 373.0, \"y\": 272.5, \"particle\": 10, \"y_hat\": 415.5130283497925, \"param_const\": 405.63945143851043, \"param_t\": 1.6455961518803406, \"param_const_se\": 9.402508644575482, \"param_t_se\": 1.6586050195506044}, {\"x1\": 274, \"y1\": 189, \"x2\": 300, \"y2\": 213, \"score\": 1.0, \"Diameter 1 (Pixels)\": 26, \"Diameter 2 (Pixels)\": 24, \"filename\": \"Well 17__s17t7c2.jpg\", \"parent_dir\": \"images/Matrigel coated plate 2/Well 17_\", \"well\": 17, \"t\": 7, \"surface\": 1960.3538158400308, \"x\": 287.0, \"y\": 201.0, \"particle\": 9, \"y_hat\": 1942.4467377145688, \"param_const\": 1884.170193990478, \"param_t\": 8.325220532012963, \"param_const_se\": 51.891902088368205, \"param_t_se\": 9.485512338551176}, {\"x1\": 256, \"y1\": 292, \"x2\": 280, \"y2\": 314, \"score\": 1.0, \"Diameter 1 (Pixels)\": 24, \"Diameter 2 (Pixels)\": 22, \"filename\": \"Well 17__s17t7c2.jpg\", \"parent_dir\": \"images/Matrigel coated plate 2/Well 17_\", \"well\": 17, \"t\": 7, \"surface\": 1658.7609210954108, \"x\": 268.0, \"y\": 303.0, \"particle\": 0, \"y_hat\": 1677.8548231122288, \"param_const\": 1502.292153654119, \"param_t\": 25.080381351158564, \"param_const_se\": 37.00358848842616, \"param_t_se\": 5.171211978792716}, {\"x1\": 349, \"y1\": 270, \"x2\": 360, \"y2\": 284, \"score\": 0.999700665473938, \"Diameter 1 (Pixels)\": 11, \"Diameter 2 (Pixels)\": 14, \"filename\": \"Well 17__s17t7c2.jpg\", \"parent_dir\": \"images/Matrigel coated plate 2/Well 17_\", \"well\": 17, \"t\": 7, \"surface\": 483.8052686528282, \"x\": 354.5, \"y\": 277.0, \"particle\": 4, \"y_hat\": 497.02259990712025, \"param_const\": 524.263887556491, \"param_t\": -3.8916125213386756, \"param_const_se\": 23.291774255663373, \"param_t_se\": 2.824573572323544}, {\"x1\": 294, \"y1\": 295, \"x2\": 309, \"y2\": 308, \"score\": 0.9999992251396179, \"Diameter 1 (Pixels)\": 15, \"Diameter 2 (Pixels)\": 13, \"filename\": \"Well 17__s17t7c2.jpg\", \"parent_dir\": \"images/Matrigel coated plate 2/Well 17_\", \"well\": 17, \"t\": 7, \"surface\": 612.6105674500096, \"x\": 301.5, \"y\": 301.5, \"particle\": 11, \"y_hat\": 642.6800971343686, \"param_const\": 531.6771567075294, \"param_t\": 15.857562918119875, \"param_const_se\": 15.011056288883106, \"param_t_se\": 3.3308359884208905}, {\"x1\": 305, \"y1\": 218, \"x2\": 326, \"y2\": 240, \"score\": 1.0, \"Diameter 1 (Pixels)\": 21, \"Diameter 2 (Pixels)\": 22, \"filename\": \"Well 17__s17t7c2.jpg\", \"parent_dir\": \"images/Matrigel coated plate 2/Well 17_\", \"well\": 17, \"t\": 7, \"surface\": 1451.4158059584845, \"x\": 315.5, \"y\": 229.0, \"particle\": 6, \"y_hat\": 1477.9448105887989, \"param_const\": 1206.7206448288798, \"param_t\": 38.74630939427415, \"param_const_se\": 33.770655278502716, \"param_t_se\": 6.40121618958734}, {\"x1\": 310, \"y1\": 332, \"x2\": 341, \"y2\": 362, \"score\": 1.0, \"Diameter 1 (Pixels)\": 31, \"Diameter 2 (Pixels)\": 30, \"filename\": \"Well 17__s17t7c2.jpg\", \"parent_dir\": \"images/Matrigel coated plate 2/Well 17_\", \"well\": 17, \"t\": 7, \"surface\": 2921.681167838508, \"x\": 325.5, \"y\": 347.0, \"particle\": 8, \"y_hat\": 2860.1059518281477, \"param_const\": 2566.157599207262, \"param_t\": 41.99262180298365, \"param_const_se\": 31.114472670368674, \"param_t_se\": 4.6658783081044115}, {\"x1\": 366, \"y1\": 267, \"x2\": 379, \"y2\": 278, \"score\": 0.9944173097610474, \"Diameter 1 (Pixels)\": 13, \"Diameter 2 (Pixels)\": 11, \"filename\": \"Well 17__s17t7c2.jpg\", \"parent_dir\": \"images/Matrigel coated plate 2/Well 17_\", \"well\": 17, \"t\": 7, \"surface\": 449.24774946334037, \"x\": 372.5, \"y\": 272.5, \"particle\": 10, \"y_hat\": 417.1586245016728, \"param_const\": 405.63945143851043, \"param_t\": 1.6455961518803406, \"param_const_se\": 9.402508644575482, \"param_t_se\": 1.6586050195506044}, {\"x1\": 310, \"y1\": 332, \"x2\": 341, \"y2\": 362, \"score\": 1.0, \"Diameter 1 (Pixels)\": 31, \"Diameter 2 (Pixels)\": 30, \"filename\": \"Well 17__s17t8c2.jpg\", \"parent_dir\": \"images/Matrigel coated plate 2/Well 17_\", \"well\": 17, \"t\": 8, \"surface\": 2921.681167838508, \"x\": 325.5, \"y\": 347.0, \"particle\": 8, \"y_hat\": 2902.0985736311313, \"param_const\": 2566.157599207262, \"param_t\": 41.99262180298365, \"param_const_se\": 31.114472670368674, \"param_t_se\": 4.6658783081044115}, {\"x1\": 305, \"y1\": 218, \"x2\": 326, \"y2\": 240, \"score\": 1.0, \"Diameter 1 (Pixels)\": 21, \"Diameter 2 (Pixels)\": 22, \"filename\": \"Well 17__s17t8c2.jpg\", \"parent_dir\": \"images/Matrigel coated plate 2/Well 17_\", \"well\": 17, \"t\": 8, \"surface\": 1451.4158059584845, \"x\": 315.5, \"y\": 229.0, \"particle\": 6, \"y_hat\": 1516.691119983073, \"param_const\": 1206.7206448288798, \"param_t\": 38.74630939427415, \"param_const_se\": 33.770655278502716, \"param_t_se\": 6.40121618958734}, {\"x1\": 349, \"y1\": 270, \"x2\": 360, \"y2\": 284, \"score\": 0.9999987483024596, \"Diameter 1 (Pixels)\": 11, \"Diameter 2 (Pixels)\": 14, \"filename\": \"Well 17__s17t8c2.jpg\", \"parent_dir\": \"images/Matrigel coated plate 2/Well 17_\", \"well\": 17, \"t\": 8, \"surface\": 483.8052686528282, \"x\": 354.5, \"y\": 277.0, \"particle\": 4, \"y_hat\": 493.1309873857816, \"param_const\": 524.263887556491, \"param_t\": -3.8916125213386756, \"param_const_se\": 23.291774255663373, \"param_t_se\": 2.824573572323544}, {\"x1\": 293, \"y1\": 294, \"x2\": 309, \"y2\": 307, \"score\": 0.9999964833259584, \"Diameter 1 (Pixels)\": 16, \"Diameter 2 (Pixels)\": 13, \"filename\": \"Well 17__s17t8c2.jpg\", \"parent_dir\": \"images/Matrigel coated plate 2/Well 17_\", \"well\": 17, \"t\": 8, \"surface\": 653.451271946677, \"x\": 301.0, \"y\": 300.5, \"particle\": 11, \"y_hat\": 658.5376600524885, \"param_const\": 531.6771567075294, \"param_t\": 15.857562918119875, \"param_const_se\": 15.011056288883106, \"param_t_se\": 3.3308359884208905}, {\"x1\": 255, \"y1\": 292, \"x2\": 280, \"y2\": 314, \"score\": 0.9999802112579346, \"Diameter 1 (Pixels)\": 25, \"Diameter 2 (Pixels)\": 22, \"filename\": \"Well 17__s17t8c2.jpg\", \"parent_dir\": \"images/Matrigel coated plate 2/Well 17_\", \"well\": 17, \"t\": 8, \"surface\": 1727.8759594743865, \"x\": 267.5, \"y\": 303.0, \"particle\": 0, \"y_hat\": 1702.9352044633874, \"param_const\": 1502.292153654119, \"param_t\": 25.080381351158564, \"param_const_se\": 37.00358848842616, \"param_t_se\": 5.171211978792716}, {\"x1\": 367, \"y1\": 267, \"x2\": 379, \"y2\": 278, \"score\": 0.9995611906051636, \"Diameter 1 (Pixels)\": 12, \"Diameter 2 (Pixels)\": 11, \"filename\": \"Well 17__s17t8c2.jpg\", \"parent_dir\": \"images/Matrigel coated plate 2/Well 17_\", \"well\": 17, \"t\": 8, \"surface\": 414.6902302738527, \"x\": 373.0, \"y\": 272.5, \"particle\": 10, \"y_hat\": 418.80422065355316, \"param_const\": 405.63945143851043, \"param_t\": 1.6455961518803406, \"param_const_se\": 9.402508644575482, \"param_t_se\": 1.6586050195506044}, {\"x1\": 274, \"y1\": 189, \"x2\": 299, \"y2\": 213, \"score\": 1.0, \"Diameter 1 (Pixels)\": 25, \"Diameter 2 (Pixels)\": 24, \"filename\": \"Well 17__s17t8c2.jpg\", \"parent_dir\": \"images/Matrigel coated plate 2/Well 17_\", \"well\": 17, \"t\": 8, \"surface\": 1884.955592153876, \"x\": 286.5, \"y\": 201.0, \"particle\": 9, \"y_hat\": 1950.7719582465818, \"param_const\": 1884.170193990478, \"param_t\": 8.325220532012963, \"param_const_se\": 51.891902088368205, \"param_t_se\": 9.485512338551176}, {\"x1\": 349, \"y1\": 270, \"x2\": 360, \"y2\": 284, \"score\": 0.999991536140442, \"Diameter 1 (Pixels)\": 11, \"Diameter 2 (Pixels)\": 14, \"filename\": \"Well 17__s17t9c2.jpg\", \"parent_dir\": \"images/Matrigel coated plate 2/Well 17_\", \"well\": 17, \"t\": 9, \"surface\": 483.8052686528282, \"x\": 354.5, \"y\": 277.0, \"particle\": 4, \"y_hat\": 489.23937486444294, \"param_const\": 524.263887556491, \"param_t\": -3.8916125213386756, \"param_const_se\": 23.291774255663373, \"param_t_se\": 2.824573572323544}, {\"x1\": 310, \"y1\": 332, \"x2\": 341, \"y2\": 362, \"score\": 1.0, \"Diameter 1 (Pixels)\": 31, \"Diameter 2 (Pixels)\": 30, \"filename\": \"Well 17__s17t9c2.jpg\", \"parent_dir\": \"images/Matrigel coated plate 2/Well 17_\", \"well\": 17, \"t\": 9, \"surface\": 2921.681167838508, \"x\": 325.5, \"y\": 347.0, \"particle\": 8, \"y_hat\": 2944.091195434115, \"param_const\": 2566.157599207262, \"param_t\": 41.99262180298365, \"param_const_se\": 31.114472670368674, \"param_t_se\": 4.6658783081044115}, {\"x1\": 304, \"y1\": 217, \"x2\": 326, \"y2\": 240, \"score\": 1.0, \"Diameter 1 (Pixels)\": 22, \"Diameter 2 (Pixels)\": 23, \"filename\": \"Well 17__s17t9c2.jpg\", \"parent_dir\": \"images/Matrigel coated plate 2/Well 17_\", \"well\": 17, \"t\": 9, \"surface\": 1589.6458827164356, \"x\": 315.0, \"y\": 228.5, \"particle\": 6, \"y_hat\": 1555.4374293773471, \"param_const\": 1206.7206448288798, \"param_t\": 38.74630939427415, \"param_const_se\": 33.770655278502716, \"param_t_se\": 6.40121618958734}, {\"x1\": 293, \"y1\": 294, \"x2\": 309, \"y2\": 308, \"score\": 0.9999682903289796, \"Diameter 1 (Pixels)\": 16, \"Diameter 2 (Pixels)\": 14, \"filename\": \"Well 17__s17t9c2.jpg\", \"parent_dir\": \"images/Matrigel coated plate 2/Well 17_\", \"well\": 17, \"t\": 9, \"surface\": 703.7167544041138, \"x\": 301.0, \"y\": 301.0, \"particle\": 11, \"y_hat\": 674.3952229706083, \"param_const\": 531.6771567075294, \"param_t\": 15.857562918119875, \"param_const_se\": 15.011056288883106, \"param_t_se\": 3.3308359884208905}, {\"x1\": 256, \"y1\": 292, \"x2\": 280, \"y2\": 315, \"score\": 0.9993566274642944, \"Diameter 1 (Pixels)\": 24, \"Diameter 2 (Pixels)\": 23, \"filename\": \"Well 17__s17t9c2.jpg\", \"parent_dir\": \"images/Matrigel coated plate 2/Well 17_\", \"well\": 17, \"t\": 9, \"surface\": 1734.1591447815658, \"x\": 268.0, \"y\": 303.5, \"particle\": 0, \"y_hat\": 1728.015585814546, \"param_const\": 1502.292153654119, \"param_t\": 25.080381351158564, \"param_const_se\": 37.00358848842616, \"param_t_se\": 5.171211978792716}, {\"x1\": 367, \"y1\": 267, \"x2\": 379, \"y2\": 278, \"score\": 0.9966338276863098, \"Diameter 1 (Pixels)\": 12, \"Diameter 2 (Pixels)\": 11, \"filename\": \"Well 17__s17t9c2.jpg\", \"parent_dir\": \"images/Matrigel coated plate 2/Well 17_\", \"well\": 17, \"t\": 9, \"surface\": 414.6902302738527, \"x\": 373.0, \"y\": 272.5, \"particle\": 10, \"y_hat\": 420.4498168054335, \"param_const\": 405.63945143851043, \"param_t\": 1.6455961518803406, \"param_const_se\": 9.402508644575482, \"param_t_se\": 1.6586050195506044}, {\"x1\": 274, \"y1\": 189, \"x2\": 300, \"y2\": 214, \"score\": 1.0, \"Diameter 1 (Pixels)\": 26, \"Diameter 2 (Pixels)\": 25, \"filename\": \"Well 17__s17t9c2.jpg\", \"parent_dir\": \"images/Matrigel coated plate 2/Well 17_\", \"well\": 17, \"t\": 9, \"surface\": 2042.0352248333652, \"x\": 287.0, \"y\": 201.5, \"particle\": 9, \"y_hat\": 1959.0971787785948, \"param_const\": 1884.170193990478, \"param_t\": 8.325220532012963, \"param_const_se\": 51.891902088368205, \"param_t_se\": 9.485512338551176}, {\"x1\": 158, \"y1\": 265, \"x2\": 173, \"y2\": 281, \"score\": 0.9790499210357666, \"Diameter 1 (Pixels)\": 15, \"Diameter 2 (Pixels)\": 16, \"filename\": \"Well 24_s24t1c2.jpg\", \"parent_dir\": \"images/Matrigel coated plate 2/Well 24\", \"well\": 24, \"t\": 1, \"surface\": 753.9822368615503, \"x\": 165.5, \"y\": 273.0, \"particle\": 1, \"y_hat\": 797.7401345365511, \"param_const\": 788.5397560510381, \"param_t\": 9.200378485513, \"param_const_se\": 36.75551066249736, \"param_t_se\": 8.561214952284118}, {\"x1\": 263, \"y1\": 170, \"x2\": 274, \"y2\": 182, \"score\": 0.9879189729690552, \"Diameter 1 (Pixels)\": 11, \"Diameter 2 (Pixels)\": 12, \"filename\": \"Well 24_s24t1c2.jpg\", \"parent_dir\": \"images/Matrigel coated plate 2/Well 24\", \"well\": 24, \"t\": 1, \"surface\": 414.6902302738527, \"x\": 268.5, \"y\": 176.0, \"particle\": 2, \"y_hat\": 382.60110531218595, \"param_const\": 385.0694995400065, \"param_t\": -2.4683942278205535, \"param_const_se\": 36.26559941638643, \"param_t_se\": 6.3742769067178}, {\"x1\": 246, \"y1\": 246, \"x2\": 265, \"y2\": 267, \"score\": 0.9997227191925048, \"Diameter 1 (Pixels)\": 19, \"Diameter 2 (Pixels)\": 21, \"filename\": \"Well 24_s24t1c2.jpg\", \"parent_dir\": \"images/Matrigel coated plate 2/Well 24\", \"well\": 24, \"t\": 1, \"surface\": 1253.4954687823276, \"x\": 255.5, \"y\": 256.5, \"particle\": 4, \"y_hat\": 1299.851413715297, \"param_const\": 1219.1124825180393, \"param_t\": 80.73893119725773, \"param_const_se\": 31.386819382868165, \"param_t_se\": 4.784940932553022}, {\"x1\": 207, \"y1\": 228, \"x2\": 246, \"y2\": 269, \"score\": 0.9999927282333374, \"Diameter 1 (Pixels)\": 39, \"Diameter 2 (Pixels)\": 41, \"filename\": \"Well 24_s24t1c2.jpg\", \"parent_dir\": \"images/Matrigel coated plate 2/Well 24\", \"well\": 24, \"t\": 1, \"surface\": 5023.406653090079, \"x\": 226.5, \"y\": 248.5, \"particle\": 5, \"y_hat\": 5116.7468614867375, \"param_const\": 5040.249080371826, \"param_t\": 76.49778111491167, \"param_const_se\": 68.84790317417357, \"param_t_se\": 10.24822507298388}, {\"x1\": 345, \"y1\": 318, \"x2\": 364, \"y2\": 340, \"score\": 1.0, \"Diameter 1 (Pixels)\": 19, \"Diameter 2 (Pixels)\": 22, \"filename\": \"Well 24_s24t1c2.jpg\", \"parent_dir\": \"images/Matrigel coated plate 2/Well 24\", \"well\": 24, \"t\": 1, \"surface\": 1313.1857292005334, \"x\": 354.5, \"y\": 329.0, \"particle\": 6, \"y_hat\": 1197.9241853988278, \"param_const\": 1213.7892282994562, \"param_t\": -15.865042900628438, \"param_const_se\": 65.24023026164082, \"param_t_se\": 10.477925955117314}, {\"x1\": 245, \"y1\": 295, \"x2\": 269, \"y2\": 319, \"score\": 1.0, \"Diameter 1 (Pixels)\": 24, \"Diameter 2 (Pixels)\": 24, \"filename\": \"Well 24_s24t1c2.jpg\", \"parent_dir\": \"images/Matrigel coated plate 2/Well 24\", \"well\": 24, \"t\": 1, \"surface\": 1809.5573684677206, \"x\": 257.0, \"y\": 307.0, \"particle\": 7, \"y_hat\": 1700.7884494834343, \"param_const\": 1676.1269471527544, \"param_t\": 24.66150233067991, \"param_const_se\": 64.11550660558983, \"param_t_se\": 10.381385121368362}, {\"x1\": 157, \"y1\": 290, \"x2\": 187, \"y2\": 321, \"score\": 1.0, \"Diameter 1 (Pixels)\": 30, \"Diameter 2 (Pixels)\": 31, \"filename\": \"Well 24_s24t1c2.jpg\", \"parent_dir\": \"images/Matrigel coated plate 2/Well 24\", \"well\": 24, \"t\": 1, \"surface\": 2921.681167838508, \"x\": 172.0, \"y\": 305.5, \"particle\": 8, \"y_hat\": 2881.1895291922397, \"param_const\": 2821.7610681618326, \"param_t\": 59.428461030406964, \"param_const_se\": 29.73233000210561, \"param_t_se\": 5.59524649490438}, {\"x1\": 260, \"y1\": 201, \"x2\": 281, \"y2\": 222, \"score\": 0.9999999403953552, \"Diameter 1 (Pixels)\": 21, \"Diameter 2 (Pixels)\": 21, \"filename\": \"Well 24_s24t1c2.jpg\", \"parent_dir\": \"images/Matrigel coated plate 2/Well 24\", \"well\": 24, \"t\": 1, \"surface\": 1385.4423602330987, \"x\": 270.5, \"y\": 211.5, \"particle\": 9, \"y_hat\": 1375.1798242313723, \"param_const\": 1328.6318930806835, \"param_t\": 46.5479311506888, \"param_const_se\": 24.20015444292512, \"param_t_se\": 3.6745332421429544}, {\"x1\": 205, \"y1\": 226, \"x2\": 244, \"y2\": 268, \"score\": 0.9999996423721312, \"Diameter 1 (Pixels)\": 39, \"Diameter 2 (Pixels)\": 42, \"filename\": \"Well 24_s24t2c2.jpg\", \"parent_dir\": \"images/Matrigel coated plate 2/Well 24\", \"well\": 24, \"t\": 2, \"surface\": 5145.928766580081, \"x\": 224.5, \"y\": 247.0, \"particle\": 5, \"y_hat\": 5193.244642601649, \"param_const\": 5040.249080371826, \"param_t\": 76.49778111491167, \"param_const_se\": 68.84790317417357, \"param_t_se\": 10.24822507298388}, {\"x1\": 344, \"y1\": 317, \"x2\": 362, \"y2\": 338, \"score\": 1.0, \"Diameter 1 (Pixels)\": 18, \"Diameter 2 (Pixels)\": 21, \"filename\": \"Well 24_s24t2c2.jpg\", \"parent_dir\": \"images/Matrigel coated plate 2/Well 24\", \"well\": 24, \"t\": 2, \"surface\": 1187.522023056942, \"x\": 353.0, \"y\": 327.5, \"particle\": 6, \"y_hat\": 1182.0591424981994, \"param_const\": 1213.7892282994562, \"param_t\": -15.865042900628438, \"param_const_se\": 65.24023026164082, \"param_t_se\": 10.477925955117314}, {\"x1\": 156, \"y1\": 264, \"x2\": 171, \"y2\": 281, \"score\": 0.9206281900405884, \"Diameter 1 (Pixels)\": 15, \"Diameter 2 (Pixels)\": 17, \"filename\": \"Well 24_s24t2c2.jpg\", \"parent_dir\": \"images/Matrigel coated plate 2/Well 24\", \"well\": 24, \"t\": 2, \"surface\": 801.1061266653971, \"x\": 163.5, \"y\": 272.5, \"particle\": 1, \"y_hat\": 806.9405130220641, \"param_const\": 788.5397560510381, \"param_t\": 9.200378485513, \"param_const_se\": 36.75551066249736, \"param_t_se\": 8.561214952284118}, {\"x1\": 244, \"y1\": 244, \"x2\": 264, \"y2\": 266, \"score\": 0.9996484518051147, \"Diameter 1 (Pixels)\": 20, \"Diameter 2 (Pixels)\": 22, \"filename\": \"Well 24_s24t2c2.jpg\", \"parent_dir\": \"images/Matrigel coated plate 2/Well 24\", \"well\": 24, \"t\": 2, \"surface\": 1382.300767579509, \"x\": 254.0, \"y\": 255.0, \"particle\": 4, \"y_hat\": 1380.5903449125549, \"param_const\": 1219.1124825180393, \"param_t\": 80.73893119725773, \"param_const_se\": 31.386819382868165, \"param_t_se\": 4.784940932553022}, {\"x1\": 155, \"y1\": 288, \"x2\": 185, \"y2\": 319, \"score\": 0.9999869465827942, \"Diameter 1 (Pixels)\": 30, \"Diameter 2 (Pixels)\": 31, \"filename\": \"Well 24_s24t2c2.jpg\", \"parent_dir\": \"images/Matrigel coated plate 2/Well 24\", \"well\": 24, \"t\": 2, \"surface\": 2921.681167838508, \"x\": 170.0, \"y\": 303.5, \"particle\": 8, \"y_hat\": 2940.6179902226463, \"param_const\": 2821.7610681618326, \"param_t\": 59.428461030406964, \"param_const_se\": 29.73233000210561, \"param_t_se\": 5.59524649490438}, {\"x1\": 285, \"y1\": 278, \"x2\": 300, \"y2\": 295, \"score\": 0.9999958276748656, \"Diameter 1 (Pixels)\": 15, \"Diameter 2 (Pixels)\": 17, \"filename\": \"Well 24_s24t2c2.jpg\", \"parent_dir\": \"images/Matrigel coated plate 2/Well 24\", \"well\": 24, \"t\": 2, \"surface\": 801.1061266653971, \"x\": 292.5, \"y\": 286.5, \"particle\": 10, \"y_hat\": 724.4330537864812, \"param_const\": 653.9065752298059, \"param_t\": 35.263239278337636, \"param_const_se\": 69.28194014258675, \"param_t_se\": 10.055801291596717}, {\"x1\": 243, \"y1\": 294, \"x2\": 267, \"y2\": 316, \"score\": 1.0, \"Diameter 1 (Pixels)\": 24, \"Diameter 2 (Pixels)\": 22, \"filename\": \"Well 24_s24t2c2.jpg\", \"parent_dir\": \"images/Matrigel coated plate 2/Well 24\", \"well\": 24, \"t\": 2, \"surface\": 1658.7609210954108, \"x\": 255.0, \"y\": 305.0, \"particle\": 7, \"y_hat\": 1725.4499518141142, \"param_const\": 1676.1269471527544, \"param_t\": 24.66150233067991, \"param_const_se\": 64.11550660558983, \"param_t_se\": 10.381385121368362}, {\"x1\": 258, \"y1\": 200, \"x2\": 279, \"y2\": 221, \"score\": 0.9999998807907104, \"Diameter 1 (Pixels)\": 21, \"Diameter 2 (Pixels)\": 21, \"filename\": \"Well 24_s24t2c2.jpg\", \"parent_dir\": \"images/Matrigel coated plate 2/Well 24\", \"well\": 24, \"t\": 2, \"surface\": 1385.4423602330987, \"x\": 268.5, \"y\": 210.5, \"particle\": 9, \"y_hat\": 1421.727755382061, \"param_const\": 1328.6318930806835, \"param_t\": 46.5479311506888, \"param_const_se\": 24.20015444292512, \"param_t_se\": 3.6745332421429544}, {\"x1\": 285, \"y1\": 277, \"x2\": 299, \"y2\": 294, \"score\": 0.9668698310852052, \"Diameter 1 (Pixels)\": 14, \"Diameter 2 (Pixels)\": 17, \"filename\": \"Well 24_s24t3c2.jpg\", \"parent_dir\": \"images/Matrigel coated plate 2/Well 24\", \"well\": 24, \"t\": 3, \"surface\": 747.6990515543707, \"x\": 292.0, \"y\": 285.5, \"particle\": 10, \"y_hat\": 759.6962930648187, \"param_const\": 653.9065752298059, \"param_t\": 35.263239278337636, \"param_const_se\": 69.28194014258675, \"param_t_se\": 10.055801291596717}, {\"x1\": 155, \"y1\": 264, \"x2\": 171, \"y2\": 281, \"score\": 0.9995447397232056, \"Diameter 1 (Pixels)\": 16, \"Diameter 2 (Pixels)\": 17, \"filename\": \"Well 24_s24t3c2.jpg\", \"parent_dir\": \"images/Matrigel coated plate 2/Well 24\", \"well\": 24, \"t\": 3, \"surface\": 854.5132017764238, \"x\": 163.0, \"y\": 272.5, \"particle\": 1, \"y_hat\": 816.1408915075772, \"param_const\": 788.5397560510381, \"param_t\": 9.200378485513, \"param_const_se\": 36.75551066249736, \"param_t_se\": 8.561214952284118}, {\"x1\": 262, \"y1\": 169, \"x2\": 272, \"y2\": 180, \"score\": 0.9997256398200988, \"Diameter 1 (Pixels)\": 10, \"Diameter 2 (Pixels)\": 11, \"filename\": \"Well 24_s24t3c2.jpg\", \"parent_dir\": \"images/Matrigel coated plate 2/Well 24\", \"well\": 24, \"t\": 3, \"surface\": 345.57519189487726, \"x\": 267.0, \"y\": 174.5, \"particle\": 2, \"y_hat\": 377.6643168565449, \"param_const\": 385.0694995400065, \"param_t\": -2.4683942278205535, \"param_const_se\": 36.26559941638643, \"param_t_se\": 6.3742769067178}, {\"x1\": 154, \"y1\": 288, \"x2\": 185, \"y2\": 319, \"score\": 0.9999996423721312, \"Diameter 1 (Pixels)\": 31, \"Diameter 2 (Pixels)\": 31, \"filename\": \"Well 24_s24t3c2.jpg\", \"parent_dir\": \"images/Matrigel coated plate 2/Well 24\", \"well\": 24, \"t\": 3, \"surface\": 3019.0705400997913, \"x\": 169.5, \"y\": 303.5, \"particle\": 8, \"y_hat\": 3000.0464512530534, \"param_const\": 2821.7610681618326, \"param_t\": 59.428461030406964, \"param_const_se\": 29.73233000210561, \"param_t_se\": 5.59524649490438}, {\"x1\": 244, \"y1\": 244, \"x2\": 265, \"y2\": 267, \"score\": 1.0, \"Diameter 1 (Pixels)\": 21, \"Diameter 2 (Pixels)\": 23, \"filename\": \"Well 24_s24t3c2.jpg\", \"parent_dir\": \"images/Matrigel coated plate 2/Well 24\", \"well\": 24, \"t\": 3, \"surface\": 1517.38925168387, \"x\": 254.5, \"y\": 255.5, \"particle\": 4, \"y_hat\": 1461.3292761098126, \"param_const\": 1219.1124825180393, \"param_t\": 80.73893119725773, \"param_const_se\": 31.386819382868165, \"param_t_se\": 4.784940932553022}, {\"x1\": 257, \"y1\": 199, \"x2\": 279, \"y2\": 221, \"score\": 1.0, \"Diameter 1 (Pixels)\": 22, \"Diameter 2 (Pixels)\": 22, \"filename\": \"Well 24_s24t3c2.jpg\", \"parent_dir\": \"images/Matrigel coated plate 2/Well 24\", \"well\": 24, \"t\": 3, \"surface\": 1520.53084433746, \"x\": 268.0, \"y\": 210.0, \"particle\": 9, \"y_hat\": 1468.27568653275, \"param_const\": 1328.6318930806835, \"param_t\": 46.5479311506888, \"param_const_se\": 24.20015444292512, \"param_t_se\": 3.6745332421429544}, {\"x1\": 205, \"y1\": 225, \"x2\": 245, \"y2\": 268, \"score\": 1.0, \"Diameter 1 (Pixels)\": 40, \"Diameter 2 (Pixels)\": 43, \"filename\": \"Well 24_s24t3c2.jpg\", \"parent_dir\": \"images/Matrigel coated plate 2/Well 24\", \"well\": 24, \"t\": 3, \"surface\": 5403.539364174444, \"x\": 225.0, \"y\": 246.5, \"particle\": 5, \"y_hat\": 5269.742423716561, \"param_const\": 5040.249080371826, \"param_t\": 76.49778111491167, \"param_const_se\": 68.84790317417357, \"param_t_se\": 10.24822507298388}, {\"x1\": 243, \"y1\": 293, \"x2\": 267, \"y2\": 316, \"score\": 1.0, \"Diameter 1 (Pixels)\": 24, \"Diameter 2 (Pixels)\": 23, \"filename\": \"Well 24_s24t3c2.jpg\", \"parent_dir\": \"images/Matrigel coated plate 2/Well 24\", \"well\": 24, \"t\": 3, \"surface\": 1734.1591447815658, \"x\": 255.0, \"y\": 304.5, \"particle\": 7, \"y_hat\": 1750.1114541447942, \"param_const\": 1676.1269471527544, \"param_t\": 24.66150233067991, \"param_const_se\": 64.11550660558983, \"param_t_se\": 10.381385121368362}, {\"x1\": 344, \"y1\": 317, \"x2\": 361, \"y2\": 338, \"score\": 1.0, \"Diameter 1 (Pixels)\": 17, \"Diameter 2 (Pixels)\": 21, \"filename\": \"Well 24_s24t3c2.jpg\", \"parent_dir\": \"images/Matrigel coated plate 2/Well 24\", \"well\": 24, \"t\": 3, \"surface\": 1121.5485773315559, \"x\": 352.5, \"y\": 327.5, \"particle\": 6, \"y_hat\": 1166.1940995975708, \"param_const\": 1213.7892282994562, \"param_t\": -15.865042900628438, \"param_const_se\": 65.24023026164082, \"param_t_se\": 10.477925955117314}, {\"x1\": 344, \"y1\": 317, \"x2\": 361, \"y2\": 337, \"score\": 1.0, \"Diameter 1 (Pixels)\": 17, \"Diameter 2 (Pixels)\": 20, \"filename\": \"Well 24_s24t4c2.jpg\", \"parent_dir\": \"images/Matrigel coated plate 2/Well 24\", \"well\": 24, \"t\": 4, \"surface\": 1068.1415022205297, \"x\": 352.5, \"y\": 327.0, \"particle\": 6, \"y_hat\": 1150.3290566969424, \"param_const\": 1213.7892282994562, \"param_t\": -15.865042900628438, \"param_const_se\": 65.24023026164082, \"param_t_se\": 10.477925955117314}, {\"x1\": 243, \"y1\": 293, \"x2\": 267, \"y2\": 316, \"score\": 1.0, \"Diameter 1 (Pixels)\": 24, \"Diameter 2 (Pixels)\": 23, \"filename\": \"Well 24_s24t4c2.jpg\", \"parent_dir\": \"images/Matrigel coated plate 2/Well 24\", \"well\": 24, \"t\": 4, \"surface\": 1734.1591447815658, \"x\": 255.0, \"y\": 304.5, \"particle\": 7, \"y_hat\": 1774.772956475474, \"param_const\": 1676.1269471527544, \"param_t\": 24.66150233067991, \"param_const_se\": 64.11550660558983, \"param_t_se\": 10.381385121368362}, {\"x1\": 154, \"y1\": 288, \"x2\": 185, \"y2\": 319, \"score\": 1.0, \"Diameter 1 (Pixels)\": 31, \"Diameter 2 (Pixels)\": 31, \"filename\": \"Well 24_s24t4c2.jpg\", \"parent_dir\": \"images/Matrigel coated plate 2/Well 24\", \"well\": 24, \"t\": 4, \"surface\": 3019.0705400997913, \"x\": 169.5, \"y\": 303.5, \"particle\": 8, \"y_hat\": 3059.4749122834605, \"param_const\": 2821.7610681618326, \"param_t\": 59.428461030406964, \"param_const_se\": 29.73233000210561, \"param_t_se\": 5.59524649490438}, {\"x1\": 257, \"y1\": 199, \"x2\": 279, \"y2\": 221, \"score\": 1.0, \"Diameter 1 (Pixels)\": 22, \"Diameter 2 (Pixels)\": 22, \"filename\": \"Well 24_s24t4c2.jpg\", \"parent_dir\": \"images/Matrigel coated plate 2/Well 24\", \"well\": 24, \"t\": 4, \"surface\": 1520.53084433746, \"x\": 268.0, \"y\": 210.0, \"particle\": 9, \"y_hat\": 1514.8236176834387, \"param_const\": 1328.6318930806835, \"param_t\": 46.5479311506888, \"param_const_se\": 24.20015444292512, \"param_t_se\": 3.6745332421429544}, {\"x1\": 244, \"y1\": 243, \"x2\": 265, \"y2\": 267, \"score\": 0.9999998807907104, \"Diameter 1 (Pixels)\": 21, \"Diameter 2 (Pixels)\": 24, \"filename\": \"Well 24_s24t4c2.jpg\", \"parent_dir\": \"images/Matrigel coated plate 2/Well 24\", \"well\": 24, \"t\": 4, \"surface\": 1583.3626974092556, \"x\": 254.5, \"y\": 255.0, \"particle\": 4, \"y_hat\": 1542.0682073070702, \"param_const\": 1219.1124825180393, \"param_t\": 80.73893119725773, \"param_const_se\": 31.386819382868165, \"param_t_se\": 4.784940932553022}, {\"x1\": 204, \"y1\": 225, \"x2\": 244, \"y2\": 268, \"score\": 0.9999998807907104, \"Diameter 1 (Pixels)\": 40, \"Diameter 2 (Pixels)\": 43, \"filename\": \"Well 24_s24t4c2.jpg\", \"parent_dir\": \"images/Matrigel coated plate 2/Well 24\", \"well\": 24, \"t\": 4, \"surface\": 5403.539364174444, \"x\": 224.0, \"y\": 246.5, \"particle\": 5, \"y_hat\": 5346.2402048314725, \"param_const\": 5040.249080371826, \"param_t\": 76.49778111491167, \"param_const_se\": 68.84790317417357, \"param_t_se\": 10.24822507298388}, {\"x1\": 155, \"y1\": 263, \"x2\": 171, \"y2\": 280, \"score\": 0.9936586618423462, \"Diameter 1 (Pixels)\": 16, \"Diameter 2 (Pixels)\": 17, \"filename\": \"Well 24_s24t4c2.jpg\", \"parent_dir\": \"images/Matrigel coated plate 2/Well 24\", \"well\": 24, \"t\": 4, \"surface\": 854.5132017764238, \"x\": 163.0, \"y\": 271.5, \"particle\": 1, \"y_hat\": 825.3412699930901, \"param_const\": 788.5397560510381, \"param_t\": 9.200378485513, \"param_const_se\": 36.75551066249736, \"param_t_se\": 8.561214952284118}, {\"x1\": 262, \"y1\": 169, \"x2\": 272, \"y2\": 180, \"score\": 0.9932454824447632, \"Diameter 1 (Pixels)\": 10, \"Diameter 2 (Pixels)\": 11, \"filename\": \"Well 24_s24t4c2.jpg\", \"parent_dir\": \"images/Matrigel coated plate 2/Well 24\", \"well\": 24, \"t\": 4, \"surface\": 345.57519189487726, \"x\": 267.0, \"y\": 174.5, \"particle\": 2, \"y_hat\": 375.1959226287243, \"param_const\": 385.0694995400065, \"param_t\": -2.4683942278205535, \"param_const_se\": 36.26559941638643, \"param_t_se\": 6.3742769067178}, {\"x1\": 244, \"y1\": 243, \"x2\": 265, \"y2\": 267, \"score\": 1.0, \"Diameter 1 (Pixels)\": 21, \"Diameter 2 (Pixels)\": 24, \"filename\": \"Well 24_s24t5c2.jpg\", \"parent_dir\": \"images/Matrigel coated plate 2/Well 24\", \"well\": 24, \"t\": 5, \"surface\": 1583.3626974092556, \"x\": 254.5, \"y\": 255.0, \"particle\": 4, \"y_hat\": 1622.807138504328, \"param_const\": 1219.1124825180393, \"param_t\": 80.73893119725773, \"param_const_se\": 31.386819382868165, \"param_t_se\": 4.784940932553022}, {\"x1\": 257, \"y1\": 199, \"x2\": 279, \"y2\": 221, \"score\": 1.0, \"Diameter 1 (Pixels)\": 22, \"Diameter 2 (Pixels)\": 22, \"filename\": \"Well 24_s24t5c2.jpg\", \"parent_dir\": \"images/Matrigel coated plate 2/Well 24\", \"well\": 24, \"t\": 5, \"surface\": 1520.53084433746, \"x\": 268.0, \"y\": 210.0, \"particle\": 9, \"y_hat\": 1561.3715488341275, \"param_const\": 1328.6318930806835, \"param_t\": 46.5479311506888, \"param_const_se\": 24.20015444292512, \"param_t_se\": 3.6745332421429544}, {\"x1\": 154, \"y1\": 288, \"x2\": 185, \"y2\": 319, \"score\": 0.9999999403953552, \"Diameter 1 (Pixels)\": 31, \"Diameter 2 (Pixels)\": 31, \"filename\": \"Well 24_s24t5c2.jpg\", \"parent_dir\": \"images/Matrigel coated plate 2/Well 24\", \"well\": 24, \"t\": 5, \"surface\": 3019.0705400997913, \"x\": 169.5, \"y\": 303.5, \"particle\": 8, \"y_hat\": 3118.9033733138676, \"param_const\": 2821.7610681618326, \"param_t\": 59.428461030406964, \"param_const_se\": 29.73233000210561, \"param_t_se\": 5.59524649490438}, {\"x1\": 204, \"y1\": 225, \"x2\": 244, \"y2\": 268, \"score\": 0.9999998807907104, \"Diameter 1 (Pixels)\": 40, \"Diameter 2 (Pixels)\": 43, \"filename\": \"Well 24_s24t5c2.jpg\", \"parent_dir\": \"images/Matrigel coated plate 2/Well 24\", \"well\": 24, \"t\": 5, \"surface\": 5403.539364174444, \"x\": 224.0, \"y\": 246.5, \"particle\": 5, \"y_hat\": 5422.737985946384, \"param_const\": 5040.249080371826, \"param_t\": 76.49778111491167, \"param_const_se\": 68.84790317417357, \"param_t_se\": 10.24822507298388}, {\"x1\": 344, \"y1\": 317, \"x2\": 361, \"y2\": 337, \"score\": 0.9999997615814208, \"Diameter 1 (Pixels)\": 17, \"Diameter 2 (Pixels)\": 20, \"filename\": \"Well 24_s24t5c2.jpg\", \"parent_dir\": \"images/Matrigel coated plate 2/Well 24\", \"well\": 24, \"t\": 5, \"surface\": 1068.1415022205297, \"x\": 352.5, \"y\": 327.0, \"particle\": 6, \"y_hat\": 1134.464013796314, \"param_const\": 1213.7892282994562, \"param_t\": -15.865042900628438, \"param_const_se\": 65.24023026164082, \"param_t_se\": 10.477925955117314}, {\"x1\": 285, \"y1\": 277, \"x2\": 300, \"y2\": 293, \"score\": 0.9820520281791688, \"Diameter 1 (Pixels)\": 15, \"Diameter 2 (Pixels)\": 16, \"filename\": \"Well 24_s24t5c2.jpg\", \"parent_dir\": \"images/Matrigel coated plate 2/Well 24\", \"well\": 24, \"t\": 5, \"surface\": 753.9822368615503, \"x\": 292.5, \"y\": 285.0, \"particle\": 10, \"y_hat\": 830.2227716214941, \"param_const\": 653.9065752298059, \"param_t\": 35.263239278337636, \"param_const_se\": 69.28194014258675, \"param_t_se\": 10.055801291596717}, {\"x1\": 155, \"y1\": 263, \"x2\": 171, \"y2\": 280, \"score\": 0.9738435745239258, \"Diameter 1 (Pixels)\": 16, \"Diameter 2 (Pixels)\": 17, \"filename\": \"Well 24_s24t5c2.jpg\", \"parent_dir\": \"images/Matrigel coated plate 2/Well 24\", \"well\": 24, \"t\": 5, \"surface\": 854.5132017764238, \"x\": 163.0, \"y\": 271.5, \"particle\": 1, \"y_hat\": 834.5416484786031, \"param_const\": 788.5397560510381, \"param_t\": 9.200378485513, \"param_const_se\": 36.75551066249736, \"param_t_se\": 8.561214952284118}, {\"x1\": 261, \"y1\": 169, \"x2\": 272, \"y2\": 180, \"score\": 0.9298377633094788, \"Diameter 1 (Pixels)\": 11, \"Diameter 2 (Pixels)\": 11, \"filename\": \"Well 24_s24t5c2.jpg\", \"parent_dir\": \"images/Matrigel coated plate 2/Well 24\", \"well\": 24, \"t\": 5, \"surface\": 380.132711084365, \"x\": 266.5, \"y\": 174.5, \"particle\": 2, \"y_hat\": 372.72752840090374, \"param_const\": 385.0694995400065, \"param_t\": -2.4683942278205535, \"param_const_se\": 36.26559941638643, \"param_t_se\": 6.3742769067178}, {\"x1\": 242, \"y1\": 293, \"x2\": 267, \"y2\": 316, \"score\": 1.0, \"Diameter 1 (Pixels)\": 25, \"Diameter 2 (Pixels)\": 23, \"filename\": \"Well 24_s24t5c2.jpg\", \"parent_dir\": \"images/Matrigel coated plate 2/Well 24\", \"well\": 24, \"t\": 5, \"surface\": 1806.415775814131, \"x\": 254.5, \"y\": 304.5, \"particle\": 7, \"y_hat\": 1799.434458806154, \"param_const\": 1676.1269471527544, \"param_t\": 24.66150233067991, \"param_const_se\": 64.11550660558983, \"param_t_se\": 10.381385121368362}, {\"x1\": 261, \"y1\": 169, \"x2\": 272, \"y2\": 180, \"score\": 0.9624961614608764, \"Diameter 1 (Pixels)\": 11, \"Diameter 2 (Pixels)\": 11, \"filename\": \"Well 24_s24t6c2.jpg\", \"parent_dir\": \"images/Matrigel coated plate 2/Well 24\", \"well\": 24, \"t\": 6, \"surface\": 380.132711084365, \"x\": 266.5, \"y\": 174.5, \"particle\": 2, \"y_hat\": 370.2591341730832, \"param_const\": 385.0694995400065, \"param_t\": -2.4683942278205535, \"param_const_se\": 36.26559941638643, \"param_t_se\": 6.3742769067178}, {\"x1\": 155, \"y1\": 263, \"x2\": 171, \"y2\": 280, \"score\": 0.9960037469863892, \"Diameter 1 (Pixels)\": 16, \"Diameter 2 (Pixels)\": 17, \"filename\": \"Well 24_s24t6c2.jpg\", \"parent_dir\": \"images/Matrigel coated plate 2/Well 24\", \"well\": 24, \"t\": 6, \"surface\": 854.5132017764238, \"x\": 163.0, \"y\": 271.5, \"particle\": 1, \"y_hat\": 843.7420269641161, \"param_const\": 788.5397560510381, \"param_t\": 9.200378485513, \"param_const_se\": 36.75551066249736, \"param_t_se\": 8.561214952284118}, {\"x1\": 257, \"y1\": 199, \"x2\": 280, \"y2\": 221, \"score\": 1.0, \"Diameter 1 (Pixels)\": 23, \"Diameter 2 (Pixels)\": 22, \"filename\": \"Well 24_s24t6c2.jpg\", \"parent_dir\": \"images/Matrigel coated plate 2/Well 24\", \"well\": 24, \"t\": 6, \"surface\": 1589.6458827164356, \"x\": 268.5, \"y\": 210.0, \"particle\": 9, \"y_hat\": 1607.9194799848165, \"param_const\": 1328.6318930806835, \"param_t\": 46.5479311506888, \"param_const_se\": 24.20015444292512, \"param_t_se\": 3.6745332421429544}, {\"x1\": 285, \"y1\": 277, \"x2\": 300, \"y2\": 294, \"score\": 0.9988839626312256, \"Diameter 1 (Pixels)\": 15, \"Diameter 2 (Pixels)\": 17, \"filename\": \"Well 24_s24t6c2.jpg\", \"parent_dir\": \"images/Matrigel coated plate 2/Well 24\", \"well\": 24, \"t\": 6, \"surface\": 801.1061266653971, \"x\": 292.5, \"y\": 285.5, \"particle\": 10, \"y_hat\": 865.4860108998316, \"param_const\": 653.9065752298059, \"param_t\": 35.263239278337636, \"param_const_se\": 69.28194014258675, \"param_t_se\": 10.055801291596717}, {\"x1\": 344, \"y1\": 317, \"x2\": 361, \"y2\": 338, \"score\": 0.9999997615814208, \"Diameter 1 (Pixels)\": 17, \"Diameter 2 (Pixels)\": 21, \"filename\": \"Well 24_s24t6c2.jpg\", \"parent_dir\": \"images/Matrigel coated plate 2/Well 24\", \"well\": 24, \"t\": 6, \"surface\": 1121.5485773315559, \"x\": 352.5, \"y\": 327.5, \"particle\": 6, \"y_hat\": 1118.5989708956856, \"param_const\": 1213.7892282994562, \"param_t\": -15.865042900628438, \"param_const_se\": 65.24023026164082, \"param_t_se\": 10.477925955117314}, {\"x1\": 204, \"y1\": 225, \"x2\": 245, \"y2\": 268, \"score\": 0.9999998807907104, \"Diameter 1 (Pixels)\": 41, \"Diameter 2 (Pixels)\": 43, \"filename\": \"Well 24_s24t6c2.jpg\", \"parent_dir\": \"images/Matrigel coated plate 2/Well 24\", \"well\": 24, \"t\": 6, \"surface\": 5538.627848278807, \"x\": 224.5, \"y\": 246.5, \"particle\": 5, \"y_hat\": 5499.2357670612955, \"param_const\": 5040.249080371826, \"param_t\": 76.49778111491167, \"param_const_se\": 68.84790317417357, \"param_t_se\": 10.24822507298388}, {\"x1\": 154, \"y1\": 287, \"x2\": 186, \"y2\": 319, \"score\": 1.0, \"Diameter 1 (Pixels)\": 32, \"Diameter 2 (Pixels)\": 32, \"filename\": \"Well 24_s24t6c2.jpg\", \"parent_dir\": \"images/Matrigel coated plate 2/Well 24\", \"well\": 24, \"t\": 6, \"surface\": 3216.9908772759477, \"x\": 170.0, \"y\": 303.0, \"particle\": 8, \"y_hat\": 3178.3318343442743, \"param_const\": 2821.7610681618326, \"param_t\": 59.428461030406964, \"param_const_se\": 29.73233000210561, \"param_t_se\": 5.59524649490438}, {\"x1\": 244, \"y1\": 243, \"x2\": 266, \"y2\": 268, \"score\": 1.0, \"Diameter 1 (Pixels)\": 22, \"Diameter 2 (Pixels)\": 25, \"filename\": \"Well 24_s24t6c2.jpg\", \"parent_dir\": \"images/Matrigel coated plate 2/Well 24\", \"well\": 24, \"t\": 6, \"surface\": 1727.8759594743865, \"x\": 255.0, \"y\": 255.5, \"particle\": 4, \"y_hat\": 1703.5460697015856, \"param_const\": 1219.1124825180393, \"param_t\": 80.73893119725773, \"param_const_se\": 31.386819382868165, \"param_t_se\": 4.784940932553022}, {\"x1\": 242, \"y1\": 293, \"x2\": 267, \"y2\": 316, \"score\": 1.0, \"Diameter 1 (Pixels)\": 25, \"Diameter 2 (Pixels)\": 23, \"filename\": \"Well 24_s24t6c2.jpg\", \"parent_dir\": \"images/Matrigel coated plate 2/Well 24\", \"well\": 24, \"t\": 6, \"surface\": 1806.415775814131, \"x\": 254.5, \"y\": 304.5, \"particle\": 7, \"y_hat\": 1824.095961136834, \"param_const\": 1676.1269471527544, \"param_t\": 24.66150233067991, \"param_const_se\": 64.11550660558983, \"param_t_se\": 10.381385121368362}, {\"x1\": 154, \"y1\": 287, \"x2\": 187, \"y2\": 319, \"score\": 1.0, \"Diameter 1 (Pixels)\": 33, \"Diameter 2 (Pixels)\": 32, \"filename\": \"Well 24_s24t7c2.jpg\", \"parent_dir\": \"images/Matrigel coated plate 2/Well 24\", \"well\": 24, \"t\": 7, \"surface\": 3317.5218421908216, \"x\": 170.5, \"y\": 303.0, \"particle\": 8, \"y_hat\": 3237.7602953746814, \"param_const\": 2821.7610681618326, \"param_t\": 59.428461030406964, \"param_const_se\": 29.73233000210561, \"param_t_se\": 5.59524649490438}, {\"x1\": 204, \"y1\": 225, \"x2\": 245, \"y2\": 268, \"score\": 0.9999998807907104, \"Diameter 1 (Pixels)\": 41, \"Diameter 2 (Pixels)\": 43, \"filename\": \"Well 24_s24t7c2.jpg\", \"parent_dir\": \"images/Matrigel coated plate 2/Well 24\", \"well\": 24, \"t\": 7, \"surface\": 5538.627848278807, \"x\": 224.5, \"y\": 246.5, \"particle\": 5, \"y_hat\": 5575.7335481762075, \"param_const\": 5040.249080371826, \"param_t\": 76.49778111491167, \"param_const_se\": 68.84790317417357, \"param_t_se\": 10.24822507298388}, {\"x1\": 244, \"y1\": 243, \"x2\": 266, \"y2\": 268, \"score\": 1.0, \"Diameter 1 (Pixels)\": 22, \"Diameter 2 (Pixels)\": 25, \"filename\": \"Well 24_s24t7c2.jpg\", \"parent_dir\": \"images/Matrigel coated plate 2/Well 24\", \"well\": 24, \"t\": 7, \"surface\": 1727.8759594743865, \"x\": 255.0, \"y\": 255.5, \"particle\": 4, \"y_hat\": 1784.2850008988435, \"param_const\": 1219.1124825180393, \"param_t\": 80.73893119725773, \"param_const_se\": 31.386819382868165, \"param_t_se\": 4.784940932553022}, {\"x1\": 257, \"y1\": 199, \"x2\": 280, \"y2\": 222, \"score\": 1.0, \"Diameter 1 (Pixels)\": 23, \"Diameter 2 (Pixels)\": 23, \"filename\": \"Well 24_s24t7c2.jpg\", \"parent_dir\": \"images/Matrigel coated plate 2/Well 24\", \"well\": 24, \"t\": 7, \"surface\": 1661.9025137490005, \"x\": 268.5, \"y\": 210.5, \"particle\": 9, \"y_hat\": 1654.4674111355052, \"param_const\": 1328.6318930806835, \"param_t\": 46.5479311506888, \"param_const_se\": 24.20015444292512, \"param_t_se\": 3.6745332421429544}, {\"x1\": 284, \"y1\": 276, \"x2\": 300, \"y2\": 294, \"score\": 0.9982527494430542, \"Diameter 1 (Pixels)\": 16, \"Diameter 2 (Pixels)\": 18, \"filename\": \"Well 24_s24t7c2.jpg\", \"parent_dir\": \"images/Matrigel coated plate 2/Well 24\", \"well\": 24, \"t\": 7, \"surface\": 904.7786842338603, \"x\": 292.0, \"y\": 285.0, \"particle\": 10, \"y_hat\": 900.7492501781693, \"param_const\": 653.9065752298059, \"param_t\": 35.263239278337636, \"param_const_se\": 69.28194014258675, \"param_t_se\": 10.055801291596717}, {\"x1\": 261, \"y1\": 169, \"x2\": 272, \"y2\": 180, \"score\": 0.992789387702942, \"Diameter 1 (Pixels)\": 11, \"Diameter 2 (Pixels)\": 11, \"filename\": \"Well 24_s24t7c2.jpg\", \"parent_dir\": \"images/Matrigel coated plate 2/Well 24\", \"well\": 24, \"t\": 7, \"surface\": 380.132711084365, \"x\": 266.5, \"y\": 174.5, \"particle\": 2, \"y_hat\": 367.79073994526266, \"param_const\": 385.0694995400065, \"param_t\": -2.4683942278205535, \"param_const_se\": 36.26559941638643, \"param_t_se\": 6.3742769067178}, {\"x1\": 155, \"y1\": 263, \"x2\": 171, \"y2\": 279, \"score\": 0.9914004802703856, \"Diameter 1 (Pixels)\": 16, \"Diameter 2 (Pixels)\": 16, \"filename\": \"Well 24_s24t7c2.jpg\", \"parent_dir\": \"images/Matrigel coated plate 2/Well 24\", \"well\": 24, \"t\": 7, \"surface\": 804.2477193189869, \"x\": 163.0, \"y\": 271.0, \"particle\": 1, \"y_hat\": 852.9424054496292, \"param_const\": 788.5397560510381, \"param_t\": 9.200378485513, \"param_const_se\": 36.75551066249736, \"param_t_se\": 8.561214952284118}, {\"x1\": 242, \"y1\": 293, \"x2\": 267, \"y2\": 316, \"score\": 1.0, \"Diameter 1 (Pixels)\": 25, \"Diameter 2 (Pixels)\": 23, \"filename\": \"Well 24_s24t7c2.jpg\", \"parent_dir\": \"images/Matrigel coated plate 2/Well 24\", \"well\": 24, \"t\": 7, \"surface\": 1806.415775814131, \"x\": 254.5, \"y\": 304.5, \"particle\": 7, \"y_hat\": 1848.7574634675138, \"param_const\": 1676.1269471527544, \"param_t\": 24.66150233067991, \"param_const_se\": 64.11550660558983, \"param_t_se\": 10.381385121368362}, {\"x1\": 344, \"y1\": 317, \"x2\": 361, \"y2\": 337, \"score\": 1.0, \"Diameter 1 (Pixels)\": 17, \"Diameter 2 (Pixels)\": 20, \"filename\": \"Well 24_s24t7c2.jpg\", \"parent_dir\": \"images/Matrigel coated plate 2/Well 24\", \"well\": 24, \"t\": 7, \"surface\": 1068.1415022205297, \"x\": 352.5, \"y\": 327.0, \"particle\": 6, \"y_hat\": 1102.7339279950572, \"param_const\": 1213.7892282994562, \"param_t\": -15.865042900628438, \"param_const_se\": 65.24023026164082, \"param_t_se\": 10.477925955117314}, {\"x1\": 242, \"y1\": 293, \"x2\": 268, \"y2\": 316, \"score\": 1.0, \"Diameter 1 (Pixels)\": 26, \"Diameter 2 (Pixels)\": 23, \"filename\": \"Well 24_s24t8c2.jpg\", \"parent_dir\": \"images/Matrigel coated plate 2/Well 24\", \"well\": 24, \"t\": 8, \"surface\": 1878.6724068466965, \"x\": 255.0, \"y\": 304.5, \"particle\": 7, \"y_hat\": 1873.4189657981938, \"param_const\": 1676.1269471527544, \"param_t\": 24.66150233067991, \"param_const_se\": 64.11550660558983, \"param_t_se\": 10.381385121368362}, {\"x1\": 284, \"y1\": 276, \"x2\": 301, \"y2\": 294, \"score\": 0.999986469745636, \"Diameter 1 (Pixels)\": 17, \"Diameter 2 (Pixels)\": 18, \"filename\": \"Well 24_s24t8c2.jpg\", \"parent_dir\": \"images/Matrigel coated plate 2/Well 24\", \"well\": 24, \"t\": 8, \"surface\": 961.3273519984767, \"x\": 292.5, \"y\": 285.0, \"particle\": 10, \"y_hat\": 936.012489456507, \"param_const\": 653.9065752298059, \"param_t\": 35.263239278337636, \"param_const_se\": 69.28194014258675, \"param_t_se\": 10.055801291596717}, {\"x1\": 154, \"y1\": 287, \"x2\": 187, \"y2\": 319, \"score\": 1.0, \"Diameter 1 (Pixels)\": 33, \"Diameter 2 (Pixels)\": 32, \"filename\": \"Well 24_s24t8c2.jpg\", \"parent_dir\": \"images/Matrigel coated plate 2/Well 24\", \"well\": 24, \"t\": 8, \"surface\": 3317.5218421908216, \"x\": 170.5, \"y\": 303.0, \"particle\": 8, \"y_hat\": 3297.1887564050885, \"param_const\": 2821.7610681618326, \"param_t\": 59.428461030406964, \"param_const_se\": 29.73233000210561, \"param_t_se\": 5.59524649490438}, {\"x1\": 203, \"y1\": 225, \"x2\": 245, \"y2\": 268, \"score\": 1.0, \"Diameter 1 (Pixels)\": 42, \"Diameter 2 (Pixels)\": 43, \"filename\": \"Well 24_s24t8c2.jpg\", \"parent_dir\": \"images/Matrigel coated plate 2/Well 24\", \"well\": 24, \"t\": 8, \"surface\": 5673.716332383166, \"x\": 224.0, \"y\": 246.5, \"particle\": 5, \"y_hat\": 5652.2313292911185, \"param_const\": 5040.249080371826, \"param_t\": 76.49778111491167, \"param_const_se\": 68.84790317417357, \"param_t_se\": 10.24822507298388}, {\"x1\": 343, \"y1\": 317, \"x2\": 361, \"y2\": 337, \"score\": 1.0, \"Diameter 1 (Pixels)\": 18, \"Diameter 2 (Pixels)\": 20, \"filename\": \"Well 24_s24t8c2.jpg\", \"parent_dir\": \"images/Matrigel coated plate 2/Well 24\", \"well\": 24, \"t\": 8, \"surface\": 1130.9733552923256, \"x\": 352.0, \"y\": 327.0, \"particle\": 6, \"y_hat\": 1086.8688850944286, \"param_const\": 1213.7892282994562, \"param_t\": -15.865042900628438, \"param_const_se\": 65.24023026164082, \"param_t_se\": 10.477925955117314}, {\"x1\": 244, \"y1\": 242, \"x2\": 267, \"y2\": 268, \"score\": 1.0, \"Diameter 1 (Pixels)\": 23, \"Diameter 2 (Pixels)\": 26, \"filename\": \"Well 24_s24t8c2.jpg\", \"parent_dir\": \"images/Matrigel coated plate 2/Well 24\", \"well\": 24, \"t\": 8, \"surface\": 1878.6724068466965, \"x\": 255.5, \"y\": 255.0, \"particle\": 4, \"y_hat\": 1865.0239320961011, \"param_const\": 1219.1124825180393, \"param_t\": 80.73893119725773, \"param_const_se\": 31.386819382868165, \"param_t_se\": 4.784940932553022}, {\"x1\": 256, \"y1\": 199, \"x2\": 280, \"y2\": 222, \"score\": 1.0, \"Diameter 1 (Pixels)\": 24, \"Diameter 2 (Pixels)\": 23, \"filename\": \"Well 24_s24t8c2.jpg\", \"parent_dir\": \"images/Matrigel coated plate 2/Well 24\", \"well\": 24, \"t\": 8, \"surface\": 1734.1591447815658, \"x\": 268.0, \"y\": 210.5, \"particle\": 9, \"y_hat\": 1701.015342286194, \"param_const\": 1328.6318930806835, \"param_t\": 46.5479311506888, \"param_const_se\": 24.20015444292512, \"param_t_se\": 3.6745332421429544}, {\"x1\": 256, \"y1\": 199, \"x2\": 280, \"y2\": 222, \"score\": 1.0, \"Diameter 1 (Pixels)\": 24, \"Diameter 2 (Pixels)\": 23, \"filename\": \"Well 24_s24t9c2.jpg\", \"parent_dir\": \"images/Matrigel coated plate 2/Well 24\", \"well\": 24, \"t\": 9, \"surface\": 1734.1591447815658, \"x\": 268.0, \"y\": 210.5, \"particle\": 9, \"y_hat\": 1747.5632734368828, \"param_const\": 1328.6318930806835, \"param_t\": 46.5479311506888, \"param_const_se\": 24.20015444292512, \"param_t_se\": 3.6745332421429544}, {\"x1\": 242, \"y1\": 293, \"x2\": 268, \"y2\": 317, \"score\": 1.0, \"Diameter 1 (Pixels)\": 26, \"Diameter 2 (Pixels)\": 24, \"filename\": \"Well 24_s24t9c2.jpg\", \"parent_dir\": \"images/Matrigel coated plate 2/Well 24\", \"well\": 24, \"t\": 9, \"surface\": 1960.3538158400308, \"x\": 255.0, \"y\": 305.0, \"particle\": 7, \"y_hat\": 1898.0804681288737, \"param_const\": 1676.1269471527544, \"param_t\": 24.66150233067991, \"param_const_se\": 64.11550660558983, \"param_t_se\": 10.381385121368362}, {\"x1\": 343, \"y1\": 317, \"x2\": 361, \"y2\": 337, \"score\": 1.0, \"Diameter 1 (Pixels)\": 18, \"Diameter 2 (Pixels)\": 20, \"filename\": \"Well 24_s24t9c2.jpg\", \"parent_dir\": \"images/Matrigel coated plate 2/Well 24\", \"well\": 24, \"t\": 9, \"surface\": 1130.9733552923256, \"x\": 352.0, \"y\": 327.0, \"particle\": 6, \"y_hat\": 1071.0038421938002, \"param_const\": 1213.7892282994562, \"param_t\": -15.865042900628438, \"param_const_se\": 65.24023026164082, \"param_t_se\": 10.477925955117314}, {\"x1\": 244, \"y1\": 242, \"x2\": 267, \"y2\": 269, \"score\": 1.0, \"Diameter 1 (Pixels)\": 23, \"Diameter 2 (Pixels)\": 27, \"filename\": \"Well 24_s24t9c2.jpg\", \"parent_dir\": \"images/Matrigel coated plate 2/Well 24\", \"well\": 24, \"t\": 9, \"surface\": 1950.9290378792614, \"x\": 255.5, \"y\": 255.5, \"particle\": 4, \"y_hat\": 1945.7628632933588, \"param_const\": 1219.1124825180393, \"param_t\": 80.73893119725773, \"param_const_se\": 31.386819382868165, \"param_t_se\": 4.784940932553022}, {\"x1\": 154, \"y1\": 287, \"x2\": 187, \"y2\": 319, \"score\": 1.0, \"Diameter 1 (Pixels)\": 33, \"Diameter 2 (Pixels)\": 32, \"filename\": \"Well 24_s24t9c2.jpg\", \"parent_dir\": \"images/Matrigel coated plate 2/Well 24\", \"well\": 24, \"t\": 9, \"surface\": 3317.5218421908216, \"x\": 170.5, \"y\": 303.0, \"particle\": 8, \"y_hat\": 3356.617217435495, \"param_const\": 2821.7610681618326, \"param_t\": 59.428461030406964, \"param_const_se\": 29.73233000210561, \"param_t_se\": 5.59524649490438}, {\"x1\": 203, \"y1\": 225, \"x2\": 245, \"y2\": 268, \"score\": 0.9999998807907104, \"Diameter 1 (Pixels)\": 42, \"Diameter 2 (Pixels)\": 43, \"filename\": \"Well 24_s24t9c2.jpg\", \"parent_dir\": \"images/Matrigel coated plate 2/Well 24\", \"well\": 24, \"t\": 9, \"surface\": 5673.716332383166, \"x\": 224.0, \"y\": 246.5, \"particle\": 5, \"y_hat\": 5728.7291104060305, \"param_const\": 5040.249080371826, \"param_t\": 76.49778111491167, \"param_const_se\": 68.84790317417357, \"param_t_se\": 10.24822507298388}, {\"x1\": 283, \"y1\": 276, \"x2\": 301, \"y2\": 294, \"score\": 0.9999996423721312, \"Diameter 1 (Pixels)\": 18, \"Diameter 2 (Pixels)\": 18, \"filename\": \"Well 24_s24t9c2.jpg\", \"parent_dir\": \"images/Matrigel coated plate 2/Well 24\", \"well\": 24, \"t\": 9, \"surface\": 1017.8760197630928, \"x\": 292.0, \"y\": 285.0, \"particle\": 10, \"y_hat\": 971.2757287348446, \"param_const\": 653.9065752298059, \"param_t\": 35.263239278337636, \"param_const_se\": 69.28194014258675, \"param_t_se\": 10.055801291596717}, {\"x1\": 222, \"y1\": 247, \"x2\": 246, \"y2\": 271, \"score\": 0.9999999403953552, \"Diameter 1 (Pixels)\": 24, \"Diameter 2 (Pixels)\": 24, \"filename\": \"Well 28_s28t1c2.jpg\", \"parent_dir\": \"images/Matrigel coated plate 2/Well 28\", \"well\": 28, \"t\": 1, \"surface\": 1809.5573684677206, \"x\": 234.0, \"y\": 259.0, \"particle\": 0, \"y_hat\": 1731.7921914124229, \"param_const\": 1669.9716729619881, \"param_t\": 61.82051845043475, \"param_const_se\": 58.815843349439376, \"param_t_se\": 10.542329172687309}, {\"x1\": 290, \"y1\": 115, \"x2\": 301, \"y2\": 123, \"score\": 0.9773373007774352, \"Diameter 1 (Pixels)\": 11, \"Diameter 2 (Pixels)\": 8, \"filename\": \"Well 28_s28t1c2.jpg\", \"parent_dir\": \"images/Matrigel coated plate 2/Well 28\", \"well\": 28, \"t\": 1, \"surface\": 276.46015351590177, \"x\": 295.5, \"y\": 119.0, \"particle\": 1, \"y_hat\": 275.42375181574835, \"param_const\": 272.67080979971604, \"param_t\": 2.7529420160323035, \"param_const_se\": 5.447073216852737, \"param_t_se\": 1.982539435445151}, {\"x1\": 235, \"y1\": 201, \"x2\": 252, \"y2\": 217, \"score\": 0.9999999403953552, \"Diameter 1 (Pixels)\": 17, \"Diameter 2 (Pixels)\": 16, \"filename\": \"Well 28_s28t1c2.jpg\", \"parent_dir\": \"images/Matrigel coated plate 2/Well 28\", \"well\": 28, \"t\": 1, \"surface\": 854.5132017764238, \"x\": 243.5, \"y\": 209.0, \"particle\": 7, \"y_hat\": 850.4640379117969, \"param_const\": 836.0127117052839, \"param_t\": 14.451326206513045, \"param_const_se\": 25.946723020406562, \"param_t_se\": 5.540746271824526}, {\"x1\": 234, \"y1\": 199, \"x2\": 251, \"y2\": 216, \"score\": 0.9999995827674866, \"Diameter 1 (Pixels)\": 17, \"Diameter 2 (Pixels)\": 17, \"filename\": \"Well 28_s28t2c2.jpg\", \"parent_dir\": \"images/Matrigel coated plate 2/Well 28\", \"well\": 28, \"t\": 2, \"surface\": 907.9202768874502, \"x\": 242.5, \"y\": 207.5, \"particle\": 7, \"y_hat\": 864.91536411831, \"param_const\": 836.0127117052839, \"param_t\": 14.451326206513045, \"param_const_se\": 25.946723020406562, \"param_t_se\": 5.540746271824526}, {\"x1\": 290, \"y1\": 113, \"x2\": 300, \"y2\": 122, \"score\": 0.9784008264541626, \"Diameter 1 (Pixels)\": 10, \"Diameter 2 (Pixels)\": 9, \"filename\": \"Well 28_s28t2c2.jpg\", \"parent_dir\": \"images/Matrigel coated plate 2/Well 28\", \"well\": 28, \"t\": 2, \"surface\": 282.7433388230814, \"x\": 295.0, \"y\": 117.5, \"particle\": 1, \"y_hat\": 278.17669383178065, \"param_const\": 272.67080979971604, \"param_t\": 2.7529420160323035, \"param_const_se\": 5.447073216852737, \"param_t_se\": 1.982539435445151}, {\"x1\": 131, \"y1\": 268, \"x2\": 144, \"y2\": 282, \"score\": 0.9997398257255554, \"Diameter 1 (Pixels)\": 13, \"Diameter 2 (Pixels)\": 14, \"filename\": \"Well 28_s28t2c2.jpg\", \"parent_dir\": \"images/Matrigel coated plate 2/Well 28\", \"well\": 28, \"t\": 2, \"surface\": 571.7698629533423, \"x\": 137.5, \"y\": 275.0, \"particle\": 9, \"y_hat\": 575.1358550821883, \"param_const\": 536.0903463875724, \"param_t\": 19.522754347307995, \"param_const_se\": 13.787791112106634, \"param_t_se\": 2.682019674454563}, {\"x1\": 222, \"y1\": 246, \"x2\": 246, \"y2\": 269, \"score\": 0.9998239278793336, \"Diameter 1 (Pixels)\": 24, \"Diameter 2 (Pixels)\": 23, \"filename\": \"Well 28_s28t2c2.jpg\", \"parent_dir\": \"images/Matrigel coated plate 2/Well 28\", \"well\": 28, \"t\": 2, \"surface\": 1734.1591447815658, \"x\": 234.0, \"y\": 257.5, \"particle\": 0, \"y_hat\": 1793.6127098628576, \"param_const\": 1669.9716729619881, \"param_t\": 61.82051845043475, \"param_const_se\": 58.815843349439376, \"param_t_se\": 10.542329172687309}, {\"x1\": 222, \"y1\": 246, \"x2\": 247, \"y2\": 269, \"score\": 0.9971814155578612, \"Diameter 1 (Pixels)\": 25, \"Diameter 2 (Pixels)\": 23, \"filename\": \"Well 28_s28t3c2.jpg\", \"parent_dir\": \"images/Matrigel coated plate 2/Well 28\", \"well\": 28, \"t\": 3, \"surface\": 1806.415775814131, \"x\": 234.5, \"y\": 257.5, \"particle\": 0, \"y_hat\": 1855.4332283132924, \"param_const\": 1669.9716729619881, \"param_t\": 61.82051845043475, \"param_const_se\": 58.815843349439376, \"param_t_se\": 10.542329172687309}, {\"x1\": 131, \"y1\": 267, \"x2\": 144, \"y2\": 282, \"score\": 0.9494441151618958, \"Diameter 1 (Pixels)\": 13, \"Diameter 2 (Pixels)\": 15, \"filename\": \"Well 28_s28t3c2.jpg\", \"parent_dir\": \"images/Matrigel coated plate 2/Well 28\", \"well\": 28, \"t\": 3, \"surface\": 612.6105674500096, \"x\": 137.5, \"y\": 274.5, \"particle\": 9, \"y_hat\": 594.6586094294963, \"param_const\": 536.0903463875724, \"param_t\": 19.522754347307995, \"param_const_se\": 13.787791112106634, \"param_t_se\": 2.682019674454563}, {\"x1\": 234, \"y1\": 199, \"x2\": 251, \"y2\": 215, \"score\": 0.9999991655349731, \"Diameter 1 (Pixels)\": 17, \"Diameter 2 (Pixels)\": 16, \"filename\": \"Well 28_s28t3c2.jpg\", \"parent_dir\": \"images/Matrigel coated plate 2/Well 28\", \"well\": 28, \"t\": 3, \"surface\": 854.5132017764238, \"x\": 242.5, \"y\": 207.0, \"particle\": 7, \"y_hat\": 879.366690324823, \"param_const\": 836.0127117052839, \"param_t\": 14.451326206513045, \"param_const_se\": 25.946723020406562, \"param_t_se\": 5.540746271824526}, {\"x1\": 131, \"y1\": 267, \"x2\": 144, \"y2\": 282, \"score\": 0.9865794777870178, \"Diameter 1 (Pixels)\": 13, \"Diameter 2 (Pixels)\": 15, \"filename\": \"Well 28_s28t4c2.jpg\", \"parent_dir\": \"images/Matrigel coated plate 2/Well 28\", \"well\": 28, \"t\": 4, \"surface\": 612.6105674500096, \"x\": 137.5, \"y\": 274.5, \"particle\": 9, \"y_hat\": 614.1813637768043, \"param_const\": 536.0903463875724, \"param_t\": 19.522754347307995, \"param_const_se\": 13.787791112106634, \"param_t_se\": 2.682019674454563}, {\"x1\": 222, \"y1\": 245, \"x2\": 247, \"y2\": 269, \"score\": 0.9935936927795408, \"Diameter 1 (Pixels)\": 25, \"Diameter 2 (Pixels)\": 24, \"filename\": \"Well 28_s28t4c2.jpg\", \"parent_dir\": \"images/Matrigel coated plate 2/Well 28\", \"well\": 28, \"t\": 4, \"surface\": 1884.955592153876, \"x\": 234.5, \"y\": 257.0, \"particle\": 0, \"y_hat\": 1917.2537467637271, \"param_const\": 1669.9716729619881, \"param_t\": 61.82051845043475, \"param_const_se\": 58.815843349439376, \"param_t_se\": 10.542329172687309}, {\"x1\": 234, \"y1\": 199, \"x2\": 251, \"y2\": 215, \"score\": 0.9999995231628418, \"Diameter 1 (Pixels)\": 17, \"Diameter 2 (Pixels)\": 16, \"filename\": \"Well 28_s28t4c2.jpg\", \"parent_dir\": \"images/Matrigel coated plate 2/Well 28\", \"well\": 28, \"t\": 4, \"surface\": 854.5132017764238, \"x\": 242.5, \"y\": 207.0, \"particle\": 7, \"y_hat\": 893.8180165313361, \"param_const\": 836.0127117052839, \"param_t\": 14.451326206513045, \"param_const_se\": 25.946723020406562, \"param_t_se\": 5.540746271824526}, {\"x1\": 131, \"y1\": 267, \"x2\": 144, \"y2\": 282, \"score\": 0.9982864856719972, \"Diameter 1 (Pixels)\": 13, \"Diameter 2 (Pixels)\": 15, \"filename\": \"Well 28_s28t5c2.jpg\", \"parent_dir\": \"images/Matrigel coated plate 2/Well 28\", \"well\": 28, \"t\": 5, \"surface\": 612.6105674500096, \"x\": 137.5, \"y\": 274.5, \"particle\": 9, \"y_hat\": 633.7041181241124, \"param_const\": 536.0903463875724, \"param_t\": 19.522754347307995, \"param_const_se\": 13.787791112106634, \"param_t_se\": 2.682019674454563}, {\"x1\": 234, \"y1\": 199, \"x2\": 251, \"y2\": 216, \"score\": 0.9999977350234984, \"Diameter 1 (Pixels)\": 17, \"Diameter 2 (Pixels)\": 17, \"filename\": \"Well 28_s28t5c2.jpg\", \"parent_dir\": \"images/Matrigel coated plate 2/Well 28\", \"well\": 28, \"t\": 5, \"surface\": 907.9202768874502, \"x\": 242.5, \"y\": 207.5, \"particle\": 7, \"y_hat\": 908.2693427378491, \"param_const\": 836.0127117052839, \"param_t\": 14.451326206513045, \"param_const_se\": 25.946723020406562, \"param_t_se\": 5.540746271824526}, {\"x1\": 234, \"y1\": 199, \"x2\": 252, \"y2\": 216, \"score\": 0.9999970197677612, \"Diameter 1 (Pixels)\": 18, \"Diameter 2 (Pixels)\": 17, \"filename\": \"Well 28_s28t6c2.jpg\", \"parent_dir\": \"images/Matrigel coated plate 2/Well 28\", \"well\": 28, \"t\": 6, \"surface\": 961.3273519984767, \"x\": 243.0, \"y\": 207.5, \"particle\": 7, \"y_hat\": 922.7206689443622, \"param_const\": 836.0127117052839, \"param_t\": 14.451326206513045, \"param_const_se\": 25.946723020406562, \"param_t_se\": 5.540746271824526}, {\"x1\": 222, \"y1\": 244, \"x2\": 248, \"y2\": 270, \"score\": 0.9436917304992676, \"Diameter 1 (Pixels)\": 26, \"Diameter 2 (Pixels)\": 26, \"filename\": \"Well 28_s28t6c2.jpg\", \"parent_dir\": \"images/Matrigel coated plate 2/Well 28\", \"well\": 28, \"t\": 6, \"surface\": 2123.7166338267, \"x\": 235.0, \"y\": 257.0, \"particle\": 0, \"y_hat\": 2040.8947836645966, \"param_const\": 1669.9716729619881, \"param_t\": 61.82051845043475, \"param_const_se\": 58.815843349439376, \"param_t_se\": 10.542329172687309}, {\"x1\": 289, \"y1\": 113, \"x2\": 300, \"y2\": 121, \"score\": 0.9669108390808104, \"Diameter 1 (Pixels)\": 11, \"Diameter 2 (Pixels)\": 8, \"filename\": \"Well 28_s28t6c2.jpg\", \"parent_dir\": \"images/Matrigel coated plate 2/Well 28\", \"well\": 28, \"t\": 6, \"surface\": 276.46015351590177, \"x\": 294.5, \"y\": 117.0, \"particle\": 1, \"y_hat\": 289.1884618959099, \"param_const\": 272.67080979971604, \"param_t\": 2.7529420160323035, \"param_const_se\": 5.447073216852737, \"param_t_se\": 1.982539435445151}, {\"x1\": 131, \"y1\": 267, \"x2\": 145, \"y2\": 282, \"score\": 0.996694803237915, \"Diameter 1 (Pixels)\": 14, \"Diameter 2 (Pixels)\": 15, \"filename\": \"Well 28_s28t6c2.jpg\", \"parent_dir\": \"images/Matrigel coated plate 2/Well 28\", \"well\": 28, \"t\": 6, \"surface\": 659.7344572538567, \"x\": 138.0, \"y\": 274.5, \"particle\": 9, \"y_hat\": 653.2268724714204, \"param_const\": 536.0903463875724, \"param_t\": 19.522754347307995, \"param_const_se\": 13.787791112106634, \"param_t_se\": 2.682019674454563}, {\"x1\": 289, \"y1\": 112, \"x2\": 299, \"y2\": 121, \"score\": 0.9944709539413452, \"Diameter 1 (Pixels)\": 10, \"Diameter 2 (Pixels)\": 9, \"filename\": \"Well 28_s28t7c2.jpg\", \"parent_dir\": \"images/Matrigel coated plate 2/Well 28\", \"well\": 28, \"t\": 7, \"surface\": 282.7433388230814, \"x\": 294.0, \"y\": 116.5, \"particle\": 1, \"y_hat\": 291.9414039119422, \"param_const\": 272.67080979971604, \"param_t\": 2.7529420160323035, \"param_const_se\": 5.447073216852737, \"param_t_se\": 1.982539435445151}, {\"x1\": 234, \"y1\": 199, \"x2\": 251, \"y2\": 216, \"score\": 0.9999966621398926, \"Diameter 1 (Pixels)\": 17, \"Diameter 2 (Pixels)\": 17, \"filename\": \"Well 28_s28t7c2.jpg\", \"parent_dir\": \"images/Matrigel coated plate 2/Well 28\", \"well\": 28, \"t\": 7, \"surface\": 907.9202768874502, \"x\": 242.5, \"y\": 207.5, \"particle\": 7, \"y_hat\": 937.1719951508752, \"param_const\": 836.0127117052839, \"param_t\": 14.451326206513045, \"param_const_se\": 25.946723020406562, \"param_t_se\": 5.540746271824526}, {\"x1\": 130, \"y1\": 267, \"x2\": 144, \"y2\": 282, \"score\": 0.9320736527442932, \"Diameter 1 (Pixels)\": 14, \"Diameter 2 (Pixels)\": 15, \"filename\": \"Well 28_s28t7c2.jpg\", \"parent_dir\": \"images/Matrigel coated plate 2/Well 28\", \"well\": 28, \"t\": 7, \"surface\": 659.7344572538567, \"x\": 137.0, \"y\": 274.5, \"particle\": 9, \"y_hat\": 672.7496268187283, \"param_const\": 536.0903463875724, \"param_t\": 19.522754347307995, \"param_const_se\": 13.787791112106634, \"param_t_se\": 2.682019674454563}, {\"x1\": 222, \"y1\": 244, \"x2\": 248, \"y2\": 270, \"score\": 0.9936570525169371, \"Diameter 1 (Pixels)\": 26, \"Diameter 2 (Pixels)\": 26, \"filename\": \"Well 28_s28t7c2.jpg\", \"parent_dir\": \"images/Matrigel coated plate 2/Well 28\", \"well\": 28, \"t\": 7, \"surface\": 2123.7166338267, \"x\": 235.0, \"y\": 257.0, \"particle\": 0, \"y_hat\": 2102.7153021150316, \"param_const\": 1669.9716729619881, \"param_t\": 61.82051845043475, \"param_const_se\": 58.815843349439376, \"param_t_se\": 10.542329172687309}, {\"x1\": 234, \"y1\": 199, \"x2\": 251, \"y2\": 216, \"score\": 0.9999983310699464, \"Diameter 1 (Pixels)\": 17, \"Diameter 2 (Pixels)\": 17, \"filename\": \"Well 28_s28t8c2.jpg\", \"parent_dir\": \"images/Matrigel coated plate 2/Well 28\", \"well\": 28, \"t\": 8, \"surface\": 907.9202768874502, \"x\": 242.5, \"y\": 207.5, \"particle\": 7, \"y_hat\": 951.6233213573882, \"param_const\": 836.0127117052839, \"param_t\": 14.451326206513045, \"param_const_se\": 25.946723020406562, \"param_t_se\": 5.540746271824526}, {\"x1\": 289, \"y1\": 112, \"x2\": 300, \"y2\": 121, \"score\": 0.9800797104835508, \"Diameter 1 (Pixels)\": 11, \"Diameter 2 (Pixels)\": 9, \"filename\": \"Well 28_s28t8c2.jpg\", \"parent_dir\": \"images/Matrigel coated plate 2/Well 28\", \"well\": 28, \"t\": 8, \"surface\": 311.01767270538954, \"x\": 294.5, \"y\": 116.5, \"particle\": 1, \"y_hat\": 294.6943459279745, \"param_const\": 272.67080979971604, \"param_t\": 2.7529420160323035, \"param_const_se\": 5.447073216852737, \"param_t_se\": 1.982539435445151}, {\"x1\": 222, \"y1\": 244, \"x2\": 248, \"y2\": 270, \"score\": 0.9803197979927064, \"Diameter 1 (Pixels)\": 26, \"Diameter 2 (Pixels)\": 26, \"filename\": \"Well 28_s28t8c2.jpg\", \"parent_dir\": \"images/Matrigel coated plate 2/Well 28\", \"well\": 28, \"t\": 8, \"surface\": 2123.7166338267, \"x\": 235.0, \"y\": 257.0, \"particle\": 0, \"y_hat\": 2164.535820565466, \"param_const\": 1669.9716729619881, \"param_t\": 61.82051845043475, \"param_const_se\": 58.815843349439376, \"param_t_se\": 10.542329172687309}, {\"x1\": 130, \"y1\": 267, \"x2\": 145, \"y2\": 282, \"score\": 0.9991863965988159, \"Diameter 1 (Pixels)\": 15, \"Diameter 2 (Pixels)\": 15, \"filename\": \"Well 28_s28t8c2.jpg\", \"parent_dir\": \"images/Matrigel coated plate 2/Well 28\", \"well\": 28, \"t\": 8, \"surface\": 706.8583470577034, \"x\": 137.5, \"y\": 274.5, \"particle\": 9, \"y_hat\": 692.2723811660363, \"param_const\": 536.0903463875724, \"param_t\": 19.522754347307995, \"param_const_se\": 13.787791112106634, \"param_t_se\": 2.682019674454563}, {\"x1\": 234, \"y1\": 199, \"x2\": 252, \"y2\": 217, \"score\": 0.9999848008155824, \"Diameter 1 (Pixels)\": 18, \"Diameter 2 (Pixels)\": 18, \"filename\": \"Well 28_s28t9c2.jpg\", \"parent_dir\": \"images/Matrigel coated plate 2/Well 28\", \"well\": 28, \"t\": 9, \"surface\": 1017.8760197630928, \"x\": 243.0, \"y\": 208.0, \"particle\": 7, \"y_hat\": 966.0746475639013, \"param_const\": 836.0127117052839, \"param_t\": 14.451326206513045, \"param_const_se\": 25.946723020406562, \"param_t_se\": 5.540746271824526}], \"data-1997d34c7ccb070c7895feae501d1678\": [{\"well\": 17, \"particle\": 0, \"param_t\": 25.080381351158564, \"rank\": 5.0}, {\"well\": 17, \"particle\": 4, \"param_t\": -3.8916125213386756, \"rank\": 1.0}, {\"well\": 17, \"particle\": 6, \"param_t\": 38.74630939427415, \"rank\": 6.0}, {\"well\": 17, \"particle\": 8, \"param_t\": 41.99262180298365, \"rank\": 7.0}, {\"well\": 17, \"particle\": 9, \"param_t\": 8.325220532012963, \"rank\": 3.0}, {\"well\": 17, \"particle\": 11, \"param_t\": 15.857562918119875, \"rank\": 4.0}, {\"well\": 17, \"particle\": 10, \"param_t\": 1.6455961518803406, \"rank\": 2.0}, {\"well\": 24, \"particle\": 1, \"param_t\": 9.200378485513, \"rank\": 3.0}, {\"well\": 24, \"particle\": 2, \"param_t\": -2.4683942278205535, \"rank\": 2.0}, {\"well\": 24, \"particle\": 4, \"param_t\": 80.73893119725773, \"rank\": 9.0}, {\"well\": 24, \"particle\": 5, \"param_t\": 76.49778111491167, \"rank\": 8.0}, {\"well\": 24, \"particle\": 6, \"param_t\": -15.865042900628438, \"rank\": 1.0}, {\"well\": 24, \"particle\": 7, \"param_t\": 24.66150233067991, \"rank\": 4.0}, {\"well\": 24, \"particle\": 8, \"param_t\": 59.428461030406964, \"rank\": 7.0}, {\"well\": 24, \"particle\": 9, \"param_t\": 46.5479311506888, \"rank\": 6.0}, {\"well\": 24, \"particle\": 10, \"param_t\": 35.263239278337636, \"rank\": 5.0}, {\"well\": 28, \"particle\": 0, \"param_t\": 61.82051845043475, \"rank\": 4.0}, {\"well\": 28, \"particle\": 1, \"param_t\": 2.7529420160323035, \"rank\": 1.0}, {\"well\": 28, \"particle\": 7, \"param_t\": 14.451326206513045, \"rank\": 2.0}, {\"well\": 28, \"particle\": 9, \"param_t\": 19.522754347307995, \"rank\": 3.0}]}}, {\"mode\": \"vega-lite\"});\n",
              "</script>"
            ]
          },
          "metadata": {
            "tags": []
          }
        }
      ]
    },
    {
      "cell_type": "markdown",
      "metadata": {
        "id": "_9QMpf9LDCNG",
        "colab_type": "text"
      },
      "source": [
        "## 5. Save output graph and output summary"
      ]
    },
    {
      "cell_type": "code",
      "metadata": {
        "id": "LFkqbti_QnY7",
        "colab_type": "code",
        "outputId": "7f0ca74b-729e-41d2-f02f-e869528a71c3",
        "colab": {
          "base_uri": "https://localhost:8080/",
          "height": 369
        }
      },
      "source": [
        "# Save summary graphs\n",
        "df.groupby('well').apply(graphical_well_summary)\n",
        "\n",
        "# Save output\n",
        "df_summ = df[['well','particle','param_t']].drop_duplicates().copy()\n",
        "df_summ.to_csv(folder_path / 'output_summary.csv', index=False, sep=';')\n",
        "\n",
        "# Save summary graph\n",
        "summary_graph(df_summ, folder_path)"
      ],
      "execution_count": 21,
      "outputs": [
        {
          "output_type": "display_data",
          "data": {
            "text/plain": [
              "alt.LayerChart(...)"
            ],
            "text/html": [
              "\n",
              "<div id=\"altair-viz-11\"></div>\n",
              "<script type=\"text/javascript\">\n",
              "  (function(spec, embedOpt){\n",
              "    const outputDiv = document.getElementById(\"altair-viz-11\");\n",
              "    const paths = {\n",
              "      \"vega\": \"https://cdn.jsdelivr.net/npm//vega@5?noext\",\n",
              "      \"vega-lib\": \"https://cdn.jsdelivr.net/npm//vega-lib?noext\",\n",
              "      \"vega-lite\": \"https://cdn.jsdelivr.net/npm//vega-lite@4.0.0?noext\",\n",
              "      \"vega-embed\": \"https://cdn.jsdelivr.net/npm//vega-embed@6?noext\",\n",
              "    };\n",
              "\n",
              "    function loadScript(lib) {\n",
              "      return new Promise(function(resolve, reject) {\n",
              "        var s = document.createElement('script');\n",
              "        s.src = paths[lib];\n",
              "        s.async = true;\n",
              "        s.onload = () => resolve(paths[lib]);\n",
              "        s.onerror = () => reject(`Error loading script: ${paths[lib]}`);\n",
              "        document.getElementsByTagName(\"head\")[0].appendChild(s);\n",
              "      });\n",
              "    }\n",
              "\n",
              "    function showError(err) {\n",
              "      outputDiv.innerHTML = `<div class=\"error\" style=\"color:red;\">${err}</div>`;\n",
              "      throw err;\n",
              "    }\n",
              "\n",
              "    function displayChart(vegaEmbed) {\n",
              "      vegaEmbed(outputDiv, spec, embedOpt)\n",
              "        .catch(err => showError(`Javascript Error: ${err.message}<br>This usually means there's a typo in your chart specification. See the javascript console for the full traceback.`));\n",
              "    }\n",
              "\n",
              "    if(typeof define === \"function\" && define.amd) {\n",
              "      requirejs.config({paths});\n",
              "      require([\"vega-embed\"], displayChart, err => showError(`Error loading script: ${err.message}`));\n",
              "    } else if (typeof vegaEmbed === \"function\") {\n",
              "      displayChart(vegaEmbed);\n",
              "    } else {\n",
              "      loadScript(\"vega\")\n",
              "        .then(() => loadScript(\"vega-lite\"))\n",
              "        .then(() => loadScript(\"vega-embed\"))\n",
              "        .catch(showError)\n",
              "        .then(() => displayChart(vegaEmbed));\n",
              "    }\n",
              "  })({\"config\": {\"view\": {\"continuousWidth\": 400, \"continuousHeight\": 300}}, \"layer\": [{\"mark\": {\"type\": \"errorbar\", \"extent\": \"ci\"}, \"encoding\": {\"x\": {\"type\": \"nominal\", \"field\": \"well\"}, \"y\": {\"type\": \"quantitative\", \"field\": \"param_t\", \"title\": \"\"}}}, {\"mark\": {\"type\": \"point\", \"color\": \"black\", \"filled\": true}, \"encoding\": {\"tooltip\": [{\"type\": \"quantitative\", \"aggregate\": \"count\", \"field\": \"param_t\", \"title\": \"n particles\"}, {\"type\": \"quantitative\", \"field\": \"well\"}], \"x\": {\"type\": \"nominal\", \"field\": \"well\"}, \"y\": {\"type\": \"quantitative\", \"aggregate\": \"mean\", \"field\": \"param_t\", \"title\": \"Swell rate (Pixel^2 / Frame)\"}}}, {\"mark\": {\"type\": \"rule\", \"color\": \"r\"}, \"encoding\": {\"x\": {\"type\": \"nominal\", \"field\": \"well\"}, \"y\": {\"type\": \"quantitative\", \"field\": \"ruler\"}}}], \"data\": {\"name\": \"data-16797ad87f5e4732e59ccfc39ee38515\"}, \"$schema\": \"https://vega.github.io/schema/vega-lite/v4.0.0.json\", \"datasets\": {\"data-16797ad87f5e4732e59ccfc39ee38515\": [{\"well\": 4, \"particle\": 0, \"param_t\": -8.168140899333466, \"ruler\": 0}, {\"well\": 4, \"particle\": 2, \"param_t\": -3.560471674068424, \"ruler\": 0}, {\"well\": 4, \"particle\": 3, \"param_t\": -13.770647798235274, \"ruler\": 0}, {\"well\": 4, \"particle\": 5, \"param_t\": -22.043508452688357, \"ruler\": 0}, {\"well\": 4, \"particle\": 6, \"param_t\": -7.696902001294966, \"ruler\": 0}, {\"well\": 4, \"particle\": 10, \"param_t\": 6.731984257692396, \"ruler\": 0}, {\"well\": 4, \"particle\": 9, \"param_t\": 1.4585965891666746, \"ruler\": 0}, {\"well\": 4, \"particle\": 13, \"param_t\": -4.398229715025678, \"ruler\": 0}, {\"well\": 17, \"particle\": 0, \"param_t\": 25.080381351158564, \"ruler\": 0}, {\"well\": 17, \"particle\": 4, \"param_t\": -3.8916125213386756, \"ruler\": 0}, {\"well\": 17, \"particle\": 6, \"param_t\": 38.74630939427415, \"ruler\": 0}, {\"well\": 17, \"particle\": 8, \"param_t\": 41.99262180298365, \"ruler\": 0}, {\"well\": 17, \"particle\": 9, \"param_t\": 8.325220532012963, \"ruler\": 0}, {\"well\": 17, \"particle\": 11, \"param_t\": 15.857562918119875, \"ruler\": 0}, {\"well\": 17, \"particle\": 10, \"param_t\": 1.6455961518803406, \"ruler\": 0}, {\"well\": 24, \"particle\": 1, \"param_t\": 9.200378485513, \"ruler\": 0}, {\"well\": 24, \"particle\": 2, \"param_t\": -2.4683942278205535, \"ruler\": 0}, {\"well\": 24, \"particle\": 4, \"param_t\": 80.73893119725773, \"ruler\": 0}, {\"well\": 24, \"particle\": 5, \"param_t\": 76.49778111491167, \"ruler\": 0}, {\"well\": 24, \"particle\": 6, \"param_t\": -15.865042900628438, \"ruler\": 0}, {\"well\": 24, \"particle\": 7, \"param_t\": 24.66150233067991, \"ruler\": 0}, {\"well\": 24, \"particle\": 8, \"param_t\": 59.428461030406964, \"ruler\": 0}, {\"well\": 24, \"particle\": 9, \"param_t\": 46.5479311506888, \"ruler\": 0}, {\"well\": 24, \"particle\": 10, \"param_t\": 35.263239278337636, \"ruler\": 0}, {\"well\": 28, \"particle\": 0, \"param_t\": 61.82051845043475, \"ruler\": 0}, {\"well\": 28, \"particle\": 1, \"param_t\": 2.7529420160323035, \"ruler\": 0}, {\"well\": 28, \"particle\": 7, \"param_t\": 14.451326206513045, \"ruler\": 0}, {\"well\": 28, \"particle\": 9, \"param_t\": 19.522754347307995, \"ruler\": 0}]}}, {\"mode\": \"vega-lite\"});\n",
              "</script>"
            ]
          },
          "metadata": {
            "tags": []
          }
        }
      ]
    },
    {
      "cell_type": "code",
      "metadata": {
        "id": "uou2BjXGYtyk",
        "colab_type": "code",
        "colab": {}
      },
      "source": [
        ""
      ],
      "execution_count": 0,
      "outputs": []
    }
  ]
}