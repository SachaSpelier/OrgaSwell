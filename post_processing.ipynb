{
  "nbformat": 4,
  "nbformat_minor": 0,
  "metadata": {
    "colab": {
      "name": "post_processing.ipynb",
      "provenance": []
    },
    "kernelspec": {
      "name": "python3",
      "display_name": "Python 3"
    },
    "widgets": {
      "application/vnd.jupyter.widget-state+json": {
        "2d2b9458ade14e51b1d05a1d4c46d55f": {
          "model_module": "@jupyter-widgets/controls",
          "model_name": "DropdownModel",
          "state": {
            "_options_labels": [
              "Matrigel coated plate 2",
              "FDA screen 113 FDA1 n1 test",
              "FDA screen 113 FDA1 n1 All wells",
              "FDA screen 113 FDA1 n1 Rest",
              "FDA screen 113 FDA n1 All wells 2",
              "FDA screen 113 FDA n1 well 1-99",
              "FDA screen 113 FDA n1 well 100-384",
              "FDA screen 113 FDA n1 well Remco",
              "FDA screen 113 FDA n1 well Remco 2"
            ],
            "_view_name": "DropdownView",
            "style": "IPY_MODEL_a8e6abacabfe4f0a82688a175bc097e2",
            "_dom_classes": [],
            "description": "Directory:",
            "_model_name": "DropdownModel",
            "index": 0,
            "_view_module": "@jupyter-widgets/controls",
            "_model_module_version": "1.5.0",
            "_view_count": null,
            "disabled": false,
            "_view_module_version": "1.5.0",
            "description_tooltip": null,
            "_model_module": "@jupyter-widgets/controls",
            "layout": "IPY_MODEL_937d29dbe15b418881c4de8725a953be"
          }
        },
        "a8e6abacabfe4f0a82688a175bc097e2": {
          "model_module": "@jupyter-widgets/controls",
          "model_name": "DescriptionStyleModel",
          "state": {
            "_view_name": "StyleView",
            "_model_name": "DescriptionStyleModel",
            "description_width": "",
            "_view_module": "@jupyter-widgets/base",
            "_model_module_version": "1.5.0",
            "_view_count": null,
            "_view_module_version": "1.2.0",
            "_model_module": "@jupyter-widgets/controls"
          }
        },
        "937d29dbe15b418881c4de8725a953be": {
          "model_module": "@jupyter-widgets/base",
          "model_name": "LayoutModel",
          "state": {
            "_view_name": "LayoutView",
            "grid_template_rows": null,
            "right": null,
            "justify_content": null,
            "_view_module": "@jupyter-widgets/base",
            "overflow": null,
            "_model_module_version": "1.2.0",
            "_view_count": null,
            "flex_flow": null,
            "width": null,
            "min_width": null,
            "border": null,
            "align_items": null,
            "bottom": null,
            "_model_module": "@jupyter-widgets/base",
            "top": null,
            "grid_column": null,
            "overflow_y": null,
            "overflow_x": null,
            "grid_auto_flow": null,
            "grid_area": null,
            "grid_template_columns": null,
            "flex": null,
            "_model_name": "LayoutModel",
            "justify_items": null,
            "grid_row": null,
            "max_height": null,
            "align_content": null,
            "visibility": null,
            "align_self": null,
            "height": null,
            "min_height": null,
            "padding": null,
            "grid_auto_rows": null,
            "grid_gap": null,
            "max_width": null,
            "order": null,
            "_view_module_version": "1.2.0",
            "grid_template_areas": null,
            "object_position": null,
            "object_fit": null,
            "grid_auto_columns": null,
            "margin": null,
            "display": null,
            "left": null
          }
        },
        "9ababd3148044294a1ed1d024f0014f7": {
          "model_module": "@jupyter-widgets/controls",
          "model_name": "IntSliderModel",
          "state": {
            "_view_name": "IntSliderView",
            "style": "IPY_MODEL_48ca2050557a4a5ead3ab1ec49b6a127",
            "_dom_classes": [],
            "description": "Memory",
            "step": 1,
            "_model_name": "IntSliderModel",
            "orientation": "horizontal",
            "max": 13,
            "_view_module": "@jupyter-widgets/controls",
            "_model_module_version": "1.5.0",
            "value": 2,
            "_view_count": null,
            "disabled": false,
            "_view_module_version": "1.5.0",
            "min": 0,
            "continuous_update": true,
            "readout_format": "d",
            "description_tooltip": "Max number of consecutive frames a organoid can be undetected before reappering",
            "readout": true,
            "_model_module": "@jupyter-widgets/controls",
            "layout": "IPY_MODEL_605be3dc3ca943f9834042d4a7a8a2a0"
          }
        },
        "48ca2050557a4a5ead3ab1ec49b6a127": {
          "model_module": "@jupyter-widgets/controls",
          "model_name": "SliderStyleModel",
          "state": {
            "_view_name": "StyleView",
            "handle_color": null,
            "_model_name": "SliderStyleModel",
            "description_width": "",
            "_view_module": "@jupyter-widgets/base",
            "_model_module_version": "1.5.0",
            "_view_count": null,
            "_view_module_version": "1.2.0",
            "_model_module": "@jupyter-widgets/controls"
          }
        },
        "605be3dc3ca943f9834042d4a7a8a2a0": {
          "model_module": "@jupyter-widgets/base",
          "model_name": "LayoutModel",
          "state": {
            "_view_name": "LayoutView",
            "grid_template_rows": null,
            "right": null,
            "justify_content": null,
            "_view_module": "@jupyter-widgets/base",
            "overflow": null,
            "_model_module_version": "1.2.0",
            "_view_count": null,
            "flex_flow": null,
            "width": null,
            "min_width": null,
            "border": null,
            "align_items": null,
            "bottom": null,
            "_model_module": "@jupyter-widgets/base",
            "top": null,
            "grid_column": null,
            "overflow_y": null,
            "overflow_x": null,
            "grid_auto_flow": null,
            "grid_area": null,
            "grid_template_columns": null,
            "flex": null,
            "_model_name": "LayoutModel",
            "justify_items": null,
            "grid_row": null,
            "max_height": null,
            "align_content": null,
            "visibility": null,
            "align_self": null,
            "height": null,
            "min_height": null,
            "padding": null,
            "grid_auto_rows": null,
            "grid_gap": null,
            "max_width": null,
            "order": null,
            "_view_module_version": "1.2.0",
            "grid_template_areas": null,
            "object_position": null,
            "object_fit": null,
            "grid_auto_columns": null,
            "margin": null,
            "display": null,
            "left": null
          }
        },
        "9ce53b43b87d46e3bbead297e41bca0a": {
          "model_module": "@jupyter-widgets/controls",
          "model_name": "IntSliderModel",
          "state": {
            "_view_name": "IntSliderView",
            "style": "IPY_MODEL_09462701dab74226aae0f18977738f8b",
            "_dom_classes": [],
            "description": "Min t steps",
            "step": 1,
            "_model_name": "IntSliderModel",
            "orientation": "horizontal",
            "max": 13,
            "_view_module": "@jupyter-widgets/controls",
            "_model_module_version": "1.5.0",
            "value": 7,
            "_view_count": null,
            "disabled": false,
            "_view_module_version": "1.5.0",
            "min": 0,
            "continuous_update": true,
            "readout_format": "d",
            "description_tooltip": "Min number of time steps an organoid has to be observed",
            "readout": true,
            "_model_module": "@jupyter-widgets/controls",
            "layout": "IPY_MODEL_1fafc2261b994be19838fb6891a734d7"
          }
        },
        "09462701dab74226aae0f18977738f8b": {
          "model_module": "@jupyter-widgets/controls",
          "model_name": "SliderStyleModel",
          "state": {
            "_view_name": "StyleView",
            "handle_color": null,
            "_model_name": "SliderStyleModel",
            "description_width": "",
            "_view_module": "@jupyter-widgets/base",
            "_model_module_version": "1.5.0",
            "_view_count": null,
            "_view_module_version": "1.2.0",
            "_model_module": "@jupyter-widgets/controls"
          }
        },
        "1fafc2261b994be19838fb6891a734d7": {
          "model_module": "@jupyter-widgets/base",
          "model_name": "LayoutModel",
          "state": {
            "_view_name": "LayoutView",
            "grid_template_rows": null,
            "right": null,
            "justify_content": null,
            "_view_module": "@jupyter-widgets/base",
            "overflow": null,
            "_model_module_version": "1.2.0",
            "_view_count": null,
            "flex_flow": null,
            "width": null,
            "min_width": null,
            "border": null,
            "align_items": null,
            "bottom": null,
            "_model_module": "@jupyter-widgets/base",
            "top": null,
            "grid_column": null,
            "overflow_y": null,
            "overflow_x": null,
            "grid_auto_flow": null,
            "grid_area": null,
            "grid_template_columns": null,
            "flex": null,
            "_model_name": "LayoutModel",
            "justify_items": null,
            "grid_row": null,
            "max_height": null,
            "align_content": null,
            "visibility": null,
            "align_self": null,
            "height": null,
            "min_height": null,
            "padding": null,
            "grid_auto_rows": null,
            "grid_gap": null,
            "max_width": null,
            "order": null,
            "_view_module_version": "1.2.0",
            "grid_template_areas": null,
            "object_position": null,
            "object_fit": null,
            "grid_auto_columns": null,
            "margin": null,
            "display": null,
            "left": null
          }
        },
        "802dba9e1e2e431caed11329e9a7ffeb": {
          "model_module": "@jupyter-widgets/controls",
          "model_name": "IntSliderModel",
          "state": {
            "_view_name": "IntSliderView",
            "style": "IPY_MODEL_fa95eb39abd949e0bbd79fcc190cca11",
            "_dom_classes": [],
            "description": "Max Std Err",
            "step": 1,
            "_model_name": "IntSliderModel",
            "orientation": "horizontal",
            "max": 25,
            "_view_module": "@jupyter-widgets/controls",
            "_model_module_version": "1.5.0",
            "value": 11,
            "_view_count": null,
            "disabled": false,
            "_view_module_version": "1.5.0",
            "min": 5,
            "continuous_update": true,
            "readout_format": "d",
            "description_tooltip": "Max Std Error of fitted area incease parameter",
            "readout": true,
            "_model_module": "@jupyter-widgets/controls",
            "layout": "IPY_MODEL_7bb22052292d46f89c786d1c0be5123e"
          }
        },
        "fa95eb39abd949e0bbd79fcc190cca11": {
          "model_module": "@jupyter-widgets/controls",
          "model_name": "SliderStyleModel",
          "state": {
            "_view_name": "StyleView",
            "handle_color": null,
            "_model_name": "SliderStyleModel",
            "description_width": "",
            "_view_module": "@jupyter-widgets/base",
            "_model_module_version": "1.5.0",
            "_view_count": null,
            "_view_module_version": "1.2.0",
            "_model_module": "@jupyter-widgets/controls"
          }
        },
        "7bb22052292d46f89c786d1c0be5123e": {
          "model_module": "@jupyter-widgets/base",
          "model_name": "LayoutModel",
          "state": {
            "_view_name": "LayoutView",
            "grid_template_rows": null,
            "right": null,
            "justify_content": null,
            "_view_module": "@jupyter-widgets/base",
            "overflow": null,
            "_model_module_version": "1.2.0",
            "_view_count": null,
            "flex_flow": null,
            "width": null,
            "min_width": null,
            "border": null,
            "align_items": null,
            "bottom": null,
            "_model_module": "@jupyter-widgets/base",
            "top": null,
            "grid_column": null,
            "overflow_y": null,
            "overflow_x": null,
            "grid_auto_flow": null,
            "grid_area": null,
            "grid_template_columns": null,
            "flex": null,
            "_model_name": "LayoutModel",
            "justify_items": null,
            "grid_row": null,
            "max_height": null,
            "align_content": null,
            "visibility": null,
            "align_self": null,
            "height": null,
            "min_height": null,
            "padding": null,
            "grid_auto_rows": null,
            "grid_gap": null,
            "max_width": null,
            "order": null,
            "_view_module_version": "1.2.0",
            "grid_template_areas": null,
            "object_position": null,
            "object_fit": null,
            "grid_auto_columns": null,
            "margin": null,
            "display": null,
            "left": null
          }
        },
        "27aa68003bf741a986d093b95ced7833": {
          "model_module": "@jupyter-widgets/controls",
          "model_name": "IntSliderModel",
          "state": {
            "_view_name": "IntSliderView",
            "style": "IPY_MODEL_4b23c246cfd84036b4a026d2f357c536",
            "_dom_classes": [],
            "description": "Seed",
            "step": 1,
            "_model_name": "IntSliderModel",
            "orientation": "horizontal",
            "max": 40,
            "_view_module": "@jupyter-widgets/controls",
            "_model_module_version": "1.5.0",
            "value": 1,
            "_view_count": null,
            "disabled": false,
            "_view_module_version": "1.5.0",
            "min": 1,
            "continuous_update": true,
            "readout_format": "d",
            "description_tooltip": "Change value if parameter optimization should be performed on another image",
            "readout": true,
            "_model_module": "@jupyter-widgets/controls",
            "layout": "IPY_MODEL_b3d62813c48e4a889858bdc35bf6626d"
          }
        },
        "4b23c246cfd84036b4a026d2f357c536": {
          "model_module": "@jupyter-widgets/controls",
          "model_name": "SliderStyleModel",
          "state": {
            "_view_name": "StyleView",
            "handle_color": null,
            "_model_name": "SliderStyleModel",
            "description_width": "",
            "_view_module": "@jupyter-widgets/base",
            "_model_module_version": "1.5.0",
            "_view_count": null,
            "_view_module_version": "1.2.0",
            "_model_module": "@jupyter-widgets/controls"
          }
        },
        "b3d62813c48e4a889858bdc35bf6626d": {
          "model_module": "@jupyter-widgets/base",
          "model_name": "LayoutModel",
          "state": {
            "_view_name": "LayoutView",
            "grid_template_rows": null,
            "right": null,
            "justify_content": null,
            "_view_module": "@jupyter-widgets/base",
            "overflow": null,
            "_model_module_version": "1.2.0",
            "_view_count": null,
            "flex_flow": null,
            "width": null,
            "min_width": null,
            "border": null,
            "align_items": null,
            "bottom": null,
            "_model_module": "@jupyter-widgets/base",
            "top": null,
            "grid_column": null,
            "overflow_y": null,
            "overflow_x": null,
            "grid_auto_flow": null,
            "grid_area": null,
            "grid_template_columns": null,
            "flex": null,
            "_model_name": "LayoutModel",
            "justify_items": null,
            "grid_row": null,
            "max_height": null,
            "align_content": null,
            "visibility": null,
            "align_self": null,
            "height": null,
            "min_height": null,
            "padding": null,
            "grid_auto_rows": null,
            "grid_gap": null,
            "max_width": null,
            "order": null,
            "_view_module_version": "1.2.0",
            "grid_template_areas": null,
            "object_position": null,
            "object_fit": null,
            "grid_auto_columns": null,
            "margin": null,
            "display": null,
            "left": null
          }
        }
      }
    }
  },
  "cells": [
    {
      "cell_type": "markdown",
      "metadata": {
        "id": "-eGbw_F5Bw1Z",
        "colab_type": "text"
      },
      "source": [
        "# Swell quantification\n",
        "\n",
        "This notebook processes `output.csv` generated by `organoid_recognition.ipnyb`. This notebook contains several steps:\n",
        "\n",
        "1. Mounting the Google Drive to access data\n",
        "2. Installing and loading dependencies \n",
        "3. Defining functions used for post-processing\n",
        "4. Combining recognized organoid data for all images\n",
        "5. Setting parameters and testing post-processing, this cell performs:\n",
        "  - Particle tracking\n",
        "  - Linear Swell regression\n",
        "  - Outlier removal based on standard error of slope parameter\n",
        "6. Save output graph and output summary\n",
        "\n",
        "Google Drive instructions\n",
        "- Ensure that the shared `OrgaSwell` directory is placed in the Google Drive root\n",
        "- Ensure that images to be quantified are placed within a subdirectory in `OrgaSwell/images`\n",
        "\n",
        "## 1. Mount the Google Drive to access data\n",
        "\n",
        "Follow the link and instructions."
      ]
    },
    {
      "cell_type": "code",
      "metadata": {
        "id": "O1xu9YD0uoJa",
        "colab_type": "code",
        "outputId": "817b0672-d7b4-4b99-c859-e93c236613a3",
        "colab": {
          "base_uri": "https://localhost:8080/",
          "height": 36
        }
      },
      "source": [
        "from google.colab import drive\n",
        "drive.mount('/content/drive')"
      ],
      "execution_count": 1,
      "outputs": [
        {
          "output_type": "stream",
          "text": [
            "Drive already mounted at /content/drive; to attempt to forcibly remount, call drive.mount(\"/content/drive\", force_remount=True).\n"
          ],
          "name": "stdout"
        }
      ]
    },
    {
      "cell_type": "markdown",
      "metadata": {
        "id": "u3iwSvLj_vr8",
        "colab_type": "text"
      },
      "source": [
        "## 2. Installing and loading dependencies "
      ]
    },
    {
      "cell_type": "code",
      "metadata": {
        "id": "pT8B2rOEvVLh",
        "colab_type": "code",
        "outputId": "f7263030-616b-4b43-efd7-13f14f433209",
        "colab": {
          "base_uri": "https://localhost:8080/",
          "height": 36
        }
      },
      "source": [
        "%cd drive/My\\ Drive/OrgaSwell\n",
        "\n",
        "!pip install -q trackpy\n",
        "\n",
        "import altair as alt\n",
        "import trackpy as tp\n",
        "import numpy as np\n",
        "import pandas as pd\n",
        "from pathlib import Path\n",
        "import ipywidgets as widgets\n",
        "import statsmodels.api as sm"
      ],
      "execution_count": 2,
      "outputs": [
        {
          "output_type": "stream",
          "text": [
            "/content/drive/My Drive/OrgaSwell\n"
          ],
          "name": "stdout"
        }
      ]
    },
    {
      "cell_type": "markdown",
      "metadata": {
        "id": "2iG1YW8QheiQ",
        "colab_type": "text"
      },
      "source": [
        "## 3. Defining functions used for postprocessing"
      ]
    },
    {
      "cell_type": "code",
      "metadata": {
        "id": "Zm3bjCHLLYSE",
        "colab_type": "code",
        "colab": {}
      },
      "source": [
        "def graphical_well_summary(df):\n",
        "  # Much of this code is duplicated in processing_impact_graph, can be rewritten in a single function\n",
        "\n",
        "  well_nr = df['well'].values[0]\n",
        "\n",
        "  output_filename = Path(df['parent_dir'].values[0]) / f'well_{well_nr}_graphical_summary'\n",
        "  chart = alt.Chart(df).encode(color=alt.Color('particle:N', legend=None), tooltip=['particle:N'])\n",
        "  tracking = chart.mark_point().encode(x=alt.X('x:Q', axis=alt.Axis(labels=False, ticks=False), title=None), \n",
        "                                       y=alt.Y('y:Q', axis=alt.Axis(labels=False, ticks=False), title=None))\n",
        "  \n",
        "\n",
        "  swell = chart.mark_line().encode(x='t:O', y=alt.Y('surface:Q', title='Surface (pixels^2)'))\n",
        "  swell_fitted = chart.mark_point().encode(x='t:O', y=alt.Y('y_hat', title=None))\n",
        "\n",
        "\n",
        "  df_to_plot_param = df[['well','particle','param_t']].drop_duplicates()\n",
        "  df_to_plot_param['rank'] = df_to_plot_param.groupby('well')['param_t'].rank()\n",
        "\n",
        "  bars = alt.Chart(df_to_plot_param).mark_bar()\\\n",
        "            .encode(x=alt.X('rank:O', title='particle counter'),\n",
        "                    y=alt.Y('param_t:Q',title='Swell Rate (pixel^2/frame)'),\n",
        "                    color=alt.Color('particle:N', legend=None),\n",
        "                    tooltip=['particle:N'])\n",
        "\n",
        "  (tracking | (swell + swell_fitted) | bars).save(str(output_filename), format='html')\n",
        "\n",
        "def linear_reg(df):\n",
        "\n",
        "  y = df['surface']\n",
        "  x = df['t']\n",
        "\n",
        "  x = sm.add_constant(x)\n",
        "  model = sm.OLS(y,x).fit()\n",
        "\n",
        "  y_hat = model.predict(x)\n",
        "  df['y_hat'] = y_hat\n",
        "\n",
        "  params = model.params\n",
        "  df['param_const'] = params['const']\n",
        "  df['param_t'] = params['t']\n",
        "\n",
        "  std_err = model.HC1_se\n",
        "  df['param_const_se'] = std_err['const']\n",
        "  df['param_t_se'] = std_err['t']\n",
        "  return df\n",
        "\n",
        "def processing_impact_graph(df):\n",
        "  # Select 3 wells to show impact of processing\n",
        "  wells = np.random.choice(df['well'].unique(), 3)\n",
        "  df_to_plot = df[df['well'].isin(wells)]\n",
        "\n",
        "  df_to_plot_param = df_to_plot[['well','particle','param_t']].drop_duplicates()\n",
        "  df_to_plot_param['rank'] = df_to_plot_param.groupby('well')['param_t'].rank()\n",
        "\n",
        "  chart = alt.Chart(df_to_plot, width=300, height=200)\n",
        "  time_chart = chart.encode(x='t', color=alt.Color('particle:N',legend=None), \n",
        "                                  tooltip=['particle:N','param_t_se:Q'])\n",
        "  point = time_chart.mark_line().encode(y='surface:Q')\n",
        "  line = time_chart.mark_point().encode(y='y_hat')\n",
        "\n",
        "  bars = alt.Chart(df_to_plot_param, width=300, height=200).mark_bar()\\\n",
        "            .encode(x=alt.X('rank:O', title='particle counter'),\n",
        "                    y=alt.Y('param_t:Q',title='Swell Rate (pixel^2 / Frame)'),\n",
        "                    color=alt.Color('particle:N', legend=None),\n",
        "                    tooltip=['particle:N'])\n",
        "\n",
        "  ((point + line).facet(row = 'well').resolve_scale(y='independent') | \n",
        "   bars.facet(row='well').resolve_scale(x='independent')).display()\n",
        "\n",
        "def summary_graph(df_summ, output_dir):\n",
        "  df_summ['ruler'] = 0\n",
        "\n",
        "  chart = alt.Chart(df_summ).encode(x=alt.X('well:N'))\n",
        "\n",
        "  error_bars = chart.mark_errorbar(extent='ci').encode(y=alt.Y('param_t:Q', title=None))\n",
        "\n",
        "  points = chart.mark_point(filled=True, color='black')\\\n",
        "                .encode(y=alt.Y('param_t:Q', aggregate='mean', title='Swell rate (Pixel^2 / Frame)'),\n",
        "                        tooltip=[alt.Tooltip('count(param_t)', title='n particles'), 'well'])\n",
        "\n",
        "  ruler = chart.mark_rule(color='r').encode(y='ruler:Q')\n",
        "\n",
        "  graph = (error_bars + points + ruler)\n",
        "  graph.display()\n",
        "  graph.save(str(output_dir / 'summary'), format='html')"
      ],
      "execution_count": 0,
      "outputs": []
    },
    {
      "cell_type": "markdown",
      "metadata": {
        "id": "95bMHXbLynbi",
        "colab_type": "text"
      },
      "source": [
        "# 4. Combining data for all images\n",
        "\n",
        "Load csv's for each images and create output.csv for further processing. First we have to select the folder we want to analyze."
      ]
    },
    {
      "cell_type": "code",
      "metadata": {
        "id": "Gg209gX_zXKe",
        "colab_type": "code",
        "colab": {
          "base_uri": "https://localhost:8080/",
          "height": 49,
          "referenced_widgets": [
            "2d2b9458ade14e51b1d05a1d4c46d55f",
            "a8e6abacabfe4f0a82688a175bc097e2",
            "937d29dbe15b418881c4de8725a953be"
          ]
        },
        "outputId": "47c0c3ca-bcd5-4db7-86d4-3e8a9b33f086"
      },
      "source": [
        "slider_path = widgets.Dropdown(options=[x.name for x in Path('./images').iterdir() if x.is_dir()],\n",
        "                               description='Directory:',disabled=False)\n",
        "\n",
        "display(slider_path)"
      ],
      "execution_count": 4,
      "outputs": [
        {
          "output_type": "display_data",
          "data": {
            "application/vnd.jupyter.widget-view+json": {
              "model_id": "2d2b9458ade14e51b1d05a1d4c46d55f",
              "version_minor": 0,
              "version_major": 2
            },
            "text/plain": [
              "Dropdown(description='Directory:', options=('Matrigel coated plate 2', 'FDA screen 113 FDA1 n1 test', 'FDA scr…"
            ]
          },
          "metadata": {
            "tags": []
          }
        }
      ]
    },
    {
      "cell_type": "code",
      "metadata": {
        "id": "Y-gsV6aqyh2B",
        "colab_type": "code",
        "colab": {
          "base_uri": "https://localhost:8080/",
          "height": 55
        },
        "outputId": "1b08b993-ad02-47e4-ec4e-51483b01040b"
      },
      "source": [
        "folder_path = Path('./images') / slider_path.value\n",
        "\n",
        "print('Saving combined output csv with all data')\n",
        "# Combining all image .csv in an output .csv\n",
        "target_files = [i for i in Path(folder_path).glob('**/*.csv') if 'output' not in str(i)]\n",
        "df = pd.concat((pd.read_csv(file).assign(filename=file.stem, parent_dir=file.parent) for file in target_files), sort=False)\n",
        "df['well'] = df['filename'].str.extract(r's(\\d*)t').astype('int')\n",
        "df['t'] = df['filename'].str.extract(r't(\\d*)c').astype('int')\n",
        "df['surface'] = df['Diameter 1 (Pixels)'] * df['Diameter 2 (Pixels)'] * np.pi\n",
        "\n",
        "# Calculate centers\n",
        "df['x'] = (df['x2'] + df['x1']) / 2\n",
        "df['y'] = (df['y2'] + df['y1']) / 2\n",
        "  \n",
        "df.to_csv(folder_path / 'output.csv', sep=';', index=False)\n",
        "print('Output is saved')"
      ],
      "execution_count": 5,
      "outputs": [
        {
          "output_type": "stream",
          "text": [
            "Saving combined output csv with all data\n",
            "Output is saved\n"
          ],
          "name": "stdout"
        }
      ]
    },
    {
      "cell_type": "markdown",
      "metadata": {
        "id": "bvbMqqzZAsQn",
        "colab_type": "text"
      },
      "source": [
        "## 5. Setting parameters and testing post-processing\n",
        "\n",
        "Set parameters for particle tracking and linear regression outlier detection. Assess the set parameters based on the graph generated by the next cell."
      ]
    },
    {
      "cell_type": "code",
      "metadata": {
        "id": "SOSZ1GHcLl6h",
        "colab_type": "code",
        "outputId": "fc94317d-67a8-4198-f9c8-4f3c2cc805d7",
        "colab": {
          "base_uri": "https://localhost:8080/",
          "height": 139,
          "referenced_widgets": [
            "9ababd3148044294a1ed1d024f0014f7",
            "48ca2050557a4a5ead3ab1ec49b6a127",
            "605be3dc3ca943f9834042d4a7a8a2a0",
            "9ce53b43b87d46e3bbead297e41bca0a",
            "09462701dab74226aae0f18977738f8b",
            "1fafc2261b994be19838fb6891a734d7",
            "802dba9e1e2e431caed11329e9a7ffeb",
            "fa95eb39abd949e0bbd79fcc190cca11",
            "7bb22052292d46f89c786d1c0be5123e",
            "27aa68003bf741a986d093b95ced7833",
            "4b23c246cfd84036b4a026d2f357c536",
            "b3d62813c48e4a889858bdc35bf6626d"
          ]
        }
      },
      "source": [
        "slider_memory  = widgets.IntSlider(value=2, min=0, max=13, description='Memory', \n",
        "                                        description_tooltip='Max number of consecutive frames a organoid can be undetected before reappering')\n",
        "\n",
        "slider_min_t_steps  = widgets.IntSlider(value=10, min=0, max=13, description='Min t steps', \n",
        "                                        description_tooltip='Min number of time steps an organoid has to be observed')\n",
        "\n",
        "slider_max_se  = widgets.IntSlider(value=11, min=5, max=25, description='Max Std Err', \n",
        "                                        description_tooltip='Max Std Error of fitted area incease parameter')\n",
        "\n",
        "slider_seed = widgets.IntSlider(value=1, min=1, max=40, step=1, description='Seed',\n",
        "                                    description_tooltip='Change value if parameter optimization should be performed on another image')\n",
        "\n",
        "display(slider_memory, slider_min_t_steps, slider_max_se, slider_seed)"
      ],
      "execution_count": 6,
      "outputs": [
        {
          "output_type": "display_data",
          "data": {
            "application/vnd.jupyter.widget-view+json": {
              "model_id": "9ababd3148044294a1ed1d024f0014f7",
              "version_minor": 0,
              "version_major": 2
            },
            "text/plain": [
              "IntSlider(value=2, description='Memory', description_tooltip='Max number of consecutive frames a organoid can …"
            ]
          },
          "metadata": {
            "tags": []
          }
        },
        {
          "output_type": "display_data",
          "data": {
            "application/vnd.jupyter.widget-view+json": {
              "model_id": "9ce53b43b87d46e3bbead297e41bca0a",
              "version_minor": 0,
              "version_major": 2
            },
            "text/plain": [
              "IntSlider(value=10, description='Min t steps', description_tooltip='Min number of time steps an organoid has t…"
            ]
          },
          "metadata": {
            "tags": []
          }
        },
        {
          "output_type": "display_data",
          "data": {
            "application/vnd.jupyter.widget-view+json": {
              "model_id": "802dba9e1e2e431caed11329e9a7ffeb",
              "version_minor": 0,
              "version_major": 2
            },
            "text/plain": [
              "IntSlider(value=11, description='Max Std Err', description_tooltip='Max Std Error of fitted area incease param…"
            ]
          },
          "metadata": {
            "tags": []
          }
        },
        {
          "output_type": "display_data",
          "data": {
            "application/vnd.jupyter.widget-view+json": {
              "model_id": "27aa68003bf741a986d093b95ced7833",
              "version_minor": 0,
              "version_major": 2
            },
            "text/plain": [
              "IntSlider(value=1, description='Seed', description_tooltip='Change value if parameter optimization should be p…"
            ]
          },
          "metadata": {
            "tags": []
          }
        }
      ]
    },
    {
      "cell_type": "code",
      "metadata": {
        "id": "teQQ7kFdoNc2",
        "colab_type": "code",
        "outputId": "2c9a41e6-82f8-452f-f88b-1bac85974d69",
        "colab": {
          "base_uri": "https://localhost:8080/",
          "height": 593
        }
      },
      "source": [
        "# Parameters\n",
        "memory = slider_memory.value\n",
        "required_t_steps = slider_min_t_steps.value\n",
        "max_se = slider_max_se.value\n",
        "seed = slider_seed.value\n",
        "\n",
        "# Load data\n",
        "df = pd.read_csv(folder_path / 'output.csv', sep=';')\n",
        "\n",
        "# Calculate centers\n",
        "df['x'] = (df['x2'] + df['x1']) / 2\n",
        "df['y'] = (df['y2'] + df['y1']) / 2\n",
        "\n",
        "# Apply particle tracking\n",
        "df = df.groupby('well').apply(tp.link, search_range=20, memory=memory, t_column='t').reset_index(drop=True)\n",
        "\n",
        "# Filter for particles that have at least 10 timesteps\n",
        "df = df[df.groupby(['well','particle'])['t'].transform('count') >= required_t_steps]\n",
        "\n",
        "if len(df) == 0:\n",
        "  raise Exception('Warning: no particles are left with these settings')\n",
        "\n",
        "df = df.groupby(['well','particle']).apply(linear_reg)\n",
        "\n",
        "# Remove particles with high t_se\n",
        "df = df[df['param_t_se'] <= max_se]\n",
        "\n",
        "processing_impact_graph(df)"
      ],
      "execution_count": 8,
      "outputs": [
        {
          "output_type": "stream",
          "text": [
            "Frame 9: 4 trajectories present.\n"
          ],
          "name": "stdout"
        },
        {
          "output_type": "stream",
          "text": [
            "/usr/local/lib/python3.6/dist-packages/numpy/core/fromnumeric.py:2495: FutureWarning: Method .ptp is deprecated and will be removed in a future version. Use numpy.ptp instead.\n",
            "  return ptp(axis=axis, out=out, **kwargs)\n"
          ],
          "name": "stderr"
        },
        {
          "output_type": "display_data",
          "data": {
            "text/plain": [
              "alt.HConcatChart(...)"
            ],
            "text/html": [
              "\n",
              "<div id=\"altair-viz-1\"></div>\n",
              "<script type=\"text/javascript\">\n",
              "  (function(spec, embedOpt){\n",
              "    const outputDiv = document.getElementById(\"altair-viz-1\");\n",
              "    const paths = {\n",
              "      \"vega\": \"https://cdn.jsdelivr.net/npm//vega@5?noext\",\n",
              "      \"vega-lib\": \"https://cdn.jsdelivr.net/npm//vega-lib?noext\",\n",
              "      \"vega-lite\": \"https://cdn.jsdelivr.net/npm//vega-lite@4.0.0?noext\",\n",
              "      \"vega-embed\": \"https://cdn.jsdelivr.net/npm//vega-embed@6?noext\",\n",
              "    };\n",
              "\n",
              "    function loadScript(lib) {\n",
              "      return new Promise(function(resolve, reject) {\n",
              "        var s = document.createElement('script');\n",
              "        s.src = paths[lib];\n",
              "        s.async = true;\n",
              "        s.onload = () => resolve(paths[lib]);\n",
              "        s.onerror = () => reject(`Error loading script: ${paths[lib]}`);\n",
              "        document.getElementsByTagName(\"head\")[0].appendChild(s);\n",
              "      });\n",
              "    }\n",
              "\n",
              "    function showError(err) {\n",
              "      outputDiv.innerHTML = `<div class=\"error\" style=\"color:red;\">${err}</div>`;\n",
              "      throw err;\n",
              "    }\n",
              "\n",
              "    function displayChart(vegaEmbed) {\n",
              "      vegaEmbed(outputDiv, spec, embedOpt)\n",
              "        .catch(err => showError(`Javascript Error: ${err.message}<br>This usually means there's a typo in your chart specification. See the javascript console for the full traceback.`));\n",
              "    }\n",
              "\n",
              "    if(typeof define === \"function\" && define.amd) {\n",
              "      requirejs.config({paths});\n",
              "      require([\"vega-embed\"], displayChart, err => showError(`Error loading script: ${err.message}`));\n",
              "    } else if (typeof vegaEmbed === \"function\") {\n",
              "      displayChart(vegaEmbed);\n",
              "    } else {\n",
              "      loadScript(\"vega\")\n",
              "        .then(() => loadScript(\"vega-lite\"))\n",
              "        .then(() => loadScript(\"vega-embed\"))\n",
              "        .catch(showError)\n",
              "        .then(() => displayChart(vegaEmbed));\n",
              "    }\n",
              "  })({\"config\": {\"view\": {\"continuousWidth\": 400, \"continuousHeight\": 300}}, \"hconcat\": [{\"data\": {\"name\": \"data-ca0dd6dbb12278b812037fe8e41569ce\"}, \"facet\": {\"row\": {\"type\": \"quantitative\", \"field\": \"well\"}}, \"spec\": {\"layer\": [{\"mark\": \"line\", \"encoding\": {\"color\": {\"type\": \"nominal\", \"field\": \"particle\", \"legend\": null}, \"tooltip\": [{\"type\": \"nominal\", \"field\": \"particle\"}, {\"type\": \"quantitative\", \"field\": \"param_t_se\"}], \"x\": {\"type\": \"quantitative\", \"field\": \"t\"}, \"y\": {\"type\": \"quantitative\", \"field\": \"surface\"}}, \"height\": 200, \"width\": 300}, {\"mark\": \"point\", \"encoding\": {\"color\": {\"type\": \"nominal\", \"field\": \"particle\", \"legend\": null}, \"tooltip\": [{\"type\": \"nominal\", \"field\": \"particle\"}, {\"type\": \"quantitative\", \"field\": \"param_t_se\"}], \"x\": {\"type\": \"quantitative\", \"field\": \"t\"}, \"y\": {\"type\": \"quantitative\", \"field\": \"y_hat\"}}, \"height\": 200, \"width\": 300}]}, \"resolve\": {\"scale\": {\"y\": \"independent\"}}}, {\"data\": {\"name\": \"data-98d030eb39e83cc234bb701c8fb36902\"}, \"facet\": {\"row\": {\"type\": \"quantitative\", \"field\": \"well\"}}, \"spec\": {\"mark\": \"bar\", \"encoding\": {\"color\": {\"type\": \"nominal\", \"field\": \"particle\", \"legend\": null}, \"tooltip\": [{\"type\": \"nominal\", \"field\": \"particle\"}], \"x\": {\"type\": \"ordinal\", \"field\": \"rank\", \"title\": \"particle counter\"}, \"y\": {\"type\": \"quantitative\", \"field\": \"param_t\", \"title\": \"Swell Rate (pixel^2 / Frame)\"}}, \"height\": 200, \"width\": 300}, \"resolve\": {\"scale\": {\"x\": \"independent\"}}}], \"$schema\": \"https://vega.github.io/schema/vega-lite/v4.0.0.json\", \"datasets\": {\"data-ca0dd6dbb12278b812037fe8e41569ce\": [{\"x1\": 306, \"y1\": 349, \"x2\": 327, \"y2\": 368, \"score\": 0.9999995827674866, \"Diameter 1 (Pixels)\": 21, \"Diameter 2 (Pixels)\": 19, \"filename\": \"Well 4_s04t1c2.jpg\", \"parent_dir\": \"images/Matrigel coated plate 2/Well 4\", \"well\": 4, \"t\": 1, \"surface\": 1253.4954687823276, \"x\": 316.5, \"y\": 358.5, \"particle\": 0, \"y_hat\": 1323.5180783723401, \"param_const\": 1331.6862192716735, \"param_t\": -8.168140899333466, \"param_const_se\": 45.37973623643735, \"param_t_se\": 6.636781167640232}, {\"x1\": 349, \"y1\": 214, \"x2\": 363, \"y2\": 228, \"score\": 0.9999985694885254, \"Diameter 1 (Pixels)\": 14, \"Diameter 2 (Pixels)\": 14, \"filename\": \"Well 4_s04t1c2.jpg\", \"parent_dir\": \"images/Matrigel coated plate 2/Well 4\", \"well\": 4, \"t\": 1, \"surface\": 615.7521601035994, \"x\": 356.0, \"y\": 221.0, \"particle\": 2, \"y_hat\": 596.1346593111832, \"param_const\": 599.6951309852516, \"param_t\": -3.560471674068424, \"param_const_se\": 17.60429346328076, \"param_t_se\": 3.7300958099340034}, {\"x1\": 168, \"y1\": 193, \"x2\": 187, \"y2\": 213, \"score\": 0.995972752571106, \"Diameter 1 (Pixels)\": 19, \"Diameter 2 (Pixels)\": 20, \"filename\": \"Well 4_s04t1c2.jpg\", \"parent_dir\": \"images/Matrigel coated plate 2/Well 4\", \"well\": 4, \"t\": 1, \"surface\": 1193.8052083641217, \"x\": 177.5, \"y\": 203.0, \"particle\": 3, \"y_hat\": 1162.3194686581437, \"param_const\": 1176.090116456379, \"param_t\": -13.770647798235274, \"param_const_se\": 19.047254396191352, \"param_t_se\": 3.1551952653287323}, {\"x1\": 279, \"y1\": 188, \"x2\": 298, \"y2\": 204, \"score\": 0.9999139308929444, \"Diameter 1 (Pixels)\": 19, \"Diameter 2 (Pixels)\": 16, \"filename\": \"Well 4_s04t1c2.jpg\", \"parent_dir\": \"images/Matrigel coated plate 2/Well 4\", \"well\": 4, \"t\": 1, \"surface\": 955.044166691297, \"x\": 288.5, \"y\": 196.0, \"particle\": 5, \"y_hat\": 903.2427944921053, \"param_const\": 925.2863029447936, \"param_t\": -22.043508452688357, \"param_const_se\": 45.64538481444974, \"param_t_se\": 6.508685006320297}, {\"x1\": 203, \"y1\": 161, \"x2\": 218, \"y2\": 176, \"score\": 0.9998657703399658, \"Diameter 1 (Pixels)\": 15, \"Diameter 2 (Pixels)\": 15, \"filename\": \"Well 4_s04t1c2.jpg\", \"parent_dir\": \"images/Matrigel coated plate 2/Well 4\", \"well\": 4, \"t\": 1, \"surface\": 706.8583470577034, \"x\": 210.5, \"y\": 168.5, \"particle\": 6, \"y_hat\": 705.8809626765868, \"param_const\": 713.5778646778817, \"param_t\": -7.696902001294966, \"param_const_se\": 9.406849929489539, \"param_t_se\": 2.4398400064218024}, {\"x1\": 304, \"y1\": 347, \"x2\": 326, \"y2\": 367, \"score\": 1.0, \"Diameter 1 (Pixels)\": 22, \"Diameter 2 (Pixels)\": 20, \"filename\": \"Well 4_s04t2c2.jpg\", \"parent_dir\": \"images/Matrigel coated plate 2/Well 4\", \"well\": 4, \"t\": 2, \"surface\": 1382.300767579509, \"x\": 315.0, \"y\": 357.0, \"particle\": 0, \"y_hat\": 1315.3499374730065, \"param_const\": 1331.6862192716735, \"param_t\": -8.168140899333466, \"param_const_se\": 45.37973623643735, \"param_t_se\": 6.636781167640232}, {\"x1\": 167, \"y1\": 192, \"x2\": 185, \"y2\": 212, \"score\": 0.946492075920105, \"Diameter 1 (Pixels)\": 18, \"Diameter 2 (Pixels)\": 20, \"filename\": \"Well 4_s04t2c2.jpg\", \"parent_dir\": \"images/Matrigel coated plate 2/Well 4\", \"well\": 4, \"t\": 2, \"surface\": 1130.9733552923256, \"x\": 176.0, \"y\": 202.0, \"particle\": 3, \"y_hat\": 1148.5488208599086, \"param_const\": 1176.090116456379, \"param_t\": -13.770647798235274, \"param_const_se\": 19.047254396191352, \"param_t_se\": 3.1551952653287323}, {\"x1\": 201, \"y1\": 159, \"x2\": 217, \"y2\": 173, \"score\": 0.9799922704696656, \"Diameter 1 (Pixels)\": 16, \"Diameter 2 (Pixels)\": 14, \"filename\": \"Well 4_s04t2c2.jpg\", \"parent_dir\": \"images/Matrigel coated plate 2/Well 4\", \"well\": 4, \"t\": 2, \"surface\": 703.7167544041138, \"x\": 209.0, \"y\": 166.0, \"particle\": 6, \"y_hat\": 698.1840606752918, \"param_const\": 713.5778646778817, \"param_t\": -7.696902001294966, \"param_const_se\": 9.406849929489539, \"param_t_se\": 2.4398400064218024}, {\"x1\": 161, \"y1\": 340, \"x2\": 174, \"y2\": 355, \"score\": 0.9978491067886353, \"Diameter 1 (Pixels)\": 13, \"Diameter 2 (Pixels)\": 15, \"filename\": \"Well 4_s04t2c2.jpg\", \"parent_dir\": \"images/Matrigel coated plate 2/Well 4\", \"well\": 4, \"t\": 2, \"surface\": 612.6105674500096, \"x\": 167.5, \"y\": 347.5, \"particle\": 10, \"y_hat\": 636.1725123519329, \"param_const\": 622.7085438365482, \"param_t\": 6.731984257692396, \"param_const_se\": 21.837468220614642, \"param_t_se\": 4.038003081253117}, {\"x1\": 149, \"y1\": 340, \"x2\": 160, \"y2\": 353, \"score\": 0.9997923374176024, \"Diameter 1 (Pixels)\": 11, \"Diameter 2 (Pixels)\": 13, \"filename\": \"Well 4_s04t2c2.jpg\", \"parent_dir\": \"images/Matrigel coated plate 2/Well 4\", \"well\": 4, \"t\": 2, \"surface\": 449.24774946334037, \"x\": 154.5, \"y\": 346.5, \"particle\": 9, \"y_hat\": 479.87827783584066, \"param_const\": 476.9610846575073, \"param_t\": 1.4585965891666746, \"param_const_se\": 26.75608742676216, \"param_t_se\": 5.27827353957616}, {\"x1\": 278, \"y1\": 186, \"x2\": 295, \"y2\": 201, \"score\": 0.999983549118042, \"Diameter 1 (Pixels)\": 17, \"Diameter 2 (Pixels)\": 15, \"filename\": \"Well 4_s04t2c2.jpg\", \"parent_dir\": \"images/Matrigel coated plate 2/Well 4\", \"well\": 4, \"t\": 2, \"surface\": 801.1061266653971, \"x\": 286.5, \"y\": 193.5, \"particle\": 5, \"y_hat\": 881.199286039417, \"param_const\": 925.2863029447936, \"param_t\": -22.043508452688357, \"param_const_se\": 45.64538481444974, \"param_t_se\": 6.508685006320297}, {\"x1\": 348, \"y1\": 212, \"x2\": 362, \"y2\": 225, \"score\": 1.0, \"Diameter 1 (Pixels)\": 14, \"Diameter 2 (Pixels)\": 13, \"filename\": \"Well 4_s04t2c2.jpg\", \"parent_dir\": \"images/Matrigel coated plate 2/Well 4\", \"well\": 4, \"t\": 2, \"surface\": 571.7698629533423, \"x\": 355.0, \"y\": 218.5, \"particle\": 2, \"y_hat\": 592.5741876371147, \"param_const\": 599.6951309852516, \"param_t\": -3.560471674068424, \"param_const_se\": 17.60429346328076, \"param_t_se\": 3.7300958099340034}, {\"x1\": 277, \"y1\": 186, \"x2\": 296, \"y2\": 200, \"score\": 0.9997531771659852, \"Diameter 1 (Pixels)\": 19, \"Diameter 2 (Pixels)\": 14, \"filename\": \"Well 4_s04t3c2.jpg\", \"parent_dir\": \"images/Matrigel coated plate 2/Well 4\", \"well\": 4, \"t\": 3, \"surface\": 835.663645854885, \"x\": 286.5, \"y\": 193.0, \"particle\": 5, \"y_hat\": 859.1557775867286, \"param_const\": 925.2863029447936, \"param_t\": -22.043508452688357, \"param_const_se\": 45.64538481444974, \"param_t_se\": 6.508685006320297}, {\"x1\": 166, \"y1\": 192, \"x2\": 185, \"y2\": 211, \"score\": 0.9913089275360109, \"Diameter 1 (Pixels)\": 19, \"Diameter 2 (Pixels)\": 19, \"filename\": \"Well 4_s04t3c2.jpg\", \"parent_dir\": \"images/Matrigel coated plate 2/Well 4\", \"well\": 4, \"t\": 3, \"surface\": 1134.1149479459152, \"x\": 175.5, \"y\": 201.5, \"particle\": 3, \"y_hat\": 1134.7781730616732, \"param_const\": 1176.090116456379, \"param_t\": -13.770647798235274, \"param_const_se\": 19.047254396191352, \"param_t_se\": 3.1551952653287323}, {\"x1\": 160, \"y1\": 339, \"x2\": 174, \"y2\": 354, \"score\": 0.9999313354492188, \"Diameter 1 (Pixels)\": 14, \"Diameter 2 (Pixels)\": 15, \"filename\": \"Well 4_s04t3c2.jpg\", \"parent_dir\": \"images/Matrigel coated plate 2/Well 4\", \"well\": 4, \"t\": 3, \"surface\": 659.7344572538567, \"x\": 167.0, \"y\": 346.5, \"particle\": 10, \"y_hat\": 642.9044966096254, \"param_const\": 622.7085438365482, \"param_t\": 6.731984257692396, \"param_const_se\": 21.837468220614642, \"param_t_se\": 4.038003081253117}, {\"x1\": 148, \"y1\": 339, \"x2\": 160, \"y2\": 352, \"score\": 0.9999634027481079, \"Diameter 1 (Pixels)\": 12, \"Diameter 2 (Pixels)\": 13, \"filename\": \"Well 4_s04t3c2.jpg\", \"parent_dir\": \"images/Matrigel coated plate 2/Well 4\", \"well\": 4, \"t\": 3, \"surface\": 490.0884539600077, \"x\": 154.0, \"y\": 345.5, \"particle\": 9, \"y_hat\": 481.3368744250073, \"param_const\": 476.9610846575073, \"param_t\": 1.4585965891666746, \"param_const_se\": 26.75608742676216, \"param_t_se\": 5.27827353957616}, {\"x1\": 201, \"y1\": 158, \"x2\": 216, \"y2\": 173, \"score\": 0.999998927116394, \"Diameter 1 (Pixels)\": 15, \"Diameter 2 (Pixels)\": 15, \"filename\": \"Well 4_s04t3c2.jpg\", \"parent_dir\": \"images/Matrigel coated plate 2/Well 4\", \"well\": 4, \"t\": 3, \"surface\": 706.8583470577034, \"x\": 208.5, \"y\": 165.5, \"particle\": 6, \"y_hat\": 690.4871586739969, \"param_const\": 713.5778646778817, \"param_t\": -7.696902001294966, \"param_const_se\": 9.406849929489539, \"param_t_se\": 2.4398400064218024}, {\"x1\": 304, \"y1\": 346, \"x2\": 325, \"y2\": 366, \"score\": 1.0, \"Diameter 1 (Pixels)\": 21, \"Diameter 2 (Pixels)\": 20, \"filename\": \"Well 4_s04t3c2.jpg\", \"parent_dir\": \"images/Matrigel coated plate 2/Well 4\", \"well\": 4, \"t\": 3, \"surface\": 1319.4689145077134, \"x\": 314.5, \"y\": 356.0, \"particle\": 0, \"y_hat\": 1307.1817965736732, \"param_const\": 1331.6862192716735, \"param_t\": -8.168140899333466, \"param_const_se\": 45.37973623643735, \"param_t_se\": 6.636781167640232}, {\"x1\": 348, \"y1\": 211, \"x2\": 362, \"y2\": 225, \"score\": 1.0, \"Diameter 1 (Pixels)\": 14, \"Diameter 2 (Pixels)\": 14, \"filename\": \"Well 4_s04t3c2.jpg\", \"parent_dir\": \"images/Matrigel coated plate 2/Well 4\", \"well\": 4, \"t\": 3, \"surface\": 615.7521601035994, \"x\": 355.0, \"y\": 218.0, \"particle\": 2, \"y_hat\": 589.0137159630463, \"param_const\": 599.6951309852516, \"param_t\": -3.560471674068424, \"param_const_se\": 17.60429346328076, \"param_t_se\": 3.7300958099340034}, {\"x1\": 348, \"y1\": 211, \"x2\": 361, \"y2\": 225, \"score\": 1.0, \"Diameter 1 (Pixels)\": 13, \"Diameter 2 (Pixels)\": 14, \"filename\": \"Well 4_s04t4c2.jpg\", \"parent_dir\": \"images/Matrigel coated plate 2/Well 4\", \"well\": 4, \"t\": 4, \"surface\": 571.7698629533423, \"x\": 354.5, \"y\": 218.0, \"particle\": 2, \"y_hat\": 585.4532442889779, \"param_const\": 599.6951309852516, \"param_t\": -3.560471674068424, \"param_const_se\": 17.60429346328076, \"param_t_se\": 3.7300958099340034}, {\"x1\": 277, \"y1\": 185, \"x2\": 295, \"y2\": 201, \"score\": 0.9999992251396179, \"Diameter 1 (Pixels)\": 18, \"Diameter 2 (Pixels)\": 16, \"filename\": \"Well 4_s04t4c2.jpg\", \"parent_dir\": \"images/Matrigel coated plate 2/Well 4\", \"well\": 4, \"t\": 4, \"surface\": 904.7786842338603, \"x\": 286.0, \"y\": 193.0, \"particle\": 5, \"y_hat\": 837.1122691340402, \"param_const\": 925.2863029447936, \"param_t\": -22.043508452688357, \"param_const_se\": 45.64538481444974, \"param_t_se\": 6.508685006320297}, {\"x1\": 201, \"y1\": 158, \"x2\": 216, \"y2\": 172, \"score\": 0.9999851584434508, \"Diameter 1 (Pixels)\": 15, \"Diameter 2 (Pixels)\": 14, \"filename\": \"Well 4_s04t4c2.jpg\", \"parent_dir\": \"images/Matrigel coated plate 2/Well 4\", \"well\": 4, \"t\": 4, \"surface\": 659.7344572538567, \"x\": 208.5, \"y\": 165.0, \"particle\": 6, \"y_hat\": 682.7902566727018, \"param_const\": 713.5778646778817, \"param_t\": -7.696902001294966, \"param_const_se\": 9.406849929489539, \"param_t_se\": 2.4398400064218024}, {\"x1\": 304, \"y1\": 346, \"x2\": 325, \"y2\": 366, \"score\": 0.9999998807907104, \"Diameter 1 (Pixels)\": 21, \"Diameter 2 (Pixels)\": 20, \"filename\": \"Well 4_s04t4c2.jpg\", \"parent_dir\": \"images/Matrigel coated plate 2/Well 4\", \"well\": 4, \"t\": 4, \"surface\": 1319.4689145077134, \"x\": 314.5, \"y\": 356.0, \"particle\": 0, \"y_hat\": 1299.0136556743396, \"param_const\": 1331.6862192716735, \"param_t\": -8.168140899333466, \"param_const_se\": 45.37973623643735, \"param_t_se\": 6.636781167640232}, {\"x1\": 148, \"y1\": 339, \"x2\": 160, \"y2\": 352, \"score\": 0.998520016670227, \"Diameter 1 (Pixels)\": 12, \"Diameter 2 (Pixels)\": 13, \"filename\": \"Well 4_s04t4c2.jpg\", \"parent_dir\": \"images/Matrigel coated plate 2/Well 4\", \"well\": 4, \"t\": 4, \"surface\": 490.0884539600077, \"x\": 154.0, \"y\": 345.5, \"particle\": 9, \"y_hat\": 482.795471014174, \"param_const\": 476.9610846575073, \"param_t\": 1.4585965891666746, \"param_const_se\": 26.75608742676216, \"param_t_se\": 5.27827353957616}, {\"x1\": 166, \"y1\": 192, \"x2\": 185, \"y2\": 211, \"score\": 0.9917917251586914, \"Diameter 1 (Pixels)\": 19, \"Diameter 2 (Pixels)\": 19, \"filename\": \"Well 4_s04t4c2.jpg\", \"parent_dir\": \"images/Matrigel coated plate 2/Well 4\", \"well\": 4, \"t\": 4, \"surface\": 1134.1149479459152, \"x\": 175.5, \"y\": 201.5, \"particle\": 3, \"y_hat\": 1121.0075252634379, \"param_const\": 1176.090116456379, \"param_t\": -13.770647798235274, \"param_const_se\": 19.047254396191352, \"param_t_se\": 3.1551952653287323}, {\"x1\": 160, \"y1\": 339, \"x2\": 174, \"y2\": 354, \"score\": 0.9994239211082458, \"Diameter 1 (Pixels)\": 14, \"Diameter 2 (Pixels)\": 15, \"filename\": \"Well 4_s04t4c2.jpg\", \"parent_dir\": \"images/Matrigel coated plate 2/Well 4\", \"well\": 4, \"t\": 4, \"surface\": 659.7344572538567, \"x\": 167.0, \"y\": 346.5, \"particle\": 10, \"y_hat\": 649.6364808673178, \"param_const\": 622.7085438365482, \"param_t\": 6.731984257692396, \"param_const_se\": 21.837468220614642, \"param_t_se\": 4.038003081253117}, {\"x1\": 160, \"y1\": 339, \"x2\": 174, \"y2\": 354, \"score\": 0.9999820590019226, \"Diameter 1 (Pixels)\": 14, \"Diameter 2 (Pixels)\": 15, \"filename\": \"Well 4_s04t5c2.jpg\", \"parent_dir\": \"images/Matrigel coated plate 2/Well 4\", \"well\": 4, \"t\": 5, \"surface\": 659.7344572538567, \"x\": 167.0, \"y\": 346.5, \"particle\": 10, \"y_hat\": 656.3684651250102, \"param_const\": 622.7085438365482, \"param_t\": 6.731984257692396, \"param_const_se\": 21.837468220614642, \"param_t_se\": 4.038003081253117}, {\"x1\": 201, \"y1\": 158, \"x2\": 216, \"y2\": 172, \"score\": 0.9999933242797852, \"Diameter 1 (Pixels)\": 15, \"Diameter 2 (Pixels)\": 14, \"filename\": \"Well 4_s04t5c2.jpg\", \"parent_dir\": \"images/Matrigel coated plate 2/Well 4\", \"well\": 4, \"t\": 5, \"surface\": 659.7344572538567, \"x\": 208.5, \"y\": 165.0, \"particle\": 6, \"y_hat\": 675.0933546714069, \"param_const\": 713.5778646778817, \"param_t\": -7.696902001294966, \"param_const_se\": 9.406849929489539, \"param_t_se\": 2.4398400064218024}, {\"x1\": 348, \"y1\": 211, \"x2\": 361, \"y2\": 225, \"score\": 1.0, \"Diameter 1 (Pixels)\": 13, \"Diameter 2 (Pixels)\": 14, \"filename\": \"Well 4_s04t5c2.jpg\", \"parent_dir\": \"images/Matrigel coated plate 2/Well 4\", \"well\": 4, \"t\": 5, \"surface\": 571.7698629533423, \"x\": 354.5, \"y\": 218.0, \"particle\": 2, \"y_hat\": 581.8927726149095, \"param_const\": 599.6951309852516, \"param_t\": -3.560471674068424, \"param_const_se\": 17.60429346328076, \"param_t_se\": 3.7300958099340034}, {\"x1\": 304, \"y1\": 346, \"x2\": 325, \"y2\": 365, \"score\": 1.0, \"Diameter 1 (Pixels)\": 21, \"Diameter 2 (Pixels)\": 19, \"filename\": \"Well 4_s04t5c2.jpg\", \"parent_dir\": \"images/Matrigel coated plate 2/Well 4\", \"well\": 4, \"t\": 5, \"surface\": 1253.4954687823276, \"x\": 314.5, \"y\": 355.5, \"particle\": 0, \"y_hat\": 1290.8455147750062, \"param_const\": 1331.6862192716735, \"param_t\": -8.168140899333466, \"param_const_se\": 45.37973623643735, \"param_t_se\": 6.636781167640232}, {\"x1\": 166, \"y1\": 192, \"x2\": 185, \"y2\": 210, \"score\": 0.9989854097366332, \"Diameter 1 (Pixels)\": 19, \"Diameter 2 (Pixels)\": 18, \"filename\": \"Well 4_s04t5c2.jpg\", \"parent_dir\": \"images/Matrigel coated plate 2/Well 4\", \"well\": 4, \"t\": 5, \"surface\": 1074.4246875277092, \"x\": 175.5, \"y\": 201.0, \"particle\": 3, \"y_hat\": 1107.2368774652027, \"param_const\": 1176.090116456379, \"param_t\": -13.770647798235274, \"param_const_se\": 19.047254396191352, \"param_t_se\": 3.1551952653287323}, {\"x1\": 148, \"y1\": 339, \"x2\": 160, \"y2\": 352, \"score\": 0.997672438621521, \"Diameter 1 (Pixels)\": 12, \"Diameter 2 (Pixels)\": 13, \"filename\": \"Well 4_s04t5c2.jpg\", \"parent_dir\": \"images/Matrigel coated plate 2/Well 4\", \"well\": 4, \"t\": 5, \"surface\": 490.0884539600077, \"x\": 154.0, \"y\": 345.5, \"particle\": 9, \"y_hat\": 484.2540676033407, \"param_const\": 476.9610846575073, \"param_t\": 1.4585965891666746, \"param_const_se\": 26.75608742676216, \"param_t_se\": 5.27827353957616}, {\"x1\": 277, \"y1\": 185, \"x2\": 295, \"y2\": 200, \"score\": 0.9999998807907104, \"Diameter 1 (Pixels)\": 18, \"Diameter 2 (Pixels)\": 15, \"filename\": \"Well 4_s04t5c2.jpg\", \"parent_dir\": \"images/Matrigel coated plate 2/Well 4\", \"well\": 4, \"t\": 5, \"surface\": 848.2300164692441, \"x\": 286.0, \"y\": 192.5, \"particle\": 5, \"y_hat\": 815.0687606813518, \"param_const\": 925.2863029447936, \"param_t\": -22.043508452688357, \"param_const_se\": 45.64538481444974, \"param_t_se\": 6.508685006320297}, {\"x1\": 347, \"y1\": 212, \"x2\": 361, \"y2\": 225, \"score\": 1.0, \"Diameter 1 (Pixels)\": 14, \"Diameter 2 (Pixels)\": 13, \"filename\": \"Well 4_s04t6c2.jpg\", \"parent_dir\": \"images/Matrigel coated plate 2/Well 4\", \"well\": 4, \"t\": 6, \"surface\": 571.7698629533423, \"x\": 354.0, \"y\": 218.5, \"particle\": 2, \"y_hat\": 578.332300940841, \"param_const\": 599.6951309852516, \"param_t\": -3.560471674068424, \"param_const_se\": 17.60429346328076, \"param_t_se\": 3.7300958099340034}, {\"x1\": 201, \"y1\": 158, \"x2\": 216, \"y2\": 173, \"score\": 0.9990994930267334, \"Diameter 1 (Pixels)\": 15, \"Diameter 2 (Pixels)\": 15, \"filename\": \"Well 4_s04t6c2.jpg\", \"parent_dir\": \"images/Matrigel coated plate 2/Well 4\", \"well\": 4, \"t\": 6, \"surface\": 706.8583470577034, \"x\": 208.5, \"y\": 165.5, \"particle\": 6, \"y_hat\": 667.3964526701119, \"param_const\": 713.5778646778817, \"param_t\": -7.696902001294966, \"param_const_se\": 9.406849929489539, \"param_t_se\": 2.4398400064218024}, {\"x1\": 166, \"y1\": 192, \"x2\": 185, \"y2\": 210, \"score\": 0.9998234510421752, \"Diameter 1 (Pixels)\": 19, \"Diameter 2 (Pixels)\": 18, \"filename\": \"Well 4_s04t6c2.jpg\", \"parent_dir\": \"images/Matrigel coated plate 2/Well 4\", \"well\": 4, \"t\": 6, \"surface\": 1074.4246875277092, \"x\": 175.5, \"y\": 201.0, \"particle\": 3, \"y_hat\": 1093.4662296669674, \"param_const\": 1176.090116456379, \"param_t\": -13.770647798235274, \"param_const_se\": 19.047254396191352, \"param_t_se\": 3.1551952653287323}, {\"x1\": 148, \"y1\": 339, \"x2\": 160, \"y2\": 352, \"score\": 0.999842643737793, \"Diameter 1 (Pixels)\": 12, \"Diameter 2 (Pixels)\": 13, \"filename\": \"Well 4_s04t6c2.jpg\", \"parent_dir\": \"images/Matrigel coated plate 2/Well 4\", \"well\": 4, \"t\": 6, \"surface\": 490.0884539600077, \"x\": 154.0, \"y\": 345.5, \"particle\": 9, \"y_hat\": 485.7126641925073, \"param_const\": 476.9610846575073, \"param_t\": 1.4585965891666746, \"param_const_se\": 26.75608742676216, \"param_t_se\": 5.27827353957616}, {\"x1\": 160, \"y1\": 339, \"x2\": 174, \"y2\": 354, \"score\": 0.9999974966049194, \"Diameter 1 (Pixels)\": 14, \"Diameter 2 (Pixels)\": 15, \"filename\": \"Well 4_s04t6c2.jpg\", \"parent_dir\": \"images/Matrigel coated plate 2/Well 4\", \"well\": 4, \"t\": 6, \"surface\": 659.7344572538567, \"x\": 167.0, \"y\": 346.5, \"particle\": 10, \"y_hat\": 663.1004493827025, \"param_const\": 622.7085438365482, \"param_t\": 6.731984257692396, \"param_const_se\": 21.837468220614642, \"param_t_se\": 4.038003081253117}, {\"x1\": 277, \"y1\": 186, \"x2\": 294, \"y2\": 200, \"score\": 0.9999992847442628, \"Diameter 1 (Pixels)\": 17, \"Diameter 2 (Pixels)\": 14, \"filename\": \"Well 4_s04t6c2.jpg\", \"parent_dir\": \"images/Matrigel coated plate 2/Well 4\", \"well\": 4, \"t\": 6, \"surface\": 747.6990515543707, \"x\": 285.5, \"y\": 193.0, \"particle\": 5, \"y_hat\": 793.0252522286635, \"param_const\": 925.2863029447936, \"param_t\": -22.043508452688357, \"param_const_se\": 45.64538481444974, \"param_t_se\": 6.508685006320297}, {\"x1\": 304, \"y1\": 345, \"x2\": 325, \"y2\": 365, \"score\": 1.0, \"Diameter 1 (Pixels)\": 21, \"Diameter 2 (Pixels)\": 20, \"filename\": \"Well 4_s04t6c2.jpg\", \"parent_dir\": \"images/Matrigel coated plate 2/Well 4\", \"well\": 4, \"t\": 6, \"surface\": 1319.4689145077134, \"x\": 314.5, \"y\": 355.0, \"particle\": 0, \"y_hat\": 1282.6773738756726, \"param_const\": 1331.6862192716735, \"param_t\": -8.168140899333466, \"param_const_se\": 45.37973623643735, \"param_t_se\": 6.636781167640232}, {\"x1\": 347, \"y1\": 212, \"x2\": 360, \"y2\": 225, \"score\": 1.0, \"Diameter 1 (Pixels)\": 13, \"Diameter 2 (Pixels)\": 13, \"filename\": \"Well 4_s04t7c2.jpg\", \"parent_dir\": \"images/Matrigel coated plate 2/Well 4\", \"well\": 4, \"t\": 7, \"surface\": 530.929158456675, \"x\": 353.5, \"y\": 218.5, \"particle\": 2, \"y_hat\": 574.7718292667726, \"param_const\": 599.6951309852516, \"param_t\": -3.560471674068424, \"param_const_se\": 17.60429346328076, \"param_t_se\": 3.7300958099340034}, {\"x1\": 166, \"y1\": 192, \"x2\": 185, \"y2\": 210, \"score\": 0.9998741149902344, \"Diameter 1 (Pixels)\": 19, \"Diameter 2 (Pixels)\": 18, \"filename\": \"Well 4_s04t7c2.jpg\", \"parent_dir\": \"images/Matrigel coated plate 2/Well 4\", \"well\": 4, \"t\": 7, \"surface\": 1074.4246875277092, \"x\": 175.5, \"y\": 201.0, \"particle\": 3, \"y_hat\": 1079.6955818687322, \"param_const\": 1176.090116456379, \"param_t\": -13.770647798235274, \"param_const_se\": 19.047254396191352, \"param_t_se\": 3.1551952653287323}, {\"x1\": 201, \"y1\": 159, \"x2\": 216, \"y2\": 172, \"score\": 0.9999362230300904, \"Diameter 1 (Pixels)\": 15, \"Diameter 2 (Pixels)\": 13, \"filename\": \"Well 4_s04t7c2.jpg\", \"parent_dir\": \"images/Matrigel coated plate 2/Well 4\", \"well\": 4, \"t\": 7, \"surface\": 612.6105674500096, \"x\": 208.5, \"y\": 165.5, \"particle\": 6, \"y_hat\": 659.699550668817, \"param_const\": 713.5778646778817, \"param_t\": -7.696902001294966, \"param_const_se\": 9.406849929489539, \"param_t_se\": 2.4398400064218024}, {\"x1\": 277, \"y1\": 186, \"x2\": 294, \"y2\": 200, \"score\": 0.999958038330078, \"Diameter 1 (Pixels)\": 17, \"Diameter 2 (Pixels)\": 14, \"filename\": \"Well 4_s04t7c2.jpg\", \"parent_dir\": \"images/Matrigel coated plate 2/Well 4\", \"well\": 4, \"t\": 7, \"surface\": 747.6990515543707, \"x\": 285.5, \"y\": 193.0, \"particle\": 5, \"y_hat\": 770.9817437759751, \"param_const\": 925.2863029447936, \"param_t\": -22.043508452688357, \"param_const_se\": 45.64538481444974, \"param_t_se\": 6.508685006320297}, {\"x1\": 148, \"y1\": 339, \"x2\": 161, \"y2\": 352, \"score\": 0.9999805688858032, \"Diameter 1 (Pixels)\": 13, \"Diameter 2 (Pixels)\": 13, \"filename\": \"Well 4_s04t7c2.jpg\", \"parent_dir\": \"images/Matrigel coated plate 2/Well 4\", \"well\": 4, \"t\": 7, \"surface\": 530.929158456675, \"x\": 154.5, \"y\": 345.5, \"particle\": 9, \"y_hat\": 487.171260781674, \"param_const\": 476.9610846575073, \"param_t\": 1.4585965891666746, \"param_const_se\": 26.75608742676216, \"param_t_se\": 5.27827353957616}, {\"x1\": 160, \"y1\": 339, \"x2\": 174, \"y2\": 354, \"score\": 0.9999990463256836, \"Diameter 1 (Pixels)\": 14, \"Diameter 2 (Pixels)\": 15, \"filename\": \"Well 4_s04t7c2.jpg\", \"parent_dir\": \"images/Matrigel coated plate 2/Well 4\", \"well\": 4, \"t\": 7, \"surface\": 659.7344572538567, \"x\": 167.0, \"y\": 346.5, \"particle\": 10, \"y_hat\": 669.8324336403949, \"param_const\": 622.7085438365482, \"param_t\": 6.731984257692396, \"param_const_se\": 21.837468220614642, \"param_t_se\": 4.038003081253117}, {\"x1\": 304, \"y1\": 345, \"x2\": 324, \"y2\": 365, \"score\": 0.9999999403953552, \"Diameter 1 (Pixels)\": 20, \"Diameter 2 (Pixels)\": 20, \"filename\": \"Well 4_s04t7c2.jpg\", \"parent_dir\": \"images/Matrigel coated plate 2/Well 4\", \"well\": 4, \"t\": 7, \"surface\": 1256.6370614359173, \"x\": 314.0, \"y\": 355.0, \"particle\": 0, \"y_hat\": 1274.5092329763393, \"param_const\": 1331.6862192716735, \"param_t\": -8.168140899333466, \"param_const_se\": 45.37973623643735, \"param_t_se\": 6.636781167640232}, {\"x1\": 149, \"y1\": 339, \"x2\": 161, \"y2\": 352, \"score\": 0.9624755382537842, \"Diameter 1 (Pixels)\": 12, \"Diameter 2 (Pixels)\": 13, \"filename\": \"Well 4_s04t8c2.jpg\", \"parent_dir\": \"images/Matrigel coated plate 2/Well 4\", \"well\": 4, \"t\": 8, \"surface\": 490.0884539600077, \"x\": 155.0, \"y\": 345.5, \"particle\": 9, \"y_hat\": 488.6298573708407, \"param_const\": 476.9610846575073, \"param_t\": 1.4585965891666746, \"param_const_se\": 26.75608742676216, \"param_t_se\": 5.27827353957616}, {\"x1\": 160, \"y1\": 339, \"x2\": 175, \"y2\": 354, \"score\": 0.9808863997459412, \"Diameter 1 (Pixels)\": 15, \"Diameter 2 (Pixels)\": 15, \"filename\": \"Well 4_s04t8c2.jpg\", \"parent_dir\": \"images/Matrigel coated plate 2/Well 4\", \"well\": 4, \"t\": 8, \"surface\": 706.8583470577034, \"x\": 167.5, \"y\": 346.5, \"particle\": 10, \"y_hat\": 676.5644178980874, \"param_const\": 622.7085438365482, \"param_t\": 6.731984257692396, \"param_const_se\": 21.837468220614642, \"param_t_se\": 4.038003081253117}, {\"x1\": 166, \"y1\": 192, \"x2\": 185, \"y2\": 210, \"score\": 0.9997683763504028, \"Diameter 1 (Pixels)\": 19, \"Diameter 2 (Pixels)\": 18, \"filename\": \"Well 4_s04t8c2.jpg\", \"parent_dir\": \"images/Matrigel coated plate 2/Well 4\", \"well\": 4, \"t\": 8, \"surface\": 1074.4246875277092, \"x\": 175.5, \"y\": 201.0, \"particle\": 3, \"y_hat\": 1065.9249340704969, \"param_const\": 1176.090116456379, \"param_t\": -13.770647798235274, \"param_const_se\": 19.047254396191352, \"param_t_se\": 3.1551952653287323}, {\"x1\": 201, \"y1\": 159, \"x2\": 216, \"y2\": 173, \"score\": 0.9998302459716796, \"Diameter 1 (Pixels)\": 15, \"Diameter 2 (Pixels)\": 14, \"filename\": \"Well 4_s04t8c2.jpg\", \"parent_dir\": \"images/Matrigel coated plate 2/Well 4\", \"well\": 4, \"t\": 8, \"surface\": 659.7344572538567, \"x\": 208.5, \"y\": 166.0, \"particle\": 6, \"y_hat\": 652.002648667522, \"param_const\": 713.5778646778817, \"param_t\": -7.696902001294966, \"param_const_se\": 9.406849929489539, \"param_t_se\": 2.4398400064218024}, {\"x1\": 277, \"y1\": 186, \"x2\": 294, \"y2\": 200, \"score\": 0.9999998211860656, \"Diameter 1 (Pixels)\": 17, \"Diameter 2 (Pixels)\": 14, \"filename\": \"Well 4_s04t8c2.jpg\", \"parent_dir\": \"images/Matrigel coated plate 2/Well 4\", \"well\": 4, \"t\": 8, \"surface\": 747.6990515543707, \"x\": 285.5, \"y\": 193.0, \"particle\": 5, \"y_hat\": 748.9382353232868, \"param_const\": 925.2863029447936, \"param_t\": -22.043508452688357, \"param_const_se\": 45.64538481444974, \"param_t_se\": 6.508685006320297}, {\"x1\": 347, \"y1\": 211, \"x2\": 361, \"y2\": 225, \"score\": 0.9999999403953552, \"Diameter 1 (Pixels)\": 14, \"Diameter 2 (Pixels)\": 14, \"filename\": \"Well 4_s04t8c2.jpg\", \"parent_dir\": \"images/Matrigel coated plate 2/Well 4\", \"well\": 4, \"t\": 8, \"surface\": 615.7521601035994, \"x\": 354.0, \"y\": 218.0, \"particle\": 2, \"y_hat\": 571.2113575927042, \"param_const\": 599.6951309852516, \"param_t\": -3.560471674068424, \"param_const_se\": 17.60429346328076, \"param_t_se\": 3.7300958099340034}, {\"x1\": 304, \"y1\": 345, \"x2\": 324, \"y2\": 365, \"score\": 1.0, \"Diameter 1 (Pixels)\": 20, \"Diameter 2 (Pixels)\": 20, \"filename\": \"Well 4_s04t8c2.jpg\", \"parent_dir\": \"images/Matrigel coated plate 2/Well 4\", \"well\": 4, \"t\": 8, \"surface\": 1256.6370614359173, \"x\": 314.0, \"y\": 355.0, \"particle\": 0, \"y_hat\": 1266.3410920770057, \"param_const\": 1331.6862192716735, \"param_t\": -8.168140899333466, \"param_const_se\": 45.37973623643735, \"param_t_se\": 6.636781167640232}, {\"x1\": 166, \"y1\": 192, \"x2\": 185, \"y2\": 210, \"score\": 0.9978641271591188, \"Diameter 1 (Pixels)\": 19, \"Diameter 2 (Pixels)\": 18, \"filename\": \"Well 4_s04t9c2.jpg\", \"parent_dir\": \"images/Matrigel coated plate 2/Well 4\", \"well\": 4, \"t\": 9, \"surface\": 1074.4246875277092, \"x\": 175.5, \"y\": 201.0, \"particle\": 3, \"y_hat\": 1052.1542862722615, \"param_const\": 1176.090116456379, \"param_t\": -13.770647798235274, \"param_const_se\": 19.047254396191352, \"param_t_se\": 3.1551952653287323}, {\"x1\": 149, \"y1\": 339, \"x2\": 160, \"y2\": 352, \"score\": 0.9995293617248536, \"Diameter 1 (Pixels)\": 11, \"Diameter 2 (Pixels)\": 13, \"filename\": \"Well 4_s04t9c2.jpg\", \"parent_dir\": \"images/Matrigel coated plate 2/Well 4\", \"well\": 4, \"t\": 9, \"surface\": 449.24774946334037, \"x\": 154.5, \"y\": 345.5, \"particle\": 9, \"y_hat\": 490.08845396000737, \"param_const\": 476.9610846575073, \"param_t\": 1.4585965891666746, \"param_const_se\": 26.75608742676216, \"param_t_se\": 5.27827353957616}, {\"x1\": 161, \"y1\": 339, \"x2\": 175, \"y2\": 354, \"score\": 0.999896764755249, \"Diameter 1 (Pixels)\": 14, \"Diameter 2 (Pixels)\": 15, \"filename\": \"Well 4_s04t9c2.jpg\", \"parent_dir\": \"images/Matrigel coated plate 2/Well 4\", \"well\": 4, \"t\": 9, \"surface\": 659.7344572538567, \"x\": 168.0, \"y\": 346.5, \"particle\": 10, \"y_hat\": 683.2964021557798, \"param_const\": 622.7085438365482, \"param_t\": 6.731984257692396, \"param_const_se\": 21.837468220614642, \"param_t_se\": 4.038003081253117}, {\"x1\": 347, \"y1\": 212, \"x2\": 361, \"y2\": 225, \"score\": 1.0, \"Diameter 1 (Pixels)\": 14, \"Diameter 2 (Pixels)\": 13, \"filename\": \"Well 4_s04t9c2.jpg\", \"parent_dir\": \"images/Matrigel coated plate 2/Well 4\", \"well\": 4, \"t\": 9, \"surface\": 571.7698629533423, \"x\": 354.0, \"y\": 218.5, \"particle\": 2, \"y_hat\": 567.6508859186358, \"param_const\": 599.6951309852516, \"param_t\": -3.560471674068424, \"param_const_se\": 17.60429346328076, \"param_t_se\": 3.7300958099340034}, {\"x1\": 277, \"y1\": 186, \"x2\": 294, \"y2\": 200, \"score\": 0.9999998807907104, \"Diameter 1 (Pixels)\": 17, \"Diameter 2 (Pixels)\": 14, \"filename\": \"Well 4_s04t9c2.jpg\", \"parent_dir\": \"images/Matrigel coated plate 2/Well 4\", \"well\": 4, \"t\": 9, \"surface\": 747.6990515543707, \"x\": 285.5, \"y\": 193.0, \"particle\": 5, \"y_hat\": 726.8947268705984, \"param_const\": 925.2863029447936, \"param_t\": -22.043508452688357, \"param_const_se\": 45.64538481444974, \"param_t_se\": 6.508685006320297}, {\"x1\": 201, \"y1\": 159, \"x2\": 216, \"y2\": 173, \"score\": 0.9958660006523132, \"Diameter 1 (Pixels)\": 15, \"Diameter 2 (Pixels)\": 14, \"filename\": \"Well 4_s04t9c2.jpg\", \"parent_dir\": \"images/Matrigel coated plate 2/Well 4\", \"well\": 4, \"t\": 9, \"surface\": 659.7344572538567, \"x\": 208.5, \"y\": 166.0, \"particle\": 6, \"y_hat\": 644.305746666227, \"param_const\": 713.5778646778817, \"param_t\": -7.696902001294966, \"param_const_se\": 9.406849929489539, \"param_t_se\": 2.4398400064218024}, {\"x1\": 304, \"y1\": 345, \"x2\": 324, \"y2\": 365, \"score\": 0.9999997019767758, \"Diameter 1 (Pixels)\": 20, \"Diameter 2 (Pixels)\": 20, \"filename\": \"Well 4_s04t9c2.jpg\", \"parent_dir\": \"images/Matrigel coated plate 2/Well 4\", \"well\": 4, \"t\": 9, \"surface\": 1256.6370614359173, \"x\": 314.0, \"y\": 355.0, \"particle\": 0, \"y_hat\": 1258.1729511776723, \"param_const\": 1331.6862192716735, \"param_t\": -8.168140899333466, \"param_const_se\": 45.37973623643735, \"param_t_se\": 6.636781167640232}, {\"x1\": 158, \"y1\": 265, \"x2\": 173, \"y2\": 281, \"score\": 0.9790499210357666, \"Diameter 1 (Pixels)\": 15, \"Diameter 2 (Pixels)\": 16, \"filename\": \"Well 24_s24t1c2.jpg\", \"parent_dir\": \"images/Matrigel coated plate 2/Well 24\", \"well\": 24, \"t\": 1, \"surface\": 753.9822368615503, \"x\": 165.5, \"y\": 273.0, \"particle\": 1, \"y_hat\": 797.7401345365511, \"param_const\": 788.5397560510381, \"param_t\": 9.200378485513, \"param_const_se\": 36.75551066249736, \"param_t_se\": 8.561214952284118}, {\"x1\": 246, \"y1\": 246, \"x2\": 265, \"y2\": 267, \"score\": 0.9997227191925048, \"Diameter 1 (Pixels)\": 19, \"Diameter 2 (Pixels)\": 21, \"filename\": \"Well 24_s24t1c2.jpg\", \"parent_dir\": \"images/Matrigel coated plate 2/Well 24\", \"well\": 24, \"t\": 1, \"surface\": 1253.4954687823276, \"x\": 255.5, \"y\": 256.5, \"particle\": 4, \"y_hat\": 1299.851413715297, \"param_const\": 1219.1124825180393, \"param_t\": 80.73893119725773, \"param_const_se\": 31.386819382868165, \"param_t_se\": 4.784940932553022}, {\"x1\": 207, \"y1\": 228, \"x2\": 246, \"y2\": 269, \"score\": 0.9999927282333374, \"Diameter 1 (Pixels)\": 39, \"Diameter 2 (Pixels)\": 41, \"filename\": \"Well 24_s24t1c2.jpg\", \"parent_dir\": \"images/Matrigel coated plate 2/Well 24\", \"well\": 24, \"t\": 1, \"surface\": 5023.406653090079, \"x\": 226.5, \"y\": 248.5, \"particle\": 5, \"y_hat\": 5116.7468614867375, \"param_const\": 5040.249080371826, \"param_t\": 76.49778111491167, \"param_const_se\": 68.84790317417357, \"param_t_se\": 10.24822507298388}, {\"x1\": 345, \"y1\": 318, \"x2\": 364, \"y2\": 340, \"score\": 1.0, \"Diameter 1 (Pixels)\": 19, \"Diameter 2 (Pixels)\": 22, \"filename\": \"Well 24_s24t1c2.jpg\", \"parent_dir\": \"images/Matrigel coated plate 2/Well 24\", \"well\": 24, \"t\": 1, \"surface\": 1313.1857292005334, \"x\": 354.5, \"y\": 329.0, \"particle\": 6, \"y_hat\": 1197.9241853988278, \"param_const\": 1213.7892282994562, \"param_t\": -15.865042900628438, \"param_const_se\": 65.24023026164082, \"param_t_se\": 10.477925955117314}, {\"x1\": 245, \"y1\": 295, \"x2\": 269, \"y2\": 319, \"score\": 1.0, \"Diameter 1 (Pixels)\": 24, \"Diameter 2 (Pixels)\": 24, \"filename\": \"Well 24_s24t1c2.jpg\", \"parent_dir\": \"images/Matrigel coated plate 2/Well 24\", \"well\": 24, \"t\": 1, \"surface\": 1809.5573684677206, \"x\": 257.0, \"y\": 307.0, \"particle\": 7, \"y_hat\": 1700.7884494834343, \"param_const\": 1676.1269471527544, \"param_t\": 24.66150233067991, \"param_const_se\": 64.11550660558983, \"param_t_se\": 10.381385121368362}, {\"x1\": 157, \"y1\": 290, \"x2\": 187, \"y2\": 321, \"score\": 1.0, \"Diameter 1 (Pixels)\": 30, \"Diameter 2 (Pixels)\": 31, \"filename\": \"Well 24_s24t1c2.jpg\", \"parent_dir\": \"images/Matrigel coated plate 2/Well 24\", \"well\": 24, \"t\": 1, \"surface\": 2921.681167838508, \"x\": 172.0, \"y\": 305.5, \"particle\": 8, \"y_hat\": 2881.1895291922397, \"param_const\": 2821.7610681618326, \"param_t\": 59.428461030406964, \"param_const_se\": 29.73233000210561, \"param_t_se\": 5.59524649490438}, {\"x1\": 260, \"y1\": 201, \"x2\": 281, \"y2\": 222, \"score\": 0.9999999403953552, \"Diameter 1 (Pixels)\": 21, \"Diameter 2 (Pixels)\": 21, \"filename\": \"Well 24_s24t1c2.jpg\", \"parent_dir\": \"images/Matrigel coated plate 2/Well 24\", \"well\": 24, \"t\": 1, \"surface\": 1385.4423602330987, \"x\": 270.5, \"y\": 211.5, \"particle\": 9, \"y_hat\": 1375.1798242313723, \"param_const\": 1328.6318930806835, \"param_t\": 46.5479311506888, \"param_const_se\": 24.20015444292512, \"param_t_se\": 3.6745332421429544}, {\"x1\": 205, \"y1\": 226, \"x2\": 244, \"y2\": 268, \"score\": 0.9999996423721312, \"Diameter 1 (Pixels)\": 39, \"Diameter 2 (Pixels)\": 42, \"filename\": \"Well 24_s24t2c2.jpg\", \"parent_dir\": \"images/Matrigel coated plate 2/Well 24\", \"well\": 24, \"t\": 2, \"surface\": 5145.928766580081, \"x\": 224.5, \"y\": 247.0, \"particle\": 5, \"y_hat\": 5193.244642601649, \"param_const\": 5040.249080371826, \"param_t\": 76.49778111491167, \"param_const_se\": 68.84790317417357, \"param_t_se\": 10.24822507298388}, {\"x1\": 344, \"y1\": 317, \"x2\": 362, \"y2\": 338, \"score\": 1.0, \"Diameter 1 (Pixels)\": 18, \"Diameter 2 (Pixels)\": 21, \"filename\": \"Well 24_s24t2c2.jpg\", \"parent_dir\": \"images/Matrigel coated plate 2/Well 24\", \"well\": 24, \"t\": 2, \"surface\": 1187.522023056942, \"x\": 353.0, \"y\": 327.5, \"particle\": 6, \"y_hat\": 1182.0591424981994, \"param_const\": 1213.7892282994562, \"param_t\": -15.865042900628438, \"param_const_se\": 65.24023026164082, \"param_t_se\": 10.477925955117314}, {\"x1\": 156, \"y1\": 264, \"x2\": 171, \"y2\": 281, \"score\": 0.9206281900405884, \"Diameter 1 (Pixels)\": 15, \"Diameter 2 (Pixels)\": 17, \"filename\": \"Well 24_s24t2c2.jpg\", \"parent_dir\": \"images/Matrigel coated plate 2/Well 24\", \"well\": 24, \"t\": 2, \"surface\": 801.1061266653971, \"x\": 163.5, \"y\": 272.5, \"particle\": 1, \"y_hat\": 806.9405130220641, \"param_const\": 788.5397560510381, \"param_t\": 9.200378485513, \"param_const_se\": 36.75551066249736, \"param_t_se\": 8.561214952284118}, {\"x1\": 244, \"y1\": 244, \"x2\": 264, \"y2\": 266, \"score\": 0.9996484518051147, \"Diameter 1 (Pixels)\": 20, \"Diameter 2 (Pixels)\": 22, \"filename\": \"Well 24_s24t2c2.jpg\", \"parent_dir\": \"images/Matrigel coated plate 2/Well 24\", \"well\": 24, \"t\": 2, \"surface\": 1382.300767579509, \"x\": 254.0, \"y\": 255.0, \"particle\": 4, \"y_hat\": 1380.5903449125549, \"param_const\": 1219.1124825180393, \"param_t\": 80.73893119725773, \"param_const_se\": 31.386819382868165, \"param_t_se\": 4.784940932553022}, {\"x1\": 155, \"y1\": 288, \"x2\": 185, \"y2\": 319, \"score\": 0.9999869465827942, \"Diameter 1 (Pixels)\": 30, \"Diameter 2 (Pixels)\": 31, \"filename\": \"Well 24_s24t2c2.jpg\", \"parent_dir\": \"images/Matrigel coated plate 2/Well 24\", \"well\": 24, \"t\": 2, \"surface\": 2921.681167838508, \"x\": 170.0, \"y\": 303.5, \"particle\": 8, \"y_hat\": 2940.6179902226463, \"param_const\": 2821.7610681618326, \"param_t\": 59.428461030406964, \"param_const_se\": 29.73233000210561, \"param_t_se\": 5.59524649490438}, {\"x1\": 285, \"y1\": 278, \"x2\": 300, \"y2\": 295, \"score\": 0.9999958276748656, \"Diameter 1 (Pixels)\": 15, \"Diameter 2 (Pixels)\": 17, \"filename\": \"Well 24_s24t2c2.jpg\", \"parent_dir\": \"images/Matrigel coated plate 2/Well 24\", \"well\": 24, \"t\": 2, \"surface\": 801.1061266653971, \"x\": 292.5, \"y\": 286.5, \"particle\": 10, \"y_hat\": 724.4330537864812, \"param_const\": 653.9065752298059, \"param_t\": 35.263239278337636, \"param_const_se\": 69.28194014258675, \"param_t_se\": 10.055801291596717}, {\"x1\": 243, \"y1\": 294, \"x2\": 267, \"y2\": 316, \"score\": 1.0, \"Diameter 1 (Pixels)\": 24, \"Diameter 2 (Pixels)\": 22, \"filename\": \"Well 24_s24t2c2.jpg\", \"parent_dir\": \"images/Matrigel coated plate 2/Well 24\", \"well\": 24, \"t\": 2, \"surface\": 1658.7609210954108, \"x\": 255.0, \"y\": 305.0, \"particle\": 7, \"y_hat\": 1725.4499518141142, \"param_const\": 1676.1269471527544, \"param_t\": 24.66150233067991, \"param_const_se\": 64.11550660558983, \"param_t_se\": 10.381385121368362}, {\"x1\": 258, \"y1\": 200, \"x2\": 279, \"y2\": 221, \"score\": 0.9999998807907104, \"Diameter 1 (Pixels)\": 21, \"Diameter 2 (Pixels)\": 21, \"filename\": \"Well 24_s24t2c2.jpg\", \"parent_dir\": \"images/Matrigel coated plate 2/Well 24\", \"well\": 24, \"t\": 2, \"surface\": 1385.4423602330987, \"x\": 268.5, \"y\": 210.5, \"particle\": 9, \"y_hat\": 1421.727755382061, \"param_const\": 1328.6318930806835, \"param_t\": 46.5479311506888, \"param_const_se\": 24.20015444292512, \"param_t_se\": 3.6745332421429544}, {\"x1\": 285, \"y1\": 277, \"x2\": 299, \"y2\": 294, \"score\": 0.9668698310852052, \"Diameter 1 (Pixels)\": 14, \"Diameter 2 (Pixels)\": 17, \"filename\": \"Well 24_s24t3c2.jpg\", \"parent_dir\": \"images/Matrigel coated plate 2/Well 24\", \"well\": 24, \"t\": 3, \"surface\": 747.6990515543707, \"x\": 292.0, \"y\": 285.5, \"particle\": 10, \"y_hat\": 759.6962930648187, \"param_const\": 653.9065752298059, \"param_t\": 35.263239278337636, \"param_const_se\": 69.28194014258675, \"param_t_se\": 10.055801291596717}, {\"x1\": 155, \"y1\": 264, \"x2\": 171, \"y2\": 281, \"score\": 0.9995447397232056, \"Diameter 1 (Pixels)\": 16, \"Diameter 2 (Pixels)\": 17, \"filename\": \"Well 24_s24t3c2.jpg\", \"parent_dir\": \"images/Matrigel coated plate 2/Well 24\", \"well\": 24, \"t\": 3, \"surface\": 854.5132017764238, \"x\": 163.0, \"y\": 272.5, \"particle\": 1, \"y_hat\": 816.1408915075772, \"param_const\": 788.5397560510381, \"param_t\": 9.200378485513, \"param_const_se\": 36.75551066249736, \"param_t_se\": 8.561214952284118}, {\"x1\": 154, \"y1\": 288, \"x2\": 185, \"y2\": 319, \"score\": 0.9999996423721312, \"Diameter 1 (Pixels)\": 31, \"Diameter 2 (Pixels)\": 31, \"filename\": \"Well 24_s24t3c2.jpg\", \"parent_dir\": \"images/Matrigel coated plate 2/Well 24\", \"well\": 24, \"t\": 3, \"surface\": 3019.0705400997913, \"x\": 169.5, \"y\": 303.5, \"particle\": 8, \"y_hat\": 3000.0464512530534, \"param_const\": 2821.7610681618326, \"param_t\": 59.428461030406964, \"param_const_se\": 29.73233000210561, \"param_t_se\": 5.59524649490438}, {\"x1\": 244, \"y1\": 244, \"x2\": 265, \"y2\": 267, \"score\": 1.0, \"Diameter 1 (Pixels)\": 21, \"Diameter 2 (Pixels)\": 23, \"filename\": \"Well 24_s24t3c2.jpg\", \"parent_dir\": \"images/Matrigel coated plate 2/Well 24\", \"well\": 24, \"t\": 3, \"surface\": 1517.38925168387, \"x\": 254.5, \"y\": 255.5, \"particle\": 4, \"y_hat\": 1461.3292761098126, \"param_const\": 1219.1124825180393, \"param_t\": 80.73893119725773, \"param_const_se\": 31.386819382868165, \"param_t_se\": 4.784940932553022}, {\"x1\": 257, \"y1\": 199, \"x2\": 279, \"y2\": 221, \"score\": 1.0, \"Diameter 1 (Pixels)\": 22, \"Diameter 2 (Pixels)\": 22, \"filename\": \"Well 24_s24t3c2.jpg\", \"parent_dir\": \"images/Matrigel coated plate 2/Well 24\", \"well\": 24, \"t\": 3, \"surface\": 1520.53084433746, \"x\": 268.0, \"y\": 210.0, \"particle\": 9, \"y_hat\": 1468.27568653275, \"param_const\": 1328.6318930806835, \"param_t\": 46.5479311506888, \"param_const_se\": 24.20015444292512, \"param_t_se\": 3.6745332421429544}, {\"x1\": 205, \"y1\": 225, \"x2\": 245, \"y2\": 268, \"score\": 1.0, \"Diameter 1 (Pixels)\": 40, \"Diameter 2 (Pixels)\": 43, \"filename\": \"Well 24_s24t3c2.jpg\", \"parent_dir\": \"images/Matrigel coated plate 2/Well 24\", \"well\": 24, \"t\": 3, \"surface\": 5403.539364174444, \"x\": 225.0, \"y\": 246.5, \"particle\": 5, \"y_hat\": 5269.742423716561, \"param_const\": 5040.249080371826, \"param_t\": 76.49778111491167, \"param_const_se\": 68.84790317417357, \"param_t_se\": 10.24822507298388}, {\"x1\": 243, \"y1\": 293, \"x2\": 267, \"y2\": 316, \"score\": 1.0, \"Diameter 1 (Pixels)\": 24, \"Diameter 2 (Pixels)\": 23, \"filename\": \"Well 24_s24t3c2.jpg\", \"parent_dir\": \"images/Matrigel coated plate 2/Well 24\", \"well\": 24, \"t\": 3, \"surface\": 1734.1591447815658, \"x\": 255.0, \"y\": 304.5, \"particle\": 7, \"y_hat\": 1750.1114541447942, \"param_const\": 1676.1269471527544, \"param_t\": 24.66150233067991, \"param_const_se\": 64.11550660558983, \"param_t_se\": 10.381385121368362}, {\"x1\": 344, \"y1\": 317, \"x2\": 361, \"y2\": 338, \"score\": 1.0, \"Diameter 1 (Pixels)\": 17, \"Diameter 2 (Pixels)\": 21, \"filename\": \"Well 24_s24t3c2.jpg\", \"parent_dir\": \"images/Matrigel coated plate 2/Well 24\", \"well\": 24, \"t\": 3, \"surface\": 1121.5485773315559, \"x\": 352.5, \"y\": 327.5, \"particle\": 6, \"y_hat\": 1166.1940995975708, \"param_const\": 1213.7892282994562, \"param_t\": -15.865042900628438, \"param_const_se\": 65.24023026164082, \"param_t_se\": 10.477925955117314}, {\"x1\": 344, \"y1\": 317, \"x2\": 361, \"y2\": 337, \"score\": 1.0, \"Diameter 1 (Pixels)\": 17, \"Diameter 2 (Pixels)\": 20, \"filename\": \"Well 24_s24t4c2.jpg\", \"parent_dir\": \"images/Matrigel coated plate 2/Well 24\", \"well\": 24, \"t\": 4, \"surface\": 1068.1415022205297, \"x\": 352.5, \"y\": 327.0, \"particle\": 6, \"y_hat\": 1150.3290566969424, \"param_const\": 1213.7892282994562, \"param_t\": -15.865042900628438, \"param_const_se\": 65.24023026164082, \"param_t_se\": 10.477925955117314}, {\"x1\": 243, \"y1\": 293, \"x2\": 267, \"y2\": 316, \"score\": 1.0, \"Diameter 1 (Pixels)\": 24, \"Diameter 2 (Pixels)\": 23, \"filename\": \"Well 24_s24t4c2.jpg\", \"parent_dir\": \"images/Matrigel coated plate 2/Well 24\", \"well\": 24, \"t\": 4, \"surface\": 1734.1591447815658, \"x\": 255.0, \"y\": 304.5, \"particle\": 7, \"y_hat\": 1774.772956475474, \"param_const\": 1676.1269471527544, \"param_t\": 24.66150233067991, \"param_const_se\": 64.11550660558983, \"param_t_se\": 10.381385121368362}, {\"x1\": 154, \"y1\": 288, \"x2\": 185, \"y2\": 319, \"score\": 1.0, \"Diameter 1 (Pixels)\": 31, \"Diameter 2 (Pixels)\": 31, \"filename\": \"Well 24_s24t4c2.jpg\", \"parent_dir\": \"images/Matrigel coated plate 2/Well 24\", \"well\": 24, \"t\": 4, \"surface\": 3019.0705400997913, \"x\": 169.5, \"y\": 303.5, \"particle\": 8, \"y_hat\": 3059.4749122834605, \"param_const\": 2821.7610681618326, \"param_t\": 59.428461030406964, \"param_const_se\": 29.73233000210561, \"param_t_se\": 5.59524649490438}, {\"x1\": 257, \"y1\": 199, \"x2\": 279, \"y2\": 221, \"score\": 1.0, \"Diameter 1 (Pixels)\": 22, \"Diameter 2 (Pixels)\": 22, \"filename\": \"Well 24_s24t4c2.jpg\", \"parent_dir\": \"images/Matrigel coated plate 2/Well 24\", \"well\": 24, \"t\": 4, \"surface\": 1520.53084433746, \"x\": 268.0, \"y\": 210.0, \"particle\": 9, \"y_hat\": 1514.8236176834387, \"param_const\": 1328.6318930806835, \"param_t\": 46.5479311506888, \"param_const_se\": 24.20015444292512, \"param_t_se\": 3.6745332421429544}, {\"x1\": 244, \"y1\": 243, \"x2\": 265, \"y2\": 267, \"score\": 0.9999998807907104, \"Diameter 1 (Pixels)\": 21, \"Diameter 2 (Pixels)\": 24, \"filename\": \"Well 24_s24t4c2.jpg\", \"parent_dir\": \"images/Matrigel coated plate 2/Well 24\", \"well\": 24, \"t\": 4, \"surface\": 1583.3626974092556, \"x\": 254.5, \"y\": 255.0, \"particle\": 4, \"y_hat\": 1542.0682073070702, \"param_const\": 1219.1124825180393, \"param_t\": 80.73893119725773, \"param_const_se\": 31.386819382868165, \"param_t_se\": 4.784940932553022}, {\"x1\": 204, \"y1\": 225, \"x2\": 244, \"y2\": 268, \"score\": 0.9999998807907104, \"Diameter 1 (Pixels)\": 40, \"Diameter 2 (Pixels)\": 43, \"filename\": \"Well 24_s24t4c2.jpg\", \"parent_dir\": \"images/Matrigel coated plate 2/Well 24\", \"well\": 24, \"t\": 4, \"surface\": 5403.539364174444, \"x\": 224.0, \"y\": 246.5, \"particle\": 5, \"y_hat\": 5346.2402048314725, \"param_const\": 5040.249080371826, \"param_t\": 76.49778111491167, \"param_const_se\": 68.84790317417357, \"param_t_se\": 10.24822507298388}, {\"x1\": 155, \"y1\": 263, \"x2\": 171, \"y2\": 280, \"score\": 0.9936586618423462, \"Diameter 1 (Pixels)\": 16, \"Diameter 2 (Pixels)\": 17, \"filename\": \"Well 24_s24t4c2.jpg\", \"parent_dir\": \"images/Matrigel coated plate 2/Well 24\", \"well\": 24, \"t\": 4, \"surface\": 854.5132017764238, \"x\": 163.0, \"y\": 271.5, \"particle\": 1, \"y_hat\": 825.3412699930901, \"param_const\": 788.5397560510381, \"param_t\": 9.200378485513, \"param_const_se\": 36.75551066249736, \"param_t_se\": 8.561214952284118}, {\"x1\": 244, \"y1\": 243, \"x2\": 265, \"y2\": 267, \"score\": 1.0, \"Diameter 1 (Pixels)\": 21, \"Diameter 2 (Pixels)\": 24, \"filename\": \"Well 24_s24t5c2.jpg\", \"parent_dir\": \"images/Matrigel coated plate 2/Well 24\", \"well\": 24, \"t\": 5, \"surface\": 1583.3626974092556, \"x\": 254.5, \"y\": 255.0, \"particle\": 4, \"y_hat\": 1622.807138504328, \"param_const\": 1219.1124825180393, \"param_t\": 80.73893119725773, \"param_const_se\": 31.386819382868165, \"param_t_se\": 4.784940932553022}, {\"x1\": 257, \"y1\": 199, \"x2\": 279, \"y2\": 221, \"score\": 1.0, \"Diameter 1 (Pixels)\": 22, \"Diameter 2 (Pixels)\": 22, \"filename\": \"Well 24_s24t5c2.jpg\", \"parent_dir\": \"images/Matrigel coated plate 2/Well 24\", \"well\": 24, \"t\": 5, \"surface\": 1520.53084433746, \"x\": 268.0, \"y\": 210.0, \"particle\": 9, \"y_hat\": 1561.3715488341275, \"param_const\": 1328.6318930806835, \"param_t\": 46.5479311506888, \"param_const_se\": 24.20015444292512, \"param_t_se\": 3.6745332421429544}, {\"x1\": 154, \"y1\": 288, \"x2\": 185, \"y2\": 319, \"score\": 0.9999999403953552, \"Diameter 1 (Pixels)\": 31, \"Diameter 2 (Pixels)\": 31, \"filename\": \"Well 24_s24t5c2.jpg\", \"parent_dir\": \"images/Matrigel coated plate 2/Well 24\", \"well\": 24, \"t\": 5, \"surface\": 3019.0705400997913, \"x\": 169.5, \"y\": 303.5, \"particle\": 8, \"y_hat\": 3118.9033733138676, \"param_const\": 2821.7610681618326, \"param_t\": 59.428461030406964, \"param_const_se\": 29.73233000210561, \"param_t_se\": 5.59524649490438}, {\"x1\": 204, \"y1\": 225, \"x2\": 244, \"y2\": 268, \"score\": 0.9999998807907104, \"Diameter 1 (Pixels)\": 40, \"Diameter 2 (Pixels)\": 43, \"filename\": \"Well 24_s24t5c2.jpg\", \"parent_dir\": \"images/Matrigel coated plate 2/Well 24\", \"well\": 24, \"t\": 5, \"surface\": 5403.539364174444, \"x\": 224.0, \"y\": 246.5, \"particle\": 5, \"y_hat\": 5422.737985946384, \"param_const\": 5040.249080371826, \"param_t\": 76.49778111491167, \"param_const_se\": 68.84790317417357, \"param_t_se\": 10.24822507298388}, {\"x1\": 344, \"y1\": 317, \"x2\": 361, \"y2\": 337, \"score\": 0.9999997615814208, \"Diameter 1 (Pixels)\": 17, \"Diameter 2 (Pixels)\": 20, \"filename\": \"Well 24_s24t5c2.jpg\", \"parent_dir\": \"images/Matrigel coated plate 2/Well 24\", \"well\": 24, \"t\": 5, \"surface\": 1068.1415022205297, \"x\": 352.5, \"y\": 327.0, \"particle\": 6, \"y_hat\": 1134.464013796314, \"param_const\": 1213.7892282994562, \"param_t\": -15.865042900628438, \"param_const_se\": 65.24023026164082, \"param_t_se\": 10.477925955117314}, {\"x1\": 285, \"y1\": 277, \"x2\": 300, \"y2\": 293, \"score\": 0.9820520281791688, \"Diameter 1 (Pixels)\": 15, \"Diameter 2 (Pixels)\": 16, \"filename\": \"Well 24_s24t5c2.jpg\", \"parent_dir\": \"images/Matrigel coated plate 2/Well 24\", \"well\": 24, \"t\": 5, \"surface\": 753.9822368615503, \"x\": 292.5, \"y\": 285.0, \"particle\": 10, \"y_hat\": 830.2227716214941, \"param_const\": 653.9065752298059, \"param_t\": 35.263239278337636, \"param_const_se\": 69.28194014258675, \"param_t_se\": 10.055801291596717}, {\"x1\": 155, \"y1\": 263, \"x2\": 171, \"y2\": 280, \"score\": 0.9738435745239258, \"Diameter 1 (Pixels)\": 16, \"Diameter 2 (Pixels)\": 17, \"filename\": \"Well 24_s24t5c2.jpg\", \"parent_dir\": \"images/Matrigel coated plate 2/Well 24\", \"well\": 24, \"t\": 5, \"surface\": 854.5132017764238, \"x\": 163.0, \"y\": 271.5, \"particle\": 1, \"y_hat\": 834.5416484786031, \"param_const\": 788.5397560510381, \"param_t\": 9.200378485513, \"param_const_se\": 36.75551066249736, \"param_t_se\": 8.561214952284118}, {\"x1\": 242, \"y1\": 293, \"x2\": 267, \"y2\": 316, \"score\": 1.0, \"Diameter 1 (Pixels)\": 25, \"Diameter 2 (Pixels)\": 23, \"filename\": \"Well 24_s24t5c2.jpg\", \"parent_dir\": \"images/Matrigel coated plate 2/Well 24\", \"well\": 24, \"t\": 5, \"surface\": 1806.415775814131, \"x\": 254.5, \"y\": 304.5, \"particle\": 7, \"y_hat\": 1799.434458806154, \"param_const\": 1676.1269471527544, \"param_t\": 24.66150233067991, \"param_const_se\": 64.11550660558983, \"param_t_se\": 10.381385121368362}, {\"x1\": 155, \"y1\": 263, \"x2\": 171, \"y2\": 280, \"score\": 0.9960037469863892, \"Diameter 1 (Pixels)\": 16, \"Diameter 2 (Pixels)\": 17, \"filename\": \"Well 24_s24t6c2.jpg\", \"parent_dir\": \"images/Matrigel coated plate 2/Well 24\", \"well\": 24, \"t\": 6, \"surface\": 854.5132017764238, \"x\": 163.0, \"y\": 271.5, \"particle\": 1, \"y_hat\": 843.7420269641161, \"param_const\": 788.5397560510381, \"param_t\": 9.200378485513, \"param_const_se\": 36.75551066249736, \"param_t_se\": 8.561214952284118}, {\"x1\": 257, \"y1\": 199, \"x2\": 280, \"y2\": 221, \"score\": 1.0, \"Diameter 1 (Pixels)\": 23, \"Diameter 2 (Pixels)\": 22, \"filename\": \"Well 24_s24t6c2.jpg\", \"parent_dir\": \"images/Matrigel coated plate 2/Well 24\", \"well\": 24, \"t\": 6, \"surface\": 1589.6458827164356, \"x\": 268.5, \"y\": 210.0, \"particle\": 9, \"y_hat\": 1607.9194799848165, \"param_const\": 1328.6318930806835, \"param_t\": 46.5479311506888, \"param_const_se\": 24.20015444292512, \"param_t_se\": 3.6745332421429544}, {\"x1\": 285, \"y1\": 277, \"x2\": 300, \"y2\": 294, \"score\": 0.9988839626312256, \"Diameter 1 (Pixels)\": 15, \"Diameter 2 (Pixels)\": 17, \"filename\": \"Well 24_s24t6c2.jpg\", \"parent_dir\": \"images/Matrigel coated plate 2/Well 24\", \"well\": 24, \"t\": 6, \"surface\": 801.1061266653971, \"x\": 292.5, \"y\": 285.5, \"particle\": 10, \"y_hat\": 865.4860108998316, \"param_const\": 653.9065752298059, \"param_t\": 35.263239278337636, \"param_const_se\": 69.28194014258675, \"param_t_se\": 10.055801291596717}, {\"x1\": 344, \"y1\": 317, \"x2\": 361, \"y2\": 338, \"score\": 0.9999997615814208, \"Diameter 1 (Pixels)\": 17, \"Diameter 2 (Pixels)\": 21, \"filename\": \"Well 24_s24t6c2.jpg\", \"parent_dir\": \"images/Matrigel coated plate 2/Well 24\", \"well\": 24, \"t\": 6, \"surface\": 1121.5485773315559, \"x\": 352.5, \"y\": 327.5, \"particle\": 6, \"y_hat\": 1118.5989708956856, \"param_const\": 1213.7892282994562, \"param_t\": -15.865042900628438, \"param_const_se\": 65.24023026164082, \"param_t_se\": 10.477925955117314}, {\"x1\": 204, \"y1\": 225, \"x2\": 245, \"y2\": 268, \"score\": 0.9999998807907104, \"Diameter 1 (Pixels)\": 41, \"Diameter 2 (Pixels)\": 43, \"filename\": \"Well 24_s24t6c2.jpg\", \"parent_dir\": \"images/Matrigel coated plate 2/Well 24\", \"well\": 24, \"t\": 6, \"surface\": 5538.627848278807, \"x\": 224.5, \"y\": 246.5, \"particle\": 5, \"y_hat\": 5499.2357670612955, \"param_const\": 5040.249080371826, \"param_t\": 76.49778111491167, \"param_const_se\": 68.84790317417357, \"param_t_se\": 10.24822507298388}, {\"x1\": 154, \"y1\": 287, \"x2\": 186, \"y2\": 319, \"score\": 1.0, \"Diameter 1 (Pixels)\": 32, \"Diameter 2 (Pixels)\": 32, \"filename\": \"Well 24_s24t6c2.jpg\", \"parent_dir\": \"images/Matrigel coated plate 2/Well 24\", \"well\": 24, \"t\": 6, \"surface\": 3216.9908772759477, \"x\": 170.0, \"y\": 303.0, \"particle\": 8, \"y_hat\": 3178.3318343442743, \"param_const\": 2821.7610681618326, \"param_t\": 59.428461030406964, \"param_const_se\": 29.73233000210561, \"param_t_se\": 5.59524649490438}, {\"x1\": 244, \"y1\": 243, \"x2\": 266, \"y2\": 268, \"score\": 1.0, \"Diameter 1 (Pixels)\": 22, \"Diameter 2 (Pixels)\": 25, \"filename\": \"Well 24_s24t6c2.jpg\", \"parent_dir\": \"images/Matrigel coated plate 2/Well 24\", \"well\": 24, \"t\": 6, \"surface\": 1727.8759594743865, \"x\": 255.0, \"y\": 255.5, \"particle\": 4, \"y_hat\": 1703.5460697015856, \"param_const\": 1219.1124825180393, \"param_t\": 80.73893119725773, \"param_const_se\": 31.386819382868165, \"param_t_se\": 4.784940932553022}, {\"x1\": 242, \"y1\": 293, \"x2\": 267, \"y2\": 316, \"score\": 1.0, \"Diameter 1 (Pixels)\": 25, \"Diameter 2 (Pixels)\": 23, \"filename\": \"Well 24_s24t6c2.jpg\", \"parent_dir\": \"images/Matrigel coated plate 2/Well 24\", \"well\": 24, \"t\": 6, \"surface\": 1806.415775814131, \"x\": 254.5, \"y\": 304.5, \"particle\": 7, \"y_hat\": 1824.095961136834, \"param_const\": 1676.1269471527544, \"param_t\": 24.66150233067991, \"param_const_se\": 64.11550660558983, \"param_t_se\": 10.381385121368362}, {\"x1\": 154, \"y1\": 287, \"x2\": 187, \"y2\": 319, \"score\": 1.0, \"Diameter 1 (Pixels)\": 33, \"Diameter 2 (Pixels)\": 32, \"filename\": \"Well 24_s24t7c2.jpg\", \"parent_dir\": \"images/Matrigel coated plate 2/Well 24\", \"well\": 24, \"t\": 7, \"surface\": 3317.5218421908216, \"x\": 170.5, \"y\": 303.0, \"particle\": 8, \"y_hat\": 3237.7602953746814, \"param_const\": 2821.7610681618326, \"param_t\": 59.428461030406964, \"param_const_se\": 29.73233000210561, \"param_t_se\": 5.59524649490438}, {\"x1\": 204, \"y1\": 225, \"x2\": 245, \"y2\": 268, \"score\": 0.9999998807907104, \"Diameter 1 (Pixels)\": 41, \"Diameter 2 (Pixels)\": 43, \"filename\": \"Well 24_s24t7c2.jpg\", \"parent_dir\": \"images/Matrigel coated plate 2/Well 24\", \"well\": 24, \"t\": 7, \"surface\": 5538.627848278807, \"x\": 224.5, \"y\": 246.5, \"particle\": 5, \"y_hat\": 5575.7335481762075, \"param_const\": 5040.249080371826, \"param_t\": 76.49778111491167, \"param_const_se\": 68.84790317417357, \"param_t_se\": 10.24822507298388}, {\"x1\": 244, \"y1\": 243, \"x2\": 266, \"y2\": 268, \"score\": 1.0, \"Diameter 1 (Pixels)\": 22, \"Diameter 2 (Pixels)\": 25, \"filename\": \"Well 24_s24t7c2.jpg\", \"parent_dir\": \"images/Matrigel coated plate 2/Well 24\", \"well\": 24, \"t\": 7, \"surface\": 1727.8759594743865, \"x\": 255.0, \"y\": 255.5, \"particle\": 4, \"y_hat\": 1784.2850008988435, \"param_const\": 1219.1124825180393, \"param_t\": 80.73893119725773, \"param_const_se\": 31.386819382868165, \"param_t_se\": 4.784940932553022}, {\"x1\": 257, \"y1\": 199, \"x2\": 280, \"y2\": 222, \"score\": 1.0, \"Diameter 1 (Pixels)\": 23, \"Diameter 2 (Pixels)\": 23, \"filename\": \"Well 24_s24t7c2.jpg\", \"parent_dir\": \"images/Matrigel coated plate 2/Well 24\", \"well\": 24, \"t\": 7, \"surface\": 1661.9025137490005, \"x\": 268.5, \"y\": 210.5, \"particle\": 9, \"y_hat\": 1654.4674111355052, \"param_const\": 1328.6318930806835, \"param_t\": 46.5479311506888, \"param_const_se\": 24.20015444292512, \"param_t_se\": 3.6745332421429544}, {\"x1\": 284, \"y1\": 276, \"x2\": 300, \"y2\": 294, \"score\": 0.9982527494430542, \"Diameter 1 (Pixels)\": 16, \"Diameter 2 (Pixels)\": 18, \"filename\": \"Well 24_s24t7c2.jpg\", \"parent_dir\": \"images/Matrigel coated plate 2/Well 24\", \"well\": 24, \"t\": 7, \"surface\": 904.7786842338603, \"x\": 292.0, \"y\": 285.0, \"particle\": 10, \"y_hat\": 900.7492501781693, \"param_const\": 653.9065752298059, \"param_t\": 35.263239278337636, \"param_const_se\": 69.28194014258675, \"param_t_se\": 10.055801291596717}, {\"x1\": 155, \"y1\": 263, \"x2\": 171, \"y2\": 279, \"score\": 0.9914004802703856, \"Diameter 1 (Pixels)\": 16, \"Diameter 2 (Pixels)\": 16, \"filename\": \"Well 24_s24t7c2.jpg\", \"parent_dir\": \"images/Matrigel coated plate 2/Well 24\", \"well\": 24, \"t\": 7, \"surface\": 804.2477193189869, \"x\": 163.0, \"y\": 271.0, \"particle\": 1, \"y_hat\": 852.9424054496292, \"param_const\": 788.5397560510381, \"param_t\": 9.200378485513, \"param_const_se\": 36.75551066249736, \"param_t_se\": 8.561214952284118}, {\"x1\": 242, \"y1\": 293, \"x2\": 267, \"y2\": 316, \"score\": 1.0, \"Diameter 1 (Pixels)\": 25, \"Diameter 2 (Pixels)\": 23, \"filename\": \"Well 24_s24t7c2.jpg\", \"parent_dir\": \"images/Matrigel coated plate 2/Well 24\", \"well\": 24, \"t\": 7, \"surface\": 1806.415775814131, \"x\": 254.5, \"y\": 304.5, \"particle\": 7, \"y_hat\": 1848.7574634675138, \"param_const\": 1676.1269471527544, \"param_t\": 24.66150233067991, \"param_const_se\": 64.11550660558983, \"param_t_se\": 10.381385121368362}, {\"x1\": 344, \"y1\": 317, \"x2\": 361, \"y2\": 337, \"score\": 1.0, \"Diameter 1 (Pixels)\": 17, \"Diameter 2 (Pixels)\": 20, \"filename\": \"Well 24_s24t7c2.jpg\", \"parent_dir\": \"images/Matrigel coated plate 2/Well 24\", \"well\": 24, \"t\": 7, \"surface\": 1068.1415022205297, \"x\": 352.5, \"y\": 327.0, \"particle\": 6, \"y_hat\": 1102.7339279950572, \"param_const\": 1213.7892282994562, \"param_t\": -15.865042900628438, \"param_const_se\": 65.24023026164082, \"param_t_se\": 10.477925955117314}, {\"x1\": 242, \"y1\": 293, \"x2\": 268, \"y2\": 316, \"score\": 1.0, \"Diameter 1 (Pixels)\": 26, \"Diameter 2 (Pixels)\": 23, \"filename\": \"Well 24_s24t8c2.jpg\", \"parent_dir\": \"images/Matrigel coated plate 2/Well 24\", \"well\": 24, \"t\": 8, \"surface\": 1878.6724068466965, \"x\": 255.0, \"y\": 304.5, \"particle\": 7, \"y_hat\": 1873.4189657981938, \"param_const\": 1676.1269471527544, \"param_t\": 24.66150233067991, \"param_const_se\": 64.11550660558983, \"param_t_se\": 10.381385121368362}, {\"x1\": 284, \"y1\": 276, \"x2\": 301, \"y2\": 294, \"score\": 0.999986469745636, \"Diameter 1 (Pixels)\": 17, \"Diameter 2 (Pixels)\": 18, \"filename\": \"Well 24_s24t8c2.jpg\", \"parent_dir\": \"images/Matrigel coated plate 2/Well 24\", \"well\": 24, \"t\": 8, \"surface\": 961.3273519984767, \"x\": 292.5, \"y\": 285.0, \"particle\": 10, \"y_hat\": 936.012489456507, \"param_const\": 653.9065752298059, \"param_t\": 35.263239278337636, \"param_const_se\": 69.28194014258675, \"param_t_se\": 10.055801291596717}, {\"x1\": 154, \"y1\": 287, \"x2\": 187, \"y2\": 319, \"score\": 1.0, \"Diameter 1 (Pixels)\": 33, \"Diameter 2 (Pixels)\": 32, \"filename\": \"Well 24_s24t8c2.jpg\", \"parent_dir\": \"images/Matrigel coated plate 2/Well 24\", \"well\": 24, \"t\": 8, \"surface\": 3317.5218421908216, \"x\": 170.5, \"y\": 303.0, \"particle\": 8, \"y_hat\": 3297.1887564050885, \"param_const\": 2821.7610681618326, \"param_t\": 59.428461030406964, \"param_const_se\": 29.73233000210561, \"param_t_se\": 5.59524649490438}, {\"x1\": 203, \"y1\": 225, \"x2\": 245, \"y2\": 268, \"score\": 1.0, \"Diameter 1 (Pixels)\": 42, \"Diameter 2 (Pixels)\": 43, \"filename\": \"Well 24_s24t8c2.jpg\", \"parent_dir\": \"images/Matrigel coated plate 2/Well 24\", \"well\": 24, \"t\": 8, \"surface\": 5673.716332383166, \"x\": 224.0, \"y\": 246.5, \"particle\": 5, \"y_hat\": 5652.2313292911185, \"param_const\": 5040.249080371826, \"param_t\": 76.49778111491167, \"param_const_se\": 68.84790317417357, \"param_t_se\": 10.24822507298388}, {\"x1\": 343, \"y1\": 317, \"x2\": 361, \"y2\": 337, \"score\": 1.0, \"Diameter 1 (Pixels)\": 18, \"Diameter 2 (Pixels)\": 20, \"filename\": \"Well 24_s24t8c2.jpg\", \"parent_dir\": \"images/Matrigel coated plate 2/Well 24\", \"well\": 24, \"t\": 8, \"surface\": 1130.9733552923256, \"x\": 352.0, \"y\": 327.0, \"particle\": 6, \"y_hat\": 1086.8688850944286, \"param_const\": 1213.7892282994562, \"param_t\": -15.865042900628438, \"param_const_se\": 65.24023026164082, \"param_t_se\": 10.477925955117314}, {\"x1\": 244, \"y1\": 242, \"x2\": 267, \"y2\": 268, \"score\": 1.0, \"Diameter 1 (Pixels)\": 23, \"Diameter 2 (Pixels)\": 26, \"filename\": \"Well 24_s24t8c2.jpg\", \"parent_dir\": \"images/Matrigel coated plate 2/Well 24\", \"well\": 24, \"t\": 8, \"surface\": 1878.6724068466965, \"x\": 255.5, \"y\": 255.0, \"particle\": 4, \"y_hat\": 1865.0239320961011, \"param_const\": 1219.1124825180393, \"param_t\": 80.73893119725773, \"param_const_se\": 31.386819382868165, \"param_t_se\": 4.784940932553022}, {\"x1\": 256, \"y1\": 199, \"x2\": 280, \"y2\": 222, \"score\": 1.0, \"Diameter 1 (Pixels)\": 24, \"Diameter 2 (Pixels)\": 23, \"filename\": \"Well 24_s24t8c2.jpg\", \"parent_dir\": \"images/Matrigel coated plate 2/Well 24\", \"well\": 24, \"t\": 8, \"surface\": 1734.1591447815658, \"x\": 268.0, \"y\": 210.5, \"particle\": 9, \"y_hat\": 1701.015342286194, \"param_const\": 1328.6318930806835, \"param_t\": 46.5479311506888, \"param_const_se\": 24.20015444292512, \"param_t_se\": 3.6745332421429544}, {\"x1\": 256, \"y1\": 199, \"x2\": 280, \"y2\": 222, \"score\": 1.0, \"Diameter 1 (Pixels)\": 24, \"Diameter 2 (Pixels)\": 23, \"filename\": \"Well 24_s24t9c2.jpg\", \"parent_dir\": \"images/Matrigel coated plate 2/Well 24\", \"well\": 24, \"t\": 9, \"surface\": 1734.1591447815658, \"x\": 268.0, \"y\": 210.5, \"particle\": 9, \"y_hat\": 1747.5632734368828, \"param_const\": 1328.6318930806835, \"param_t\": 46.5479311506888, \"param_const_se\": 24.20015444292512, \"param_t_se\": 3.6745332421429544}, {\"x1\": 242, \"y1\": 293, \"x2\": 268, \"y2\": 317, \"score\": 1.0, \"Diameter 1 (Pixels)\": 26, \"Diameter 2 (Pixels)\": 24, \"filename\": \"Well 24_s24t9c2.jpg\", \"parent_dir\": \"images/Matrigel coated plate 2/Well 24\", \"well\": 24, \"t\": 9, \"surface\": 1960.3538158400308, \"x\": 255.0, \"y\": 305.0, \"particle\": 7, \"y_hat\": 1898.0804681288737, \"param_const\": 1676.1269471527544, \"param_t\": 24.66150233067991, \"param_const_se\": 64.11550660558983, \"param_t_se\": 10.381385121368362}, {\"x1\": 343, \"y1\": 317, \"x2\": 361, \"y2\": 337, \"score\": 1.0, \"Diameter 1 (Pixels)\": 18, \"Diameter 2 (Pixels)\": 20, \"filename\": \"Well 24_s24t9c2.jpg\", \"parent_dir\": \"images/Matrigel coated plate 2/Well 24\", \"well\": 24, \"t\": 9, \"surface\": 1130.9733552923256, \"x\": 352.0, \"y\": 327.0, \"particle\": 6, \"y_hat\": 1071.0038421938002, \"param_const\": 1213.7892282994562, \"param_t\": -15.865042900628438, \"param_const_se\": 65.24023026164082, \"param_t_se\": 10.477925955117314}, {\"x1\": 244, \"y1\": 242, \"x2\": 267, \"y2\": 269, \"score\": 1.0, \"Diameter 1 (Pixels)\": 23, \"Diameter 2 (Pixels)\": 27, \"filename\": \"Well 24_s24t9c2.jpg\", \"parent_dir\": \"images/Matrigel coated plate 2/Well 24\", \"well\": 24, \"t\": 9, \"surface\": 1950.9290378792614, \"x\": 255.5, \"y\": 255.5, \"particle\": 4, \"y_hat\": 1945.7628632933588, \"param_const\": 1219.1124825180393, \"param_t\": 80.73893119725773, \"param_const_se\": 31.386819382868165, \"param_t_se\": 4.784940932553022}, {\"x1\": 154, \"y1\": 287, \"x2\": 187, \"y2\": 319, \"score\": 1.0, \"Diameter 1 (Pixels)\": 33, \"Diameter 2 (Pixels)\": 32, \"filename\": \"Well 24_s24t9c2.jpg\", \"parent_dir\": \"images/Matrigel coated plate 2/Well 24\", \"well\": 24, \"t\": 9, \"surface\": 3317.5218421908216, \"x\": 170.5, \"y\": 303.0, \"particle\": 8, \"y_hat\": 3356.617217435495, \"param_const\": 2821.7610681618326, \"param_t\": 59.428461030406964, \"param_const_se\": 29.73233000210561, \"param_t_se\": 5.59524649490438}, {\"x1\": 203, \"y1\": 225, \"x2\": 245, \"y2\": 268, \"score\": 0.9999998807907104, \"Diameter 1 (Pixels)\": 42, \"Diameter 2 (Pixels)\": 43, \"filename\": \"Well 24_s24t9c2.jpg\", \"parent_dir\": \"images/Matrigel coated plate 2/Well 24\", \"well\": 24, \"t\": 9, \"surface\": 5673.716332383166, \"x\": 224.0, \"y\": 246.5, \"particle\": 5, \"y_hat\": 5728.7291104060305, \"param_const\": 5040.249080371826, \"param_t\": 76.49778111491167, \"param_const_se\": 68.84790317417357, \"param_t_se\": 10.24822507298388}, {\"x1\": 283, \"y1\": 276, \"x2\": 301, \"y2\": 294, \"score\": 0.9999996423721312, \"Diameter 1 (Pixels)\": 18, \"Diameter 2 (Pixels)\": 18, \"filename\": \"Well 24_s24t9c2.jpg\", \"parent_dir\": \"images/Matrigel coated plate 2/Well 24\", \"well\": 24, \"t\": 9, \"surface\": 1017.8760197630928, \"x\": 292.0, \"y\": 285.0, \"particle\": 10, \"y_hat\": 971.2757287348446, \"param_const\": 653.9065752298059, \"param_t\": 35.263239278337636, \"param_const_se\": 69.28194014258675, \"param_t_se\": 10.055801291596717}], \"data-98d030eb39e83cc234bb701c8fb36902\": [{\"well\": 4, \"particle\": 0, \"param_t\": -8.168140899333466, \"rank\": 3.0}, {\"well\": 4, \"particle\": 2, \"param_t\": -3.560471674068424, \"rank\": 5.0}, {\"well\": 4, \"particle\": 3, \"param_t\": -13.770647798235274, \"rank\": 2.0}, {\"well\": 4, \"particle\": 5, \"param_t\": -22.043508452688357, \"rank\": 1.0}, {\"well\": 4, \"particle\": 6, \"param_t\": -7.696902001294966, \"rank\": 4.0}, {\"well\": 4, \"particle\": 10, \"param_t\": 6.731984257692396, \"rank\": 7.0}, {\"well\": 4, \"particle\": 9, \"param_t\": 1.4585965891666746, \"rank\": 6.0}, {\"well\": 24, \"particle\": 1, \"param_t\": 9.200378485513, \"rank\": 2.0}, {\"well\": 24, \"particle\": 4, \"param_t\": 80.73893119725773, \"rank\": 8.0}, {\"well\": 24, \"particle\": 5, \"param_t\": 76.49778111491167, \"rank\": 7.0}, {\"well\": 24, \"particle\": 6, \"param_t\": -15.865042900628438, \"rank\": 1.0}, {\"well\": 24, \"particle\": 7, \"param_t\": 24.66150233067991, \"rank\": 3.0}, {\"well\": 24, \"particle\": 8, \"param_t\": 59.428461030406964, \"rank\": 6.0}, {\"well\": 24, \"particle\": 9, \"param_t\": 46.5479311506888, \"rank\": 5.0}, {\"well\": 24, \"particle\": 10, \"param_t\": 35.263239278337636, \"rank\": 4.0}]}}, {\"mode\": \"vega-lite\"});\n",
              "</script>"
            ]
          },
          "metadata": {
            "tags": []
          }
        }
      ]
    },
    {
      "cell_type": "markdown",
      "metadata": {
        "id": "_9QMpf9LDCNG",
        "colab_type": "text"
      },
      "source": [
        "## 5. Save output graph and output summary"
      ]
    },
    {
      "cell_type": "code",
      "metadata": {
        "id": "LFkqbti_QnY7",
        "colab_type": "code",
        "outputId": "ffc3c200-4cff-4353-a839-494feb5fff82",
        "colab": {
          "base_uri": "https://localhost:8080/",
          "height": 369
        }
      },
      "source": [
        "# Save summary graphs\n",
        "df.groupby('well').apply(graphical_well_summary)\n",
        "\n",
        "# Save output\n",
        "df_summ = df[['well','particle','param_t']].drop_duplicates().copy()\n",
        "df_summ.to_csv(folder_path / 'output_summary.csv', index=False, sep=';')\n",
        "\n",
        "# Save summary graph\n",
        "summary_graph(df_summ, folder_path)"
      ],
      "execution_count": 9,
      "outputs": [
        {
          "output_type": "display_data",
          "data": {
            "text/plain": [
              "alt.LayerChart(...)"
            ],
            "text/html": [
              "\n",
              "<div id=\"altair-viz-2\"></div>\n",
              "<script type=\"text/javascript\">\n",
              "  (function(spec, embedOpt){\n",
              "    const outputDiv = document.getElementById(\"altair-viz-2\");\n",
              "    const paths = {\n",
              "      \"vega\": \"https://cdn.jsdelivr.net/npm//vega@5?noext\",\n",
              "      \"vega-lib\": \"https://cdn.jsdelivr.net/npm//vega-lib?noext\",\n",
              "      \"vega-lite\": \"https://cdn.jsdelivr.net/npm//vega-lite@4.0.0?noext\",\n",
              "      \"vega-embed\": \"https://cdn.jsdelivr.net/npm//vega-embed@6?noext\",\n",
              "    };\n",
              "\n",
              "    function loadScript(lib) {\n",
              "      return new Promise(function(resolve, reject) {\n",
              "        var s = document.createElement('script');\n",
              "        s.src = paths[lib];\n",
              "        s.async = true;\n",
              "        s.onload = () => resolve(paths[lib]);\n",
              "        s.onerror = () => reject(`Error loading script: ${paths[lib]}`);\n",
              "        document.getElementsByTagName(\"head\")[0].appendChild(s);\n",
              "      });\n",
              "    }\n",
              "\n",
              "    function showError(err) {\n",
              "      outputDiv.innerHTML = `<div class=\"error\" style=\"color:red;\">${err}</div>`;\n",
              "      throw err;\n",
              "    }\n",
              "\n",
              "    function displayChart(vegaEmbed) {\n",
              "      vegaEmbed(outputDiv, spec, embedOpt)\n",
              "        .catch(err => showError(`Javascript Error: ${err.message}<br>This usually means there's a typo in your chart specification. See the javascript console for the full traceback.`));\n",
              "    }\n",
              "\n",
              "    if(typeof define === \"function\" && define.amd) {\n",
              "      requirejs.config({paths});\n",
              "      require([\"vega-embed\"], displayChart, err => showError(`Error loading script: ${err.message}`));\n",
              "    } else if (typeof vegaEmbed === \"function\") {\n",
              "      displayChart(vegaEmbed);\n",
              "    } else {\n",
              "      loadScript(\"vega\")\n",
              "        .then(() => loadScript(\"vega-lite\"))\n",
              "        .then(() => loadScript(\"vega-embed\"))\n",
              "        .catch(showError)\n",
              "        .then(() => displayChart(vegaEmbed));\n",
              "    }\n",
              "  })({\"config\": {\"view\": {\"continuousWidth\": 400, \"continuousHeight\": 300}}, \"layer\": [{\"mark\": {\"type\": \"errorbar\", \"extent\": \"ci\"}, \"encoding\": {\"x\": {\"type\": \"nominal\", \"field\": \"well\"}, \"y\": {\"type\": \"quantitative\", \"field\": \"param_t\", \"title\": null}}}, {\"mark\": {\"type\": \"point\", \"color\": \"black\", \"filled\": true}, \"encoding\": {\"tooltip\": [{\"type\": \"quantitative\", \"aggregate\": \"count\", \"field\": \"param_t\", \"title\": \"n particles\"}, {\"type\": \"quantitative\", \"field\": \"well\"}], \"x\": {\"type\": \"nominal\", \"field\": \"well\"}, \"y\": {\"type\": \"quantitative\", \"aggregate\": \"mean\", \"field\": \"param_t\", \"title\": \"Swell rate (Pixel^2 / Frame)\"}}}, {\"mark\": {\"type\": \"rule\", \"color\": \"r\"}, \"encoding\": {\"x\": {\"type\": \"nominal\", \"field\": \"well\"}, \"y\": {\"type\": \"quantitative\", \"field\": \"ruler\"}}}], \"data\": {\"name\": \"data-cb149824d244877afd73c9faa3212748\"}, \"$schema\": \"https://vega.github.io/schema/vega-lite/v4.0.0.json\", \"datasets\": {\"data-cb149824d244877afd73c9faa3212748\": [{\"well\": 4, \"particle\": 0, \"param_t\": -8.168140899333466, \"ruler\": 0}, {\"well\": 4, \"particle\": 2, \"param_t\": -3.560471674068424, \"ruler\": 0}, {\"well\": 4, \"particle\": 3, \"param_t\": -13.770647798235274, \"ruler\": 0}, {\"well\": 4, \"particle\": 5, \"param_t\": -22.043508452688357, \"ruler\": 0}, {\"well\": 4, \"particle\": 6, \"param_t\": -7.696902001294966, \"ruler\": 0}, {\"well\": 4, \"particle\": 10, \"param_t\": 6.731984257692396, \"ruler\": 0}, {\"well\": 4, \"particle\": 9, \"param_t\": 1.4585965891666746, \"ruler\": 0}, {\"well\": 17, \"particle\": 0, \"param_t\": 25.080381351158564, \"ruler\": 0}, {\"well\": 17, \"particle\": 4, \"param_t\": -3.8916125213386756, \"ruler\": 0}, {\"well\": 17, \"particle\": 6, \"param_t\": 38.74630939427415, \"ruler\": 0}, {\"well\": 17, \"particle\": 8, \"param_t\": 41.99262180298365, \"ruler\": 0}, {\"well\": 17, \"particle\": 9, \"param_t\": 8.325220532012963, \"ruler\": 0}, {\"well\": 17, \"particle\": 11, \"param_t\": 15.857562918119875, \"ruler\": 0}, {\"well\": 17, \"particle\": 10, \"param_t\": 1.6455961518803406, \"ruler\": 0}, {\"well\": 24, \"particle\": 1, \"param_t\": 9.200378485513, \"ruler\": 0}, {\"well\": 24, \"particle\": 4, \"param_t\": 80.73893119725773, \"ruler\": 0}, {\"well\": 24, \"particle\": 5, \"param_t\": 76.49778111491167, \"ruler\": 0}, {\"well\": 24, \"particle\": 6, \"param_t\": -15.865042900628438, \"ruler\": 0}, {\"well\": 24, \"particle\": 7, \"param_t\": 24.66150233067991, \"ruler\": 0}, {\"well\": 24, \"particle\": 8, \"param_t\": 59.428461030406964, \"ruler\": 0}, {\"well\": 24, \"particle\": 9, \"param_t\": 46.5479311506888, \"ruler\": 0}, {\"well\": 24, \"particle\": 10, \"param_t\": 35.263239278337636, \"ruler\": 0}, {\"well\": 28, \"particle\": 0, \"param_t\": 61.82051845043475, \"ruler\": 0}, {\"well\": 28, \"particle\": 7, \"param_t\": 14.451326206513045, \"ruler\": 0}, {\"well\": 28, \"particle\": 9, \"param_t\": 19.522754347307995, \"ruler\": 0}]}}, {\"mode\": \"vega-lite\"});\n",
              "</script>"
            ]
          },
          "metadata": {
            "tags": []
          }
        }
      ]
    }
  ]
}